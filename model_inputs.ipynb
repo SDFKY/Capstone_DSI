{
 "cells": [
  {
   "cell_type": "code",
   "execution_count": 1,
   "metadata": {},
   "outputs": [],
   "source": [
    "import pandas as pd\n",
    "import numpy as np\n",
    "import matplotlib.pyplot as plt\n",
    "import seaborn as sns"
   ]
  },
  {
   "cell_type": "code",
   "execution_count": 2,
   "metadata": {},
   "outputs": [],
   "source": [
    "df = pd.read_csv('./dataset_diabetes/diabetic_data.csv')"
   ]
  },
  {
   "cell_type": "code",
   "execution_count": 3,
   "metadata": {
    "scrolled": true
   },
   "outputs": [],
   "source": [
    "\n",
    "drugs = ['metformin', 'repaglinide', 'nateglinide', 'chlorpropamide',\n",
    "       'glimepiride', 'acetohexamide', 'glipizide', 'glyburide', 'tolbutamide',\n",
    "       'pioglitazone', 'rosiglitazone', 'acarbose', 'miglitol', 'troglitazone',\n",
    "       'tolazamide', 'examide', 'citoglipton', 'insulin',\n",
    "       'glyburide-metformin', 'glipizide-metformin',\n",
    "       'glimepiride-pioglitazone', 'metformin-rosiglitazone',\n",
    "       'metformin-pioglitazone']\n",
    "\n",
    "\n",
    "\n",
    "for x in df:\n",
    "    count = 0\n",
    "    for drug in drugs:\n",
    "        count = count + (df[drug] =='Up')\n",
    "    df['Up'] = count\n",
    "\n",
    "for x in df:\n",
    "    count = 0\n",
    "    for drug in drugs:\n",
    "        count = count + (df[drug] =='Steady')\n",
    "    df['Steady'] = count\n",
    "\n",
    "for x in df:\n",
    "    count = 0\n",
    "    for drug in drugs:\n",
    "        count = count + (df[drug] =='Down')\n",
    "    df['Down'] = count\n"
   ]
  },
  {
   "cell_type": "code",
   "execution_count": 4,
   "metadata": {},
   "outputs": [],
   "source": [
    "### Counting the number of disgnosis for each row and storing in a new column, 'diagnosis_count'\n",
    "isY = lambda x:int(x!='?')\n",
    "countDiagnosis = lambda row: isY(row['diag_1']) + isY(row['diag_2']) + isY(row['diag_3'])\n",
    "df['diagnosis_count'] = df.apply(countDiagnosis,axis=1)"
   ]
  },
  {
   "cell_type": "markdown",
   "metadata": {},
   "source": [
    "Converting drug outcome to numeric."
   ]
  },
  {
   "cell_type": "code",
   "execution_count": 5,
   "metadata": {
    "scrolled": true
   },
   "outputs": [],
   "source": [
    "### Creating a list of drugs ###\n",
    "\n",
    "features = ['metformin', 'repaglinide', 'nateglinide', 'chlorpropamide','glimepiride', \n",
    "            'acetohexamide', 'glipizide', 'glyburide', 'tolbutamide','pioglitazone', \n",
    "            'rosiglitazone', 'acarbose', 'miglitol', 'troglitazone','tolazamide', \n",
    "            'examide', 'citoglipton', 'insulin','glyburide-metformin', \n",
    "            'glipizide-metformin','glimepiride-pioglitazone', 'metformin-rosiglitazone',\n",
    "            'metformin-pioglitazone' ]\n",
    "\n",
    "\n",
    "\n",
    "## creating a map dictonary ###\n",
    "\n",
    "drug_outcome_map = {'No':0, 'Up':1, 'Steady':2, 'Down':3}\n",
    "\n",
    "\n",
    "for drug in features:\n",
    "        df[drug] = df[drug].map(drug_outcome_map)\n"
   ]
  },
  {
   "cell_type": "markdown",
   "metadata": {},
   "source": [
    "Converting drugs outcomes of the ones to consolidate to 'drug_others' to numeric and storing the max value."
   ]
  },
  {
   "cell_type": "code",
   "execution_count": 6,
   "metadata": {},
   "outputs": [],
   "source": [
    "drugs_to_drop = ['nateglinide', 'glyburide-metformin','acarbose', 'miglitol', 'tolbutamide', 'chlorpropamide',         \n",
    "                 'troglitazone', 'tolazamide', 'examide', 'citoglipton', 'acetohexamide', 'glipizide-metformin',\n",
    "                 'glimepiride-pioglitazone', 'metformin-rosiglitazone','metformin-pioglitazone']\n",
    "\n",
    "\n",
    "df['diabetes_med_others'] = df[drugs_to_drop].max(axis=1)\n"
   ]
  },
  {
   "cell_type": "code",
   "execution_count": 7,
   "metadata": {},
   "outputs": [],
   "source": [
    "### Classifying admission coirce ID into 5 categories 0: Uknowns, 1: Physician Referral, \n",
    "###2: Clinic/HMO/Home Care Referral 30: Care facility referrals e.g. hospitals; 40: New borns & Babies\n",
    "\n",
    "df['admission_source_id'] =['0' if x in (15,17,20,9,21,28,16,27,26) else x for x in df['admission_source_id']]\n",
    "\n",
    "df['admission_source_id'] =['2' if x in (2,3,18,19) else x for x in df['admission_source_id']]\n",
    "\n",
    "df['admission_source_id'] =['30' if x in (4,5,6,25,7,10,22,8) else x for x in df['admission_source_id']]\n",
    "\n",
    "df['admission_source_id'] =['40' if x in (23,24,11,12,13,14) else x for x in df['admission_source_id']]\n",
    "\n",
    "df['admission_source_id'] =['1' if x in (1,99) else x for x in df['admission_source_id']]\n",
    "\n"
   ]
  },
  {
   "cell_type": "code",
   "execution_count": 8,
   "metadata": {},
   "outputs": [],
   "source": [
    "### Preserving Top 3, unknows, n./a, NULL in 0 ###\n",
    "###Trauma or new brons are small dso grouped in 0 ####\n",
    "\n",
    "df['admission_type_id'] =['0' if x in (4, 5,6,7,8) else x for x in df['admission_type_id']]\n",
    "\n",
    "df['admission_type_id'] =['1' if x in (1,10) else x for x in df['admission_type_id']]\n",
    "\n",
    "df['admission_type_id'] =['2' if x in (2,11) else x for x in df['admission_type_id']]\n",
    "\n",
    "df['admission_type_id'] =['3' if x in (3,12) else x for x in df['admission_type_id']]\n"
   ]
  },
  {
   "cell_type": "code",
   "execution_count": 9,
   "metadata": {},
   "outputs": [],
   "source": [
    "df['diag1'] = df['diag_1']\n",
    "df['diag2'] = df['diag_2']\n",
    "df['diag3'] = df['diag_3']\n",
    "df.loc[df['diag_1'].str.contains('V'), ['diag1']] =0\n",
    "df.loc[df['diag_2'].str.contains('V'), ['diag2']] = 0\n",
    "df.loc[df['diag_3'].str.contains('V'), ['diag3']] = 0\n",
    "df.loc[df['diag_1'].str.contains('E'), ['diag1']] =1\n",
    "df.loc[df['diag_2'].str.contains('E'), ['diag2']] = 1\n",
    "df.loc[df['diag_3'].str.contains('E'), ['diag3']] = 1\n",
    "\n",
    "df['diag1'] = df['diag1'].replace('?', -1)\n",
    "df['diag2'] = df['diag2'].replace('?', -1)\n",
    "df['diag3'] = df['diag3'].replace('?', -1)"
   ]
  },
  {
   "cell_type": "code",
   "execution_count": 10,
   "metadata": {},
   "outputs": [],
   "source": [
    "df['diag1'] = df['diag1'].astype(float)\n",
    "df['diag2'] = df['diag2'].astype(float)\n",
    "df['diag3'] = df['diag3'].astype(float)"
   ]
  },
  {
   "cell_type": "code",
   "execution_count": 11,
   "metadata": {},
   "outputs": [],
   "source": [
    "for index, row in df.iterrows():\n",
    "    if (row['diag1'] >= 390 and row['diag1'] < 460) or (row['diag1'] == 785):\n",
    "        df.loc[index, 'diag_1'] = 'Circulatory'\n",
    "    elif (row['diag1'] >= 460 and row['diag1'] < 520) or (row['diag1'] == 786):\n",
    "        df.loc[index, 'diag_1'] = 'Respiratory'\n",
    "    elif (row['diag1'] >= 520 and row['diag1'] < 580) or (row['diag1'] == 787):\n",
    "        df.loc[index, 'diag_1'] = 'Digestive'\n",
    "    elif (row['diag1'] == 250):\n",
    "        df.loc[index, 'diag_1'] = 'Diabetes'\n",
    "    elif (row['diag1'] >= 800 and row['diag1'] < 1000):\n",
    "        df.loc[index, 'diag_1'] = 'Injury'\n",
    "    elif (row['diag1'] >= 710 and row['diag1'] < 740):\n",
    "        df.loc[index, 'diag_1'] = 'Musculoskeletal'\n",
    "    elif (row['diag1'] >= 580 and row['diag1'] < 630) or (row['diag1'] == 788):\n",
    "        df.loc[index, 'diag_1'] = 'Genitourinary'\n",
    "    elif (row['diag1'] >= 140 and row['diag1'] < 240):\n",
    "        df.loc[index, 'diag_1'] = 'Neoplasm'\n",
    "    else:\n",
    "        df.loc[index, 'diag_1'] = 'Others'"
   ]
  },
  {
   "cell_type": "code",
   "execution_count": 12,
   "metadata": {
    "scrolled": true
   },
   "outputs": [],
   "source": [
    "for index, row in df.iterrows():\n",
    "    if (row['diag2'] >= 390 and row['diag2'] < 460) or (row['diag2'] == 785):\n",
    "        df.loc[index, 'diag_2'] = 'Circulatory'\n",
    "    elif (row['diag2'] >= 460 and row['diag2'] < 520) or (row['diag2'] == 786):\n",
    "        df.loc[index, 'diag_2'] = 'Respiratory'\n",
    "    elif (row['diag2'] >= 520 and row['diag2'] < 580) or (row['diag2'] == 787):\n",
    "        df.loc[index, 'diag_2'] = 'Digestive'\n",
    "    elif (row['diag2'] == 250):\n",
    "        df.loc[index, 'diag_2'] = 'Diabetes'\n",
    "    elif (row['diag2'] >= 800 and row['diag2'] < 1000):\n",
    "        df.loc[index, 'diag_2'] = 'Injury'\n",
    "    elif (row['diag2'] >= 710 and row['diag2'] < 740):\n",
    "        df.loc[index, 'diag_2'] = 'Musculoskeletal'\n",
    "    elif (row['diag2'] >= 580 and row['diag2'] < 630) or (row['diag2'] == 788):\n",
    "        df.loc[index, 'diag_2'] = 'Genitourinary'\n",
    "    elif (row['diag2'] >= 140 and row['diag2'] < 240):\n",
    "        df.loc[index, 'diag_2'] = 'Neoplasm'\n",
    "    else:\n",
    "        df.loc[index, 'diag_2'] = 'Others'"
   ]
  },
  {
   "cell_type": "code",
   "execution_count": 13,
   "metadata": {},
   "outputs": [],
   "source": [
    "for index, row in df.iterrows():\n",
    "    if (row['diag3'] >= 390 and row['diag3'] < 460) or (row['diag3'] == 785):\n",
    "        df.loc[index, 'diag_3'] = 'Circulatory'\n",
    "    elif (row['diag3'] >= 460 and row['diag3'] < 520) or (row['diag3'] == 786):\n",
    "        df.loc[index, 'diag_3'] = 'Respiratory'\n",
    "    elif (row['diag3'] >= 520 and row['diag3'] < 580) or (row['diag3'] == 787):\n",
    "        df.loc[index, 'diag_3'] = 'Digestive'\n",
    "    elif (row['diag3'] == 250):\n",
    "        df.loc[index, 'diag_3'] = 'Diabetes'\n",
    "    elif (row['diag3'] >= 800 and row['diag3'] < 1000):\n",
    "        df.loc[index, 'diag_3'] = 'Injury'\n",
    "    elif (row['diag3'] >= 710 and row['diag3'] < 740):\n",
    "        df.loc[index, 'diag_3'] = 'Musculoskeletal'\n",
    "    elif (row['diag3'] >= 580 and row['diag3'] < 630) or (row['diag3'] == 788):\n",
    "        df.loc[index, 'diag_3'] = 'Genitourinary'\n",
    "    elif (row['diag3'] >= 140 and row['diag3'] < 240):\n",
    "        df.loc[index, 'diag_3'] = 'Neoplasm'\n",
    "    else:\n",
    "        df.loc[index, 'diag_3'] = 'Others'"
   ]
  },
  {
   "cell_type": "code",
   "execution_count": 14,
   "metadata": {},
   "outputs": [],
   "source": [
    "### Dropping columns with large amount of missing data\n",
    "\n",
    "cols_to_drop = ['encounter_id', 'weight','payer_code', 'medical_specialty', 'max_glu_serum', \\\n",
    "                'diag1', 'diag2', 'diag3']\n",
    "\n",
    "df = df.drop(columns = cols_to_drop)"
   ]
  },
  {
   "cell_type": "code",
   "execution_count": 15,
   "metadata": {},
   "outputs": [
    {
     "data": {
      "text/plain": [
       "(99492, 50)"
      ]
     },
     "execution_count": 15,
     "metadata": {},
     "output_type": "execute_result"
    }
   ],
   "source": [
    "### Dropping rows with missing gender and missing race ###\n",
    "\n",
    "df = df[df['gender'] != 'Unknown/Invalid']\n",
    "\n",
    "df = df[df['race'] != '?']\n",
    "\n",
    "df.shape"
   ]
  },
  {
   "cell_type": "code",
   "execution_count": 16,
   "metadata": {},
   "outputs": [],
   "source": [
    "expired = [11,13,14,19, 20, 21]\n",
    "\n",
    "for code in expired:\n",
    "    df.drop(df[df['discharge_disposition_id'] == code].index, inplace = True) \n",
    "df['discharge_disposition_id'] = ['0' if x not in (1,2,3,6,18) else x for x in df['discharge_disposition_id']]"
   ]
  },
  {
   "cell_type": "code",
   "execution_count": 17,
   "metadata": {
    "scrolled": false
   },
   "outputs": [],
   "source": [
    "drugs_to_drop = ['nateglinide', 'glyburide-metformin','acarbose', 'miglitol', 'tolbutamide', 'chlorpropamide',         \n",
    "                    'troglitazone', 'tolazamide', 'examide', 'citoglipton', 'acetohexamide', 'glipizide-metformin',\n",
    "                    'glimepiride-pioglitazone', 'metformin-rosiglitazone','metformin-pioglitazone']       \n",
    "\n",
    "### Dropping select drug columns\n",
    "df = df.drop(columns = drugs_to_drop)\n"
   ]
  },
  {
   "cell_type": "code",
   "execution_count": 18,
   "metadata": {},
   "outputs": [],
   "source": [
    "df =pd.get_dummies(df, columns= ['race', 'gender', 'age', 'admission_type_id','discharge_disposition_id',\n",
    "         'admission_source_id','change', 'diabetesMed' ], drop_first = True)\n",
    "df =pd.get_dummies(df, columns= ['diag_1','diag_2','diag_3', 'A1Cresult'], drop_first = False)\n",
    "df = df.drop(columns = 'A1Cresult_None')"
   ]
  },
  {
   "cell_type": "markdown",
   "metadata": {},
   "source": [
    "### Export file for modeling"
   ]
  },
  {
   "cell_type": "code",
   "execution_count": 19,
   "metadata": {},
   "outputs": [],
   "source": [
    "df.to_csv('./input_file.csv', index=False)"
   ]
  }
 ],
 "metadata": {
  "kernelspec": {
   "display_name": "Python 3",
   "language": "python",
   "name": "python3"
  },
  "language_info": {
   "codemirror_mode": {
    "name": "ipython",
    "version": 3
   },
   "file_extension": ".py",
   "mimetype": "text/x-python",
   "name": "python",
   "nbconvert_exporter": "python",
   "pygments_lexer": "ipython3",
   "version": "3.8.3"
  }
 },
 "nbformat": 4,
 "nbformat_minor": 4
}
