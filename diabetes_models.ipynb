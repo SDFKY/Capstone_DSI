{
 "cells": [
  {
   "cell_type": "code",
   "execution_count": 1,
   "metadata": {},
   "outputs": [],
   "source": [
    "import pandas as pd\n",
    "import numpy as np\n",
    "import matplotlib.pyplot as plt\n",
    "import seaborn as sns"
   ]
  },
  {
   "cell_type": "markdown",
   "metadata": {},
   "source": [
    "### Reading the data preparded in EDA workbook"
   ]
  },
  {
   "cell_type": "code",
   "execution_count": 2,
   "metadata": {},
   "outputs": [],
   "source": [
    "df = pd.read_csv('./input_file.csv')"
   ]
  },
  {
   "cell_type": "markdown",
   "metadata": {},
   "source": [
    "Counting the no of changes due to one or many of the 23 diabetes drugs given to the patient by change type -- 'Down', 'Steady' and 'Up'"
   ]
  },
  {
   "cell_type": "code",
   "execution_count": 3,
   "metadata": {},
   "outputs": [],
   "source": [
    "df = df.drop(columns = ['patient_nbr'])"
   ]
  },
  {
   "cell_type": "code",
   "execution_count": 4,
   "metadata": {},
   "outputs": [
    {
     "data": {
      "text/plain": [
       "(97108, 80)"
      ]
     },
     "execution_count": 4,
     "metadata": {},
     "output_type": "execute_result"
    }
   ],
   "source": [
    "df.shape"
   ]
  },
  {
   "cell_type": "code",
   "execution_count": 6,
   "metadata": {
    "scrolled": true
   },
   "outputs": [
    {
     "data": {
      "text/plain": [
       "Index(['time_in_hospital', 'num_lab_procedures', 'num_procedures',\n",
       "       'num_medications', 'number_outpatient', 'number_emergency',\n",
       "       'number_inpatient', 'number_diagnoses', 'metformin', 'repaglinide',\n",
       "       'glimepiride', 'glipizide', 'glyburide', 'pioglitazone',\n",
       "       'rosiglitazone', 'insulin', 'readmitted', 'Up', 'Steady', 'Down',\n",
       "       'diagnosis_count', 'diabetes_med_others', 'race_Asian',\n",
       "       'race_Caucasian', 'race_Hispanic', 'race_Other', 'gender_Male',\n",
       "       'age_[10-20)', 'age_[20-30)', 'age_[30-40)', 'age_[40-50)',\n",
       "       'age_[50-60)', 'age_[60-70)', 'age_[70-80)', 'age_[80-90)',\n",
       "       'age_[90-100)', 'admission_type_id_1', 'admission_type_id_2',\n",
       "       'admission_type_id_3', 'discharge_disposition_id_2',\n",
       "       'discharge_disposition_id_3', 'discharge_disposition_id_6',\n",
       "       'discharge_disposition_id_18', 'discharge_disposition_id_0',\n",
       "       'admission_source_id_1', 'admission_source_id_2',\n",
       "       'admission_source_id_30', 'admission_source_id_40', 'change_No',\n",
       "       'diabetesMed_Yes', 'diag_1_Circulatory', 'diag_1_Diabetes',\n",
       "       'diag_1_Digestive', 'diag_1_Genitourinary', 'diag_1_Injury',\n",
       "       'diag_1_Musculoskeletal', 'diag_1_Neoplasm', 'diag_1_Others',\n",
       "       'diag_1_Respiratory', 'diag_2_Circulatory', 'diag_2_Diabetes',\n",
       "       'diag_2_Digestive', 'diag_2_Genitourinary', 'diag_2_Injury',\n",
       "       'diag_2_Musculoskeletal', 'diag_2_Neoplasm', 'diag_2_Others',\n",
       "       'diag_2_Respiratory', 'diag_3_Circulatory', 'diag_3_Diabetes',\n",
       "       'diag_3_Digestive', 'diag_3_Genitourinary', 'diag_3_Injury',\n",
       "       'diag_3_Musculoskeletal', 'diag_3_Neoplasm', 'diag_3_Others',\n",
       "       'diag_3_Respiratory', 'A1Cresult_>7', 'A1Cresult_>8', 'A1Cresult_Norm'],\n",
       "      dtype='object')"
      ]
     },
     "execution_count": 6,
     "metadata": {},
     "output_type": "execute_result"
    }
   ],
   "source": [
    "df.columns"
   ]
  },
  {
   "cell_type": "markdown",
   "metadata": {},
   "source": [
    "### Collapsing <30 days and >30 days readmits to one readmits and turning the problem to binary classification.  "
   ]
  },
  {
   "cell_type": "code",
   "execution_count": 7,
   "metadata": {
    "scrolled": true
   },
   "outputs": [],
   "source": [
    "### creating a map dictonary ###\n",
    "\n",
    "readmit_map = {'<30':1, '>30':1, 'NO':0}\n",
    "\n",
    "\n",
    "df['readmitted'] = df['readmitted'].map(readmit_map)"
   ]
  },
  {
   "cell_type": "code",
   "execution_count": 8,
   "metadata": {},
   "outputs": [
    {
     "data": {
      "text/plain": [
       "(97108, 80)"
      ]
     },
     "execution_count": 8,
     "metadata": {},
     "output_type": "execute_result"
    }
   ],
   "source": [
    "df.shape"
   ]
  },
  {
   "cell_type": "code",
   "execution_count": 9,
   "metadata": {},
   "outputs": [],
   "source": [
    "# Import libraries needed for models\n",
    "from sklearn.preprocessing import StandardScaler\n",
    "from sklearn.linear_model import LogisticRegression\n",
    "\n",
    "from sklearn.model_selection import GridSearchCV, train_test_split, cross_val_score\n",
    "from sklearn.metrics import confusion_matrix, plot_confusion_matrix"
   ]
  },
  {
   "cell_type": "code",
   "execution_count": 10,
   "metadata": {},
   "outputs": [],
   "source": [
    "X = df.drop(columns=['readmitted'])\n",
    "y = df['readmitted']\n",
    "\n",
    "X_train, X_test, y_train, y_test = train_test_split(\n",
    "    X, y,\n",
    "    test_size = 0.25,\n",
    "    random_state = 42\n",
    ")\n",
    "Z_train = X_train\n",
    "Z_test = X_test\n",
    "# sc = StandardScaler()\n",
    "# Z_train = sc.fit_transform(X_train)\n",
    "# Z_test = sc.transform(X_test)"
   ]
  },
  {
   "cell_type": "markdown",
   "metadata": {},
   "source": [
    "#### Logistic Regression"
   ]
  },
  {
   "cell_type": "code",
   "execution_count": 11,
   "metadata": {
    "scrolled": true
   },
   "outputs": [],
   "source": [
    "### Instantiate & Fit Multinomial Logistic Regression ###\n",
    "\n",
    "lr = LogisticRegression( max_iter=10000, penalty = 'elasticnet', l1_ratio = 0.25, solver='saga').fit(Z_train, y_train)"
   ]
  },
  {
   "cell_type": "code",
   "execution_count": 12,
   "metadata": {},
   "outputs": [],
   "source": [
    "#Output predictions to output df\n",
    "output = pd.DataFrame(y_test)\n",
    "\n",
    "output['lr_predicts' ] = lr.predict(Z_test)\n"
   ]
  },
  {
   "cell_type": "code",
   "execution_count": 13,
   "metadata": {},
   "outputs": [
    {
     "data": {
      "text/html": [
       "<div>\n",
       "<style scoped>\n",
       "    .dataframe tbody tr th:only-of-type {\n",
       "        vertical-align: middle;\n",
       "    }\n",
       "\n",
       "    .dataframe tbody tr th {\n",
       "        vertical-align: top;\n",
       "    }\n",
       "\n",
       "    .dataframe thead th {\n",
       "        text-align: right;\n",
       "    }\n",
       "</style>\n",
       "<table border=\"1\" class=\"dataframe\">\n",
       "  <thead>\n",
       "    <tr style=\"text-align: right;\">\n",
       "      <th>lr_predicts</th>\n",
       "      <th>0</th>\n",
       "      <th>1</th>\n",
       "    </tr>\n",
       "    <tr>\n",
       "      <th>readmitted</th>\n",
       "      <th></th>\n",
       "      <th></th>\n",
       "    </tr>\n",
       "  </thead>\n",
       "  <tbody>\n",
       "    <tr>\n",
       "      <th>0</th>\n",
       "      <td>9620</td>\n",
       "      <td>3093</td>\n",
       "    </tr>\n",
       "    <tr>\n",
       "      <th>1</th>\n",
       "      <td>6180</td>\n",
       "      <td>5384</td>\n",
       "    </tr>\n",
       "  </tbody>\n",
       "</table>\n",
       "</div>"
      ],
      "text/plain": [
       "lr_predicts     0     1\n",
       "readmitted             \n",
       "0            9620  3093\n",
       "1            6180  5384"
      ]
     },
     "execution_count": 13,
     "metadata": {},
     "output_type": "execute_result"
    }
   ],
   "source": [
    "pd.crosstab(output['readmitted'], output['lr_predicts'])"
   ]
  },
  {
   "cell_type": "code",
   "execution_count": 14,
   "metadata": {
    "scrolled": true
   },
   "outputs": [
    {
     "data": {
      "image/png": "[encoded data removed]",
      "text/plain": [
       "<Figure size 432x288 with 2 Axes>"
      ]
     },
     "metadata": {
      "needs_background": "light"
     },
     "output_type": "display_data"
    }
   ],
   "source": [
    "plot_confusion_matrix(lr,Z_test, y_test, values_format='d');"
   ]
  },
  {
   "cell_type": "markdown",
   "metadata": {},
   "source": [
    "#### Decision Tree"
   ]
  },
  {
   "cell_type": "code",
   "execution_count": 15,
   "metadata": {},
   "outputs": [],
   "source": [
    "### Decision Tree Classifier ###\n",
    "\n",
    "## Import\n",
    "from sklearn.tree import DecisionTreeClassifier, plot_tree, export_text"
   ]
  },
  {
   "cell_type": "code",
   "execution_count": 16,
   "metadata": {},
   "outputs": [],
   "source": [
    "### Instantiate and Fit\n",
    "random =30\n",
    "dt = DecisionTreeClassifier(random_state = random, max_depth = 5).fit(Z_train, y_train)"
   ]
  },
  {
   "cell_type": "code",
   "execution_count": 17,
   "metadata": {},
   "outputs": [],
   "source": [
    "### Output predictions to output df\n",
    "output['dt_predicts' ] = dt.predict(Z_test)"
   ]
  },
  {
   "cell_type": "code",
   "execution_count": 18,
   "metadata": {
    "scrolled": true
   },
   "outputs": [
    {
     "data": {
      "text/html": [
       "<div>\n",
       "<style scoped>\n",
       "    .dataframe tbody tr th:only-of-type {\n",
       "        vertical-align: middle;\n",
       "    }\n",
       "\n",
       "    .dataframe tbody tr th {\n",
       "        vertical-align: top;\n",
       "    }\n",
       "\n",
       "    .dataframe thead th {\n",
       "        text-align: right;\n",
       "    }\n",
       "</style>\n",
       "<table border=\"1\" class=\"dataframe\">\n",
       "  <thead>\n",
       "    <tr style=\"text-align: right;\">\n",
       "      <th>dt_predicts</th>\n",
       "      <th>0</th>\n",
       "      <th>1</th>\n",
       "    </tr>\n",
       "    <tr>\n",
       "      <th>readmitted</th>\n",
       "      <th></th>\n",
       "      <th></th>\n",
       "    </tr>\n",
       "  </thead>\n",
       "  <tbody>\n",
       "    <tr>\n",
       "      <th>0</th>\n",
       "      <td>9477</td>\n",
       "      <td>3236</td>\n",
       "    </tr>\n",
       "    <tr>\n",
       "      <th>1</th>\n",
       "      <td>6026</td>\n",
       "      <td>5538</td>\n",
       "    </tr>\n",
       "  </tbody>\n",
       "</table>\n",
       "</div>"
      ],
      "text/plain": [
       "dt_predicts     0     1\n",
       "readmitted             \n",
       "0            9477  3236\n",
       "1            6026  5538"
      ]
     },
     "execution_count": 18,
     "metadata": {},
     "output_type": "execute_result"
    }
   ],
   "source": [
    "### Cross-tab Confusion Matrix\n",
    "pd.crosstab(output['readmitted'], output['dt_predicts'])"
   ]
  },
  {
   "cell_type": "code",
   "execution_count": 19,
   "metadata": {},
   "outputs": [
    {
     "data": {
      "image/png": "[encoded data removed]",
      "text/plain": [
       "<Figure size 432x288 with 2 Axes>"
      ]
     },
     "metadata": {
      "needs_background": "light"
     },
     "output_type": "display_data"
    }
   ],
   "source": [
    "### Plot Confusion Matrix\n",
    "plot_confusion_matrix(dt,Z_test, y_test, values_format='d');"
   ]
  },
  {
   "cell_type": "markdown",
   "metadata": {},
   "source": [
    "#### KNN Classifier"
   ]
  },
  {
   "cell_type": "code",
   "execution_count": 20,
   "metadata": {},
   "outputs": [],
   "source": [
    "### KNN Classifier ###\n",
    "\n",
    "## Import ##\n",
    "from sklearn.neighbors import KNeighborsClassifier"
   ]
  },
  {
   "cell_type": "code",
   "execution_count": 21,
   "metadata": {},
   "outputs": [],
   "source": [
    "#KNN Classifier\n",
    "\n",
    "## Instantiate & Fit KNN Classifier \n",
    "knn = KNeighborsClassifier().fit(Z_train, y_train)\n"
   ]
  },
  {
   "cell_type": "code",
   "execution_count": 22,
   "metadata": {},
   "outputs": [],
   "source": [
    "### Output predictions to output df\n",
    "output['knn_predicts' ] = knn.predict(Z_test)"
   ]
  },
  {
   "cell_type": "code",
   "execution_count": 23,
   "metadata": {
    "scrolled": true
   },
   "outputs": [
    {
     "data": {
      "text/html": [
       "<div>\n",
       "<style scoped>\n",
       "    .dataframe tbody tr th:only-of-type {\n",
       "        vertical-align: middle;\n",
       "    }\n",
       "\n",
       "    .dataframe tbody tr th {\n",
       "        vertical-align: top;\n",
       "    }\n",
       "\n",
       "    .dataframe thead th {\n",
       "        text-align: right;\n",
       "    }\n",
       "</style>\n",
       "<table border=\"1\" class=\"dataframe\">\n",
       "  <thead>\n",
       "    <tr style=\"text-align: right;\">\n",
       "      <th>knn_predicts</th>\n",
       "      <th>0</th>\n",
       "      <th>1</th>\n",
       "    </tr>\n",
       "    <tr>\n",
       "      <th>readmitted</th>\n",
       "      <th></th>\n",
       "      <th></th>\n",
       "    </tr>\n",
       "  </thead>\n",
       "  <tbody>\n",
       "    <tr>\n",
       "      <th>0</th>\n",
       "      <td>8055</td>\n",
       "      <td>4658</td>\n",
       "    </tr>\n",
       "    <tr>\n",
       "      <th>1</th>\n",
       "      <td>6095</td>\n",
       "      <td>5469</td>\n",
       "    </tr>\n",
       "  </tbody>\n",
       "</table>\n",
       "</div>"
      ],
      "text/plain": [
       "knn_predicts     0     1\n",
       "readmitted              \n",
       "0             8055  4658\n",
       "1             6095  5469"
      ]
     },
     "execution_count": 23,
     "metadata": {},
     "output_type": "execute_result"
    }
   ],
   "source": [
    "pd.crosstab(output['readmitted'], output['knn_predicts'])"
   ]
  },
  {
   "cell_type": "code",
   "execution_count": 24,
   "metadata": {
    "scrolled": true
   },
   "outputs": [
    {
     "data": {
      "image/png": "[encoded data removed]",
      "text/plain": [
       "<Figure size 432x288 with 2 Axes>"
      ]
     },
     "metadata": {
      "needs_background": "light"
     },
     "output_type": "display_data"
    }
   ],
   "source": [
    "plot_confusion_matrix(knn,Z_test, y_test, values_format='d');"
   ]
  },
  {
   "cell_type": "markdown",
   "metadata": {},
   "source": [
    "#### Bagging"
   ]
  },
  {
   "cell_type": "code",
   "execution_count": 25,
   "metadata": {},
   "outputs": [],
   "source": [
    "### Bagging and Random Forests ##\n",
    "\n",
    "## Import ##\n",
    "from sklearn.ensemble import RandomForestClassifier, ExtraTreesClassifier, BaggingClassifier\n"
   ]
  },
  {
   "cell_type": "code",
   "execution_count": 26,
   "metadata": {},
   "outputs": [],
   "source": [
    "### Instantiate and Fit Bagging Classifier ###\n",
    "bag = BaggingClassifier(random_state = random).fit(Z_train, y_train)"
   ]
  },
  {
   "cell_type": "code",
   "execution_count": 27,
   "metadata": {},
   "outputs": [],
   "source": [
    "### Output predictions to output df\n",
    "output['bag_predicts' ] = bag.predict(Z_test)"
   ]
  },
  {
   "cell_type": "code",
   "execution_count": 28,
   "metadata": {},
   "outputs": [
    {
     "data": {
      "text/html": [
       "<div>\n",
       "<style scoped>\n",
       "    .dataframe tbody tr th:only-of-type {\n",
       "        vertical-align: middle;\n",
       "    }\n",
       "\n",
       "    .dataframe tbody tr th {\n",
       "        vertical-align: top;\n",
       "    }\n",
       "\n",
       "    .dataframe thead th {\n",
       "        text-align: right;\n",
       "    }\n",
       "</style>\n",
       "<table border=\"1\" class=\"dataframe\">\n",
       "  <thead>\n",
       "    <tr style=\"text-align: right;\">\n",
       "      <th>bag_predicts</th>\n",
       "      <th>0</th>\n",
       "      <th>1</th>\n",
       "    </tr>\n",
       "    <tr>\n",
       "      <th>readmitted</th>\n",
       "      <th></th>\n",
       "      <th></th>\n",
       "    </tr>\n",
       "  </thead>\n",
       "  <tbody>\n",
       "    <tr>\n",
       "      <th>0</th>\n",
       "      <td>8941</td>\n",
       "      <td>3772</td>\n",
       "    </tr>\n",
       "    <tr>\n",
       "      <th>1</th>\n",
       "      <td>6244</td>\n",
       "      <td>5320</td>\n",
       "    </tr>\n",
       "  </tbody>\n",
       "</table>\n",
       "</div>"
      ],
      "text/plain": [
       "bag_predicts     0     1\n",
       "readmitted              \n",
       "0             8941  3772\n",
       "1             6244  5320"
      ]
     },
     "execution_count": 28,
     "metadata": {},
     "output_type": "execute_result"
    }
   ],
   "source": [
    "### Cross-tab Confusion Matrix\n",
    "pd.crosstab(output['readmitted'], output['bag_predicts'])"
   ]
  },
  {
   "cell_type": "code",
   "execution_count": 29,
   "metadata": {},
   "outputs": [
    {
     "data": {
      "image/png": "[encoded data removed]",
      "text/plain": [
       "<Figure size 432x288 with 2 Axes>"
      ]
     },
     "metadata": {
      "needs_background": "light"
     },
     "output_type": "display_data"
    }
   ],
   "source": [
    "### Plot Confusion Matrix\n",
    "plot_confusion_matrix(bag,Z_test, y_test, values_format='d');"
   ]
  },
  {
   "cell_type": "markdown",
   "metadata": {},
   "source": [
    "#### Random Forest"
   ]
  },
  {
   "cell_type": "code",
   "execution_count": 30,
   "metadata": {},
   "outputs": [],
   "source": [
    "### Random Forest ###\n",
    "\n",
    "### Instantiate and Fit Random Forest Classifier ###\n",
    "rf = RandomForestClassifier(n_estimators=1000).fit(Z_train, y_train)"
   ]
  },
  {
   "cell_type": "code",
   "execution_count": 31,
   "metadata": {},
   "outputs": [],
   "source": [
    "### Output predictions to output df\n",
    "output['rf_predicts' ] = rf.predict(Z_test)"
   ]
  },
  {
   "cell_type": "code",
   "execution_count": 32,
   "metadata": {},
   "outputs": [
    {
     "data": {
      "text/html": [
       "<div>\n",
       "<style scoped>\n",
       "    .dataframe tbody tr th:only-of-type {\n",
       "        vertical-align: middle;\n",
       "    }\n",
       "\n",
       "    .dataframe tbody tr th {\n",
       "        vertical-align: top;\n",
       "    }\n",
       "\n",
       "    .dataframe thead th {\n",
       "        text-align: right;\n",
       "    }\n",
       "</style>\n",
       "<table border=\"1\" class=\"dataframe\">\n",
       "  <thead>\n",
       "    <tr style=\"text-align: right;\">\n",
       "      <th>rf_predicts</th>\n",
       "      <th>0</th>\n",
       "      <th>1</th>\n",
       "    </tr>\n",
       "    <tr>\n",
       "      <th>readmitted</th>\n",
       "      <th></th>\n",
       "      <th></th>\n",
       "    </tr>\n",
       "  </thead>\n",
       "  <tbody>\n",
       "    <tr>\n",
       "      <th>0</th>\n",
       "      <td>8865</td>\n",
       "      <td>3848</td>\n",
       "    </tr>\n",
       "    <tr>\n",
       "      <th>1</th>\n",
       "      <td>5271</td>\n",
       "      <td>6293</td>\n",
       "    </tr>\n",
       "  </tbody>\n",
       "</table>\n",
       "</div>"
      ],
      "text/plain": [
       "rf_predicts     0     1\n",
       "readmitted             \n",
       "0            8865  3848\n",
       "1            5271  6293"
      ]
     },
     "execution_count": 32,
     "metadata": {},
     "output_type": "execute_result"
    }
   ],
   "source": [
    "### Cross-tab Confusion Matrix\n",
    "pd.crosstab(output['readmitted'], output['rf_predicts'])"
   ]
  },
  {
   "cell_type": "code",
   "execution_count": 33,
   "metadata": {
    "scrolled": true
   },
   "outputs": [
    {
     "data": {
      "image/png": "[encoded data removed]",
      "text/plain": [
       "<Figure size 432x288 with 2 Axes>"
      ]
     },
     "metadata": {
      "needs_background": "light"
     },
     "output_type": "display_data"
    }
   ],
   "source": [
    "### Plot Confusion Matrix\n",
    "plot_confusion_matrix(rf,Z_test, y_test, values_format='d');"
   ]
  },
  {
   "cell_type": "markdown",
   "metadata": {},
   "source": [
    "#### Linear SVM Classifier"
   ]
  },
  {
   "cell_type": "code",
   "execution_count": 34,
   "metadata": {},
   "outputs": [],
   "source": [
    "### SVM Linear ###\n",
    "\n",
    "## Import ##\n",
    "from sklearn.svm import LinearSVC"
   ]
  },
  {
   "cell_type": "code",
   "execution_count": 35,
   "metadata": {},
   "outputs": [
    {
     "name": "stderr",
     "output_type": "stream",
     "text": [
      "C:\\Users\\Rhino\\anaconda3\\lib\\site-packages\\sklearn\\svm\\_base.py:976: ConvergenceWarning: Liblinear failed to converge, increase the number of iterations.\n",
      "  warnings.warn(\"Liblinear failed to converge, increase \"\n"
     ]
    }
   ],
   "source": [
    "### Instantiate and Fit SVM Linear Classifier ###\n",
    "svc = LinearSVC(max_iter=20000).fit(Z_train, y_train)"
   ]
  },
  {
   "cell_type": "code",
   "execution_count": 36,
   "metadata": {},
   "outputs": [],
   "source": [
    "### Output predictions to output df\n",
    "output['svc_predicts' ] = svc.predict(Z_test)\n"
   ]
  },
  {
   "cell_type": "code",
   "execution_count": 37,
   "metadata": {},
   "outputs": [
    {
     "data": {
      "text/html": [
       "<div>\n",
       "<style scoped>\n",
       "    .dataframe tbody tr th:only-of-type {\n",
       "        vertical-align: middle;\n",
       "    }\n",
       "\n",
       "    .dataframe tbody tr th {\n",
       "        vertical-align: top;\n",
       "    }\n",
       "\n",
       "    .dataframe thead th {\n",
       "        text-align: right;\n",
       "    }\n",
       "</style>\n",
       "<table border=\"1\" class=\"dataframe\">\n",
       "  <thead>\n",
       "    <tr style=\"text-align: right;\">\n",
       "      <th>svc_predicts</th>\n",
       "      <th>0</th>\n",
       "      <th>1</th>\n",
       "    </tr>\n",
       "    <tr>\n",
       "      <th>readmitted</th>\n",
       "      <th></th>\n",
       "      <th></th>\n",
       "    </tr>\n",
       "  </thead>\n",
       "  <tbody>\n",
       "    <tr>\n",
       "      <th>0</th>\n",
       "      <td>9151</td>\n",
       "      <td>3562</td>\n",
       "    </tr>\n",
       "    <tr>\n",
       "      <th>1</th>\n",
       "      <td>5720</td>\n",
       "      <td>5844</td>\n",
       "    </tr>\n",
       "  </tbody>\n",
       "</table>\n",
       "</div>"
      ],
      "text/plain": [
       "svc_predicts     0     1\n",
       "readmitted              \n",
       "0             9151  3562\n",
       "1             5720  5844"
      ]
     },
     "execution_count": 37,
     "metadata": {},
     "output_type": "execute_result"
    }
   ],
   "source": [
    "### Cross-tab Confusion Matrix\n",
    "pd.crosstab(output['readmitted'], output['svc_predicts'])"
   ]
  },
  {
   "cell_type": "code",
   "execution_count": 38,
   "metadata": {},
   "outputs": [
    {
     "data": {
      "image/png": "[encoded data removed]",
      "text/plain": [
       "<Figure size 432x288 with 2 Axes>"
      ]
     },
     "metadata": {
      "needs_background": "light"
     },
     "output_type": "display_data"
    }
   ],
   "source": [
    "### Plot Confusion Matrix\n",
    "plot_confusion_matrix(svc,Z_test, y_test);"
   ]
  },
  {
   "cell_type": "markdown",
   "metadata": {},
   "source": [
    "#### Stochastic Gradient Descent (SGD)"
   ]
  },
  {
   "cell_type": "code",
   "execution_count": 39,
   "metadata": {},
   "outputs": [],
   "source": [
    "from sklearn.linear_model import SGDClassifier"
   ]
  },
  {
   "cell_type": "code",
   "execution_count": 40,
   "metadata": {},
   "outputs": [],
   "source": [
    "### Instantiate and Fit SVM Linear Classifier ###\n",
    "sgdc = SGDClassifier(max_iter=1000, tol=0.001).fit(Z_train, y_train)"
   ]
  },
  {
   "cell_type": "code",
   "execution_count": 41,
   "metadata": {},
   "outputs": [
    {
     "data": {
      "text/html": [
       "<div>\n",
       "<style scoped>\n",
       "    .dataframe tbody tr th:only-of-type {\n",
       "        vertical-align: middle;\n",
       "    }\n",
       "\n",
       "    .dataframe tbody tr th {\n",
       "        vertical-align: top;\n",
       "    }\n",
       "\n",
       "    .dataframe thead th {\n",
       "        text-align: right;\n",
       "    }\n",
       "</style>\n",
       "<table border=\"1\" class=\"dataframe\">\n",
       "  <thead>\n",
       "    <tr style=\"text-align: right;\">\n",
       "      <th>sgdc_predicts</th>\n",
       "      <th>0</th>\n",
       "      <th>1</th>\n",
       "    </tr>\n",
       "    <tr>\n",
       "      <th>readmitted</th>\n",
       "      <th></th>\n",
       "      <th></th>\n",
       "    </tr>\n",
       "  </thead>\n",
       "  <tbody>\n",
       "    <tr>\n",
       "      <th>0</th>\n",
       "      <td>9395</td>\n",
       "      <td>3318</td>\n",
       "    </tr>\n",
       "    <tr>\n",
       "      <th>1</th>\n",
       "      <td>6041</td>\n",
       "      <td>5523</td>\n",
       "    </tr>\n",
       "  </tbody>\n",
       "</table>\n",
       "</div>"
      ],
      "text/plain": [
       "sgdc_predicts     0     1\n",
       "readmitted               \n",
       "0              9395  3318\n",
       "1              6041  5523"
      ]
     },
     "execution_count": 41,
     "metadata": {},
     "output_type": "execute_result"
    }
   ],
   "source": [
    "### Output predictions to output df\n",
    "output['sgdc_predicts' ] = sgdc.predict(Z_test)\n",
    "### Cross-tab Confusion Matrix\n",
    "pd.crosstab(output['readmitted'], output['sgdc_predicts'])"
   ]
  },
  {
   "cell_type": "code",
   "execution_count": 42,
   "metadata": {
    "scrolled": true
   },
   "outputs": [
    {
     "data": {
      "image/png": "[encoded data removed]",
      "text/plain": [
       "<Figure size 432x288 with 2 Axes>"
      ]
     },
     "metadata": {
      "needs_background": "light"
     },
     "output_type": "display_data"
    }
   ],
   "source": [
    "### Plot Confusion Matrix\n",
    "plot_confusion_matrix(sgdc,Z_test, y_test);"
   ]
  },
  {
   "cell_type": "code",
   "execution_count": 43,
   "metadata": {},
   "outputs": [
    {
     "name": "stdout",
     "output_type": "stream",
     "text": [
      "Logisitic Regression: 0.6180335296782963\n",
      "Decision Tree: 0.6184866334390575\n",
      "KNN Classifier: 0.5570704782304239\n",
      "Random Forest: 0.6243769823289533\n",
      "Bagging: 0.5874284302014252\n",
      "Support Vector Classifier: 0.6176628084194917\n",
      "Stochastic Gradient Descent : 0.6144910820941633\n"
     ]
    }
   ],
   "source": [
    "print(f\"Logisitic Regression: {lr.score(Z_test, y_test)}\")\n",
    "print(f\"Decision Tree: {dt.score(Z_test, y_test)}\")\n",
    "print(f\"KNN Classifier: {knn.score(Z_test, y_test)}\")\n",
    "print(f\"Random Forest: {rf.score(Z_test, y_test)}\")\n",
    "print(f\"Bagging: {bag.score(Z_test, y_test)}\")\n",
    "print(f\"Support Vector Classifier: {svc.score(Z_test, y_test)}\")\n",
    "print(f\"Stochastic Gradient Descent : {sgdc.score(Z_test, y_test)}\")   "
   ]
  },
  {
   "cell_type": "markdown",
   "metadata": {},
   "source": [
    "#### Exploring Pipelines & PCA\n",
    "Checking if a reduced data set is effective for Logistic Regression"
   ]
  },
  {
   "cell_type": "code",
   "execution_count": 44,
   "metadata": {},
   "outputs": [
    {
     "name": "stdout",
     "output_type": "stream",
     "text": [
      "Best parameter (CV score=0.622):\n",
      "{'logistic__C': 0.046415888336127774, 'pca__n_components': 74}\n"
     ]
    }
   ],
   "source": [
    "### Source: https://scikit-learn.org/stable/auto_examples/compose/plot_digits_pipe.html\n",
    "\n",
    "from sklearn.decomposition import PCA\n",
    "from sklearn.pipeline import Pipeline\n",
    "\n",
    "# Define a pipeline to search for the best combination of PCA truncation\n",
    "# and classifier regularization.\n",
    "pca = PCA()\n",
    "# set the tolerance to a large value to make the example faster\n",
    "logistic = LogisticRegression(max_iter=10000, tol=0.1)\n",
    "pipe = Pipeline(steps=[('pca', pca), ('logistic', logistic)])\n",
    "\n",
    "\n",
    "# Parameters of pipelines can be set using ‘__’ separated parameter names:\n",
    "param_grid = {\n",
    "    'pca__n_components': [5, 15, 30, 45, 64, 74],\n",
    "    'logistic__C': np.logspace(-4, 4, 4),\n",
    "}\n",
    "search = GridSearchCV(pipe, param_grid, n_jobs=-1)\n",
    "search.fit(Z_train, y_train)\n",
    "print(\"Best parameter (CV score=%0.3f):\" % search.best_score_)\n",
    "print(search.best_params_)"
   ]
  },
  {
   "cell_type": "markdown",
   "metadata": {},
   "source": [
    "#### Exporting Probability of Admits for each of the Classifiers & creating deciles based on the probabilities\n",
    "\n",
    "_Excludes Linear SVM_"
   ]
  },
  {
   "cell_type": "code",
   "execution_count": 45,
   "metadata": {},
   "outputs": [],
   "source": [
    "### Pushing Logisitic Regression probabilities to output df\n",
    "\n",
    "output['lr_prob_0'] = lr.predict_proba(Z_test)[:,0]\n",
    "output['lr_prob_1'] = lr.predict_proba(Z_test)[:,1]\n",
    "\n",
    "## Sorting by prob_1\n",
    "\n",
    "output.sort_values(by = 'lr_prob_1', ascending = False, inplace=True)\n",
    "\n",
    "# adding Decile_rank column to the DataFrame \n",
    "\n",
    "output['lr_decile_rank'] = pd.qcut(output['lr_prob_1'], 10, labels = False)"
   ]
  },
  {
   "cell_type": "code",
   "execution_count": 46,
   "metadata": {},
   "outputs": [],
   "source": [
    "###Exporting Logisitic Regression probabilities Only\n",
    "output.to_csv('./output_lr.csv', index=False)"
   ]
  },
  {
   "cell_type": "code",
   "execution_count": 47,
   "metadata": {},
   "outputs": [],
   "source": [
    "### Pushing Randon Forest probabilities to output df\n",
    "\n",
    "output['rf_prob_0'] = rf.predict_proba(Z_test)[:,0]\n",
    "output['rf_prob_1'] = rf.predict_proba(Z_test)[:,1]\n",
    "\n",
    "## Sorting by prob_1\n",
    "\n",
    "output.sort_values(by = 'rf_prob_1', ascending = False, inplace=True)\n",
    "\n",
    "# adding Decile_rank column to the DataFrame \n",
    "\n",
    "output['rf_decile_rank'] = pd.qcut(output['rf_prob_1'], 10, duplicates ='raise',labels = False)"
   ]
  },
  {
   "cell_type": "code",
   "execution_count": 48,
   "metadata": {},
   "outputs": [],
   "source": [
    "### Pushing Bagging probabilities to output df\n",
    "\n",
    "output['bag_prob_0'] = bag.predict_proba(Z_test)[:,0]\n",
    "output['bag_prob_1'] = bag.predict_proba(Z_test)[:,1]\n",
    "\n",
    "## Sorting by prob_1\n",
    "\n",
    "# output.sort_values(by = 'bag_prob_1', ascending = False, inplace=True)\n",
    "\n",
    "# adding Decile_rank column to the DataFrame \n",
    "\n",
    "output['bag_decile_rank'] = pd.qcut(output['bag_prob_1'].rank(method='first'), 10, labels = False)\n"
   ]
  },
  {
   "cell_type": "code",
   "execution_count": 49,
   "metadata": {},
   "outputs": [],
   "source": [
    "### Pushing Decision Tree probabilities to output df\n",
    "\n",
    "output['dt_prob_0'] = dt.predict_proba(Z_test)[:,0]\n",
    "output['dt_prob_1'] = dt.predict_proba(Z_test)[:,1]\n",
    "\n",
    "\n",
    "# adding Decile_rank column to the DataFrame \n",
    "\n",
    "output['dt_decile_rank'] = pd.qcut(output['dt_prob_1'].rank(method='first'), 10, labels = False)"
   ]
  },
  {
   "cell_type": "code",
   "execution_count": 50,
   "metadata": {},
   "outputs": [],
   "source": [
    "### Pushing Decision Tree probabilities to output df\n",
    "\n",
    "output['knn_prob_0'] = knn.predict_proba(Z_test)[:,0]\n",
    "output['knn_prob_1'] = knn.predict_proba(Z_test)[:,1]\n",
    "\n",
    "\n",
    "# adding Decile_rank column to the DataFrame \n",
    "\n",
    "output['knn_decile_rank'] = pd.qcut(output['knn_prob_1'].rank(method='first'), 10, labels = False)"
   ]
  },
  {
   "cell_type": "code",
   "execution_count": 51,
   "metadata": {},
   "outputs": [],
   "source": [
    "###Exporting all ranks and probabilities)\n",
    "output.to_csv('./model_output.csv', index=False)"
   ]
  },
  {
   "cell_type": "code",
   "execution_count": 52,
   "metadata": {},
   "outputs": [
    {
     "data": {
      "text/plain": [
       "((72831, 79), (72831,), (24277, 79), (24277,))"
      ]
     },
     "execution_count": 52,
     "metadata": {},
     "output_type": "execute_result"
    }
   ],
   "source": [
    "Z_train.shape, y_train.shape, Z_test.shape, y_test.shape"
   ]
  },
  {
   "cell_type": "markdown",
   "metadata": {},
   "source": [
    "### Using Neural Network"
   ]
  },
  {
   "cell_type": "code",
   "execution_count": 53,
   "metadata": {},
   "outputs": [],
   "source": [
    "from tensorflow.keras.models import Sequential\n",
    "from tensorflow.keras.layers import Dense, Dropout\n",
    "from tensorflow.keras.utils import to_categorical\n",
    "\n",
    "%matplotlib inline"
   ]
  },
  {
   "cell_type": "code",
   "execution_count": 54,
   "metadata": {},
   "outputs": [],
   "source": [
    "# from sklearn.preprocessing import LabelEncoder\n",
    "# from keras.utils import np_utils\n",
    "\n",
    "# # first we have to encode class values as integers\n",
    "# encoder = LabelEncoder()\n",
    "# encoder.fit(y_train)\n",
    "# y_train_encoded = encoder.transform(y_train)\n",
    "# Y_train = np_utils.to_categorical(y_train_encoded)\n",
    "# y_test_encoded = encoder.transform(y_test)\n",
    "# Y_test = np_utils.to_categorical(y_test_encoded)"
   ]
  },
  {
   "cell_type": "code",
   "execution_count": 55,
   "metadata": {},
   "outputs": [],
   "source": [
    "model =Sequential()\n",
    "model.add(Dense(160,  ## No of neurons in the first layer Rule of thumbs base 2 # > no of features\n",
    "          input_shape = (79, ), ##shape of one sample of the training data\n",
    "          activation= 'relu')) ##rectified linear unit -- very popular & common\n",
    "\n",
    "model.add(Dense(80, activation = 'relu'))\n",
    "\n",
    "model.add(Dense(16, activation = 'relu'))\n",
    "\n",
    "\n",
    "\n",
    "model.add(Dense(1, activation = 'sigmoid'))\n",
    "          \n",
    "# Compile it\n",
    "\n",
    "# What are the two primary components of compiling the NN? \n",
    "model.compile(loss='binary_crossentropy', optimizer='adam', metrics=['accuracy'])\n"
   ]
  },
  {
   "cell_type": "code",
   "execution_count": 56,
   "metadata": {},
   "outputs": [],
   "source": [
    "model_dropout =Sequential()\n",
    "model_dropout.add(Dense(160,  ## No of neurons in the first layer Rule of thumbs base 2 # > no of features\n",
    "          input_shape = (79, ), ##shape of one sample of the training data\n",
    "          activation= 'relu')) ##rectified linear unit -- very popular & common\n",
    "model_dropout.add(Dropout(0.2))  ##Add here\n",
    "\n",
    "model_dropout.add(Dense(80, activation = 'relu'))\n",
    "model_dropout.add(Dropout(0.2))  ##Add droupout\n",
    "\n",
    "model_dropout.add(Dense(16, activation = 'relu'))\n",
    "model_dropout.add(Dropout(0.2))  ##Add droupout\n",
    "\n",
    "\n",
    "model_dropout.add(Dense(1, activation = 'sigmoid'))\n",
    "          \n",
    "# Compile it\n",
    "\n",
    "# What are the two primary components of compiling the NN? \n",
    "model_dropout.compile(loss='binary_crossentropy', optimizer='adam', metrics=['accuracy'])\n",
    "\n",
    "\n"
   ]
  },
  {
   "cell_type": "code",
   "execution_count": 57,
   "metadata": {},
   "outputs": [
    {
     "name": "stdout",
     "output_type": "stream",
     "text": [
      "Epoch 1/100\n",
      "143/143 [==============================] - ETA: 0s - loss: 0.6788 - accuracy: 0.5886WARNING:tensorflow:Callbacks method `on_test_batch_end` is slow compared to the batch time (batch time: 0.0000s vs `on_test_batch_end` time: 0.0153s). Check your callbacks.\n",
      "143/143 [==============================] - 1s 8ms/step - loss: 0.6788 - accuracy: 0.5886 - val_loss: 0.6535 - val_accuracy: 0.6123\n",
      "Epoch 2/100\n",
      "143/143 [==============================] - 0s 3ms/step - loss: 0.6509 - accuracy: 0.6181 - val_loss: 0.6492 - val_accuracy: 0.6186\n",
      "Epoch 3/100\n",
      "143/143 [==============================] - 0s 3ms/step - loss: 0.6466 - accuracy: 0.6226 - val_loss: 0.6446 - val_accuracy: 0.6249\n",
      "Epoch 4/100\n",
      "143/143 [==============================] - 0s 3ms/step - loss: 0.6441 - accuracy: 0.6267 - val_loss: 0.6462 - val_accuracy: 0.6226\n",
      "Epoch 5/100\n",
      "143/143 [==============================] - 0s 3ms/step - loss: 0.6431 - accuracy: 0.6269 - val_loss: 0.6432 - val_accuracy: 0.6267\n",
      "Epoch 6/100\n",
      "143/143 [==============================] - 0s 3ms/step - loss: 0.6416 - accuracy: 0.6295 - val_loss: 0.6468 - val_accuracy: 0.6224\n",
      "Epoch 7/100\n",
      "143/143 [==============================] - 0s 3ms/step - loss: 0.6404 - accuracy: 0.6284 - val_loss: 0.6475 - val_accuracy: 0.6220\n",
      "Epoch 8/100\n",
      "143/143 [==============================] - 0s 3ms/step - loss: 0.6393 - accuracy: 0.6305 - val_loss: 0.6436 - val_accuracy: 0.6268\n",
      "Epoch 9/100\n",
      "143/143 [==============================] - 1s 4ms/step - loss: 0.6382 - accuracy: 0.6312 - val_loss: 0.6432 - val_accuracy: 0.6253\n",
      "Epoch 10/100\n",
      "143/143 [==============================] - 0s 3ms/step - loss: 0.6362 - accuracy: 0.6347 - val_loss: 0.6418 - val_accuracy: 0.6292\n",
      "Epoch 11/100\n",
      "143/143 [==============================] - 0s 3ms/step - loss: 0.6368 - accuracy: 0.6319 - val_loss: 0.6435 - val_accuracy: 0.6234\n",
      "Epoch 12/100\n",
      "143/143 [==============================] - 0s 3ms/step - loss: 0.6340 - accuracy: 0.6353 - val_loss: 0.6448 - val_accuracy: 0.6230\n",
      "Epoch 13/100\n",
      "143/143 [==============================] - 1s 4ms/step - loss: 0.6333 - accuracy: 0.6355 - val_loss: 0.6440 - val_accuracy: 0.6285\n",
      "Epoch 14/100\n",
      "143/143 [==============================] - 0s 3ms/step - loss: 0.6324 - accuracy: 0.6379 - val_loss: 0.6473 - val_accuracy: 0.6200\n",
      "Epoch 15/100\n",
      "143/143 [==============================] - 0s 3ms/step - loss: 0.6318 - accuracy: 0.6375 - val_loss: 0.6434 - val_accuracy: 0.6283\n",
      "Epoch 16/100\n",
      "143/143 [==============================] - 1s 4ms/step - loss: 0.6296 - accuracy: 0.6397 - val_loss: 0.6437 - val_accuracy: 0.6282\n",
      "Epoch 17/100\n",
      "143/143 [==============================] - 0s 3ms/step - loss: 0.6275 - accuracy: 0.6423 - val_loss: 0.6477 - val_accuracy: 0.6240\n",
      "Epoch 18/100\n",
      "143/143 [==============================] - 0s 3ms/step - loss: 0.6253 - accuracy: 0.6433 - val_loss: 0.6497 - val_accuracy: 0.6280\n",
      "Epoch 19/100\n",
      "143/143 [==============================] - 0s 3ms/step - loss: 0.6242 - accuracy: 0.6453 - val_loss: 0.6469 - val_accuracy: 0.6285\n",
      "Epoch 20/100\n",
      "143/143 [==============================] - 0s 3ms/step - loss: 0.6229 - accuracy: 0.6462 - val_loss: 0.6483 - val_accuracy: 0.6249\n",
      "Epoch 21/100\n",
      "143/143 [==============================] - 0s 3ms/step - loss: 0.6220 - accuracy: 0.6465 - val_loss: 0.6473 - val_accuracy: 0.6264\n",
      "Epoch 22/100\n",
      "143/143 [==============================] - 0s 3ms/step - loss: 0.6202 - accuracy: 0.6480 - val_loss: 0.6482 - val_accuracy: 0.6274\n",
      "Epoch 23/100\n",
      "143/143 [==============================] - 0s 3ms/step - loss: 0.6185 - accuracy: 0.6505 - val_loss: 0.6512 - val_accuracy: 0.6229\n",
      "Epoch 24/100\n",
      "143/143 [==============================] - 0s 3ms/step - loss: 0.6167 - accuracy: 0.6501 - val_loss: 0.6575 - val_accuracy: 0.6221\n",
      "Epoch 25/100\n",
      "143/143 [==============================] - 1s 4ms/step - loss: 0.6153 - accuracy: 0.6530 - val_loss: 0.6547 - val_accuracy: 0.6243\n",
      "Epoch 26/100\n",
      "143/143 [==============================] - 0s 3ms/step - loss: 0.6128 - accuracy: 0.6537 - val_loss: 0.6621 - val_accuracy: 0.6116\n",
      "Epoch 27/100\n",
      "143/143 [==============================] - 1s 5ms/step - loss: 0.6115 - accuracy: 0.6545 - val_loss: 0.6618 - val_accuracy: 0.6245\n",
      "Epoch 28/100\n",
      "143/143 [==============================] - 1s 5ms/step - loss: 0.6099 - accuracy: 0.6549 - val_loss: 0.6579 - val_accuracy: 0.6226\n",
      "Epoch 29/100\n",
      "143/143 [==============================] - 1s 4ms/step - loss: 0.6083 - accuracy: 0.6576 - val_loss: 0.6629 - val_accuracy: 0.6252\n",
      "Epoch 30/100\n",
      "143/143 [==============================] - 1s 4ms/step - loss: 0.6059 - accuracy: 0.6588 - val_loss: 0.6669 - val_accuracy: 0.6196\n",
      "Epoch 31/100\n",
      "143/143 [==============================] - 1s 4ms/step - loss: 0.6041 - accuracy: 0.6606 - val_loss: 0.6715 - val_accuracy: 0.6229\n",
      "Epoch 32/100\n",
      "143/143 [==============================] - 1s 4ms/step - loss: 0.6013 - accuracy: 0.6622 - val_loss: 0.6700 - val_accuracy: 0.6223\n",
      "Epoch 33/100\n",
      "143/143 [==============================] - 0s 3ms/step - loss: 0.6007 - accuracy: 0.6622 - val_loss: 0.6790 - val_accuracy: 0.6230\n",
      "Epoch 34/100\n",
      "143/143 [==============================] - 0s 3ms/step - loss: 0.5990 - accuracy: 0.6646 - val_loss: 0.6842 - val_accuracy: 0.6245\n",
      "Epoch 35/100\n",
      "143/143 [==============================] - 0s 3ms/step - loss: 0.5972 - accuracy: 0.6642 - val_loss: 0.6834 - val_accuracy: 0.6186\n",
      "Epoch 36/100\n",
      "143/143 [==============================] - 0s 3ms/step - loss: 0.5961 - accuracy: 0.6657 - val_loss: 0.6861 - val_accuracy: 0.6171\n",
      "Epoch 37/100\n",
      "143/143 [==============================] - 0s 3ms/step - loss: 0.5916 - accuracy: 0.6693 - val_loss: 0.6851 - val_accuracy: 0.6198\n",
      "Epoch 38/100\n",
      "143/143 [==============================] - 0s 3ms/step - loss: 0.5922 - accuracy: 0.6690 - val_loss: 0.6898 - val_accuracy: 0.6195\n",
      "Epoch 39/100\n",
      "143/143 [==============================] - 0s 3ms/step - loss: 0.5902 - accuracy: 0.6707 - val_loss: 0.6944 - val_accuracy: 0.6203\n",
      "Epoch 40/100\n",
      "143/143 [==============================] - 0s 3ms/step - loss: 0.5874 - accuracy: 0.6724 - val_loss: 0.7019 - val_accuracy: 0.6105\n",
      "Epoch 41/100\n",
      "143/143 [==============================] - 0s 3ms/step - loss: 0.5856 - accuracy: 0.6718 - val_loss: 0.7154 - val_accuracy: 0.6019\n",
      "Epoch 42/100\n",
      "143/143 [==============================] - 0s 3ms/step - loss: 0.5840 - accuracy: 0.6754 - val_loss: 0.7037 - val_accuracy: 0.6166\n",
      "Epoch 43/100\n",
      "143/143 [==============================] - 0s 3ms/step - loss: 0.5823 - accuracy: 0.6759 - val_loss: 0.7068 - val_accuracy: 0.6200\n",
      "Epoch 44/100\n",
      "143/143 [==============================] - 0s 3ms/step - loss: 0.5825 - accuracy: 0.6759 - val_loss: 0.7149 - val_accuracy: 0.6173\n",
      "Epoch 45/100\n",
      "143/143 [==============================] - 0s 3ms/step - loss: 0.5793 - accuracy: 0.6790 - val_loss: 0.7079 - val_accuracy: 0.6166\n",
      "Epoch 46/100\n",
      "143/143 [==============================] - 0s 3ms/step - loss: 0.5750 - accuracy: 0.6816 - val_loss: 0.7410 - val_accuracy: 0.6203\n",
      "Epoch 47/100\n",
      "143/143 [==============================] - 0s 3ms/step - loss: 0.5768 - accuracy: 0.6802 - val_loss: 0.7343 - val_accuracy: 0.6175\n",
      "Epoch 48/100\n",
      "143/143 [==============================] - 0s 3ms/step - loss: 0.5725 - accuracy: 0.6831 - val_loss: 0.7322 - val_accuracy: 0.6188\n",
      "Epoch 49/100\n",
      "143/143 [==============================] - 0s 3ms/step - loss: 0.5700 - accuracy: 0.6841 - val_loss: 0.7455 - val_accuracy: 0.6189\n",
      "Epoch 50/100\n",
      "143/143 [==============================] - 0s 3ms/step - loss: 0.5690 - accuracy: 0.6843 - val_loss: 0.7425 - val_accuracy: 0.6172\n",
      "Epoch 51/100\n",
      "143/143 [==============================] - 0s 3ms/step - loss: 0.5670 - accuracy: 0.6862 - val_loss: 0.7651 - val_accuracy: 0.6194\n",
      "Epoch 52/100\n",
      "143/143 [==============================] - 0s 3ms/step - loss: 0.5646 - accuracy: 0.6888 - val_loss: 0.7641 - val_accuracy: 0.6145\n",
      "Epoch 53/100\n",
      "143/143 [==============================] - 0s 3ms/step - loss: 0.5625 - accuracy: 0.6901 - val_loss: 0.7752 - val_accuracy: 0.6192\n",
      "Epoch 54/100\n",
      "143/143 [==============================] - 0s 3ms/step - loss: 0.5614 - accuracy: 0.6925 - val_loss: 0.7917 - val_accuracy: 0.6142\n",
      "Epoch 55/100\n",
      "143/143 [==============================] - 0s 3ms/step - loss: 0.5600 - accuracy: 0.6905 - val_loss: 0.7946 - val_accuracy: 0.6144\n",
      "Epoch 56/100\n",
      "143/143 [==============================] - 0s 3ms/step - loss: 0.5581 - accuracy: 0.6931 - val_loss: 0.7898 - val_accuracy: 0.6135\n",
      "Epoch 57/100\n",
      "143/143 [==============================] - 0s 3ms/step - loss: 0.5574 - accuracy: 0.6918 - val_loss: 0.7914 - val_accuracy: 0.6139\n",
      "Epoch 58/100\n",
      "143/143 [==============================] - 0s 3ms/step - loss: 0.5535 - accuracy: 0.6956 - val_loss: 0.8006 - val_accuracy: 0.6168\n",
      "Epoch 59/100\n",
      "143/143 [==============================] - 0s 3ms/step - loss: 0.5509 - accuracy: 0.6980 - val_loss: 0.8288 - val_accuracy: 0.6184\n",
      "Epoch 60/100\n",
      "143/143 [==============================] - 0s 3ms/step - loss: 0.5526 - accuracy: 0.6962 - val_loss: 0.8159 - val_accuracy: 0.6140\n",
      "Epoch 61/100\n",
      "143/143 [==============================] - 0s 3ms/step - loss: 0.5497 - accuracy: 0.6994 - val_loss: 0.8238 - val_accuracy: 0.6132\n",
      "Epoch 62/100\n",
      "143/143 [==============================] - 0s 3ms/step - loss: 0.5492 - accuracy: 0.6995 - val_loss: 0.8338 - val_accuracy: 0.6063\n",
      "Epoch 63/100\n",
      "143/143 [==============================] - 0s 3ms/step - loss: 0.5463 - accuracy: 0.7019 - val_loss: 0.8273 - val_accuracy: 0.6112\n",
      "Epoch 64/100\n",
      "143/143 [==============================] - 0s 3ms/step - loss: 0.5460 - accuracy: 0.7013 - val_loss: 0.8235 - val_accuracy: 0.6048\n",
      "Epoch 65/100\n",
      "143/143 [==============================] - 0s 3ms/step - loss: 0.5421 - accuracy: 0.7040 - val_loss: 0.8606 - val_accuracy: 0.6032\n",
      "Epoch 66/100\n",
      "143/143 [==============================] - 0s 3ms/step - loss: 0.5441 - accuracy: 0.7023 - val_loss: 0.8427 - val_accuracy: 0.6124\n",
      "Epoch 67/100\n",
      "143/143 [==============================] - 0s 3ms/step - loss: 0.5415 - accuracy: 0.7041 - val_loss: 0.8542 - val_accuracy: 0.6050\n",
      "Epoch 68/100\n",
      "143/143 [==============================] - 0s 3ms/step - loss: 0.5390 - accuracy: 0.7045 - val_loss: 0.8547 - val_accuracy: 0.6046\n",
      "Epoch 69/100\n",
      "143/143 [==============================] - 0s 3ms/step - loss: 0.5356 - accuracy: 0.7073 - val_loss: 0.8672 - val_accuracy: 0.6101\n",
      "Epoch 70/100\n",
      "143/143 [==============================] - 0s 3ms/step - loss: 0.5348 - accuracy: 0.7082 - val_loss: 0.8692 - val_accuracy: 0.6056\n",
      "Epoch 71/100\n",
      "143/143 [==============================] - 0s 3ms/step - loss: 0.5325 - accuracy: 0.7106 - val_loss: 0.8966 - val_accuracy: 0.6084\n",
      "Epoch 72/100\n",
      "143/143 [==============================] - 0s 3ms/step - loss: 0.5312 - accuracy: 0.7113 - val_loss: 0.8909 - val_accuracy: 0.5987\n",
      "Epoch 73/100\n",
      "143/143 [==============================] - 0s 3ms/step - loss: 0.5314 - accuracy: 0.7110 - val_loss: 0.9060 - val_accuracy: 0.6072\n",
      "Epoch 74/100\n",
      "143/143 [==============================] - 1s 4ms/step - loss: 0.5286 - accuracy: 0.7134 - val_loss: 0.9166 - val_accuracy: 0.6060\n",
      "Epoch 75/100\n",
      "143/143 [==============================] - 0s 3ms/step - loss: 0.5278 - accuracy: 0.7139 - val_loss: 0.9110 - val_accuracy: 0.6119\n",
      "Epoch 76/100\n",
      "143/143 [==============================] - 0s 3ms/step - loss: 0.5266 - accuracy: 0.7146 - val_loss: 0.9407 - val_accuracy: 0.6135\n",
      "Epoch 77/100\n",
      "143/143 [==============================] - 0s 3ms/step - loss: 0.5267 - accuracy: 0.7148 - val_loss: 0.9334 - val_accuracy: 0.6073\n",
      "Epoch 78/100\n",
      "143/143 [==============================] - 0s 3ms/step - loss: 0.5244 - accuracy: 0.7155 - val_loss: 0.9318 - val_accuracy: 0.6050\n",
      "Epoch 79/100\n",
      "143/143 [==============================] - 0s 3ms/step - loss: 0.5231 - accuracy: 0.7168 - val_loss: 0.9395 - val_accuracy: 0.6008\n",
      "Epoch 80/100\n",
      "143/143 [==============================] - 1s 4ms/step - loss: 0.5252 - accuracy: 0.7157 - val_loss: 0.9535 - val_accuracy: 0.6025\n",
      "Epoch 81/100\n",
      "143/143 [==============================] - 1s 4ms/step - loss: 0.5191 - accuracy: 0.7195 - val_loss: 0.9502 - val_accuracy: 0.6070\n",
      "Epoch 82/100\n",
      "143/143 [==============================] - 1s 4ms/step - loss: 0.5171 - accuracy: 0.7208 - val_loss: 0.9729 - val_accuracy: 0.6082\n",
      "Epoch 83/100\n",
      "143/143 [==============================] - 1s 4ms/step - loss: 0.5175 - accuracy: 0.7213 - val_loss: 0.9508 - val_accuracy: 0.6057\n",
      "Epoch 84/100\n",
      "143/143 [==============================] - 1s 4ms/step - loss: 0.5164 - accuracy: 0.7208 - val_loss: 0.9882 - val_accuracy: 0.6081\n",
      "Epoch 85/100\n",
      "143/143 [==============================] - 0s 3ms/step - loss: 0.5134 - accuracy: 0.7233 - val_loss: 0.9848 - val_accuracy: 0.6020\n",
      "Epoch 86/100\n",
      "143/143 [==============================] - 0s 3ms/step - loss: 0.5155 - accuracy: 0.7217 - val_loss: 0.9868 - val_accuracy: 0.6059\n",
      "Epoch 87/100\n",
      "143/143 [==============================] - 0s 3ms/step - loss: 0.5115 - accuracy: 0.7250 - val_loss: 1.0007 - val_accuracy: 0.6082\n",
      "Epoch 88/100\n",
      "143/143 [==============================] - 0s 3ms/step - loss: 0.5152 - accuracy: 0.7247 - val_loss: 0.9959 - val_accuracy: 0.6066\n",
      "Epoch 89/100\n",
      "143/143 [==============================] - 0s 3ms/step - loss: 0.5165 - accuracy: 0.7212 - val_loss: 0.9951 - val_accuracy: 0.6050\n",
      "Epoch 90/100\n",
      "143/143 [==============================] - 0s 3ms/step - loss: 0.5105 - accuracy: 0.7251 - val_loss: 1.0207 - val_accuracy: 0.6016\n",
      "Epoch 91/100\n",
      "143/143 [==============================] - 0s 3ms/step - loss: 0.5082 - accuracy: 0.7271 - val_loss: 1.0307 - val_accuracy: 0.6066\n",
      "Epoch 92/100\n",
      "143/143 [==============================] - 0s 3ms/step - loss: 0.5043 - accuracy: 0.7290 - val_loss: 1.0400 - val_accuracy: 0.6042\n",
      "Epoch 93/100\n",
      "143/143 [==============================] - 0s 3ms/step - loss: 0.5025 - accuracy: 0.7295 - val_loss: 1.0502 - val_accuracy: 0.6054\n",
      "Epoch 94/100\n",
      "143/143 [==============================] - 0s 3ms/step - loss: 0.5017 - accuracy: 0.7307 - val_loss: 1.0659 - val_accuracy: 0.6035\n",
      "Epoch 95/100\n",
      "143/143 [==============================] - 0s 3ms/step - loss: 0.5029 - accuracy: 0.7298 - val_loss: 1.0260 - val_accuracy: 0.6014\n",
      "Epoch 96/100\n",
      "143/143 [==============================] - 0s 3ms/step - loss: 0.5031 - accuracy: 0.7303 - val_loss: 1.0810 - val_accuracy: 0.6018\n",
      "Epoch 97/100\n",
      "143/143 [==============================] - 0s 3ms/step - loss: 0.5009 - accuracy: 0.7315 - val_loss: 1.0569 - val_accuracy: 0.6044\n",
      "Epoch 98/100\n",
      "143/143 [==============================] - 0s 3ms/step - loss: 0.5030 - accuracy: 0.7302 - val_loss: 1.0531 - val_accuracy: 0.5965\n",
      "Epoch 99/100\n",
      "143/143 [==============================] - 0s 3ms/step - loss: 0.5023 - accuracy: 0.7295 - val_loss: 1.0864 - val_accuracy: 0.5940\n",
      "Epoch 100/100\n",
      "143/143 [==============================] - 0s 3ms/step - loss: 0.5005 - accuracy: 0.7298 - val_loss: 1.0745 - val_accuracy: 0.6052\n"
     ]
    }
   ],
   "source": [
    "# Fit the model\n",
    "# What are all the possible components here? What are the areas we explored on Thursday?\n",
    "\n",
    "history= model.fit(Z_train, y_train, validation_data=(Z_test, y_test), epochs=100, batch_size=512, verbose=1)\n"
   ]
  },
  {
   "cell_type": "code",
   "execution_count": 58,
   "metadata": {},
   "outputs": [
    {
     "name": "stdout",
     "output_type": "stream",
     "text": [
      "Epoch 1/100\n",
      "143/143 [==============================] - 1s 6ms/step - loss: 0.7428 - accuracy: 0.5198 - val_loss: 0.6927 - val_accuracy: 0.5237\n",
      "Epoch 2/100\n",
      "143/143 [==============================] - 1s 5ms/step - loss: 0.6931 - accuracy: 0.5259 - val_loss: 0.6922 - val_accuracy: 0.5237\n",
      "Epoch 3/100\n",
      "143/143 [==============================] - 1s 5ms/step - loss: 0.6913 - accuracy: 0.5261 - val_loss: 0.6908 - val_accuracy: 0.5237\n",
      "Epoch 4/100\n",
      "143/143 [==============================] - 1s 5ms/step - loss: 0.6892 - accuracy: 0.5264 - val_loss: 0.6844 - val_accuracy: 0.5256\n",
      "Epoch 5/100\n",
      "143/143 [==============================] - 1s 5ms/step - loss: 0.6802 - accuracy: 0.5487 - val_loss: 0.6728 - val_accuracy: 0.6011\n",
      "Epoch 6/100\n",
      "143/143 [==============================] - 1s 5ms/step - loss: 0.6662 - accuracy: 0.6013 - val_loss: 0.6502 - val_accuracy: 0.6162\n",
      "Epoch 7/100\n",
      "143/143 [==============================] - 1s 5ms/step - loss: 0.6575 - accuracy: 0.6113 - val_loss: 0.6482 - val_accuracy: 0.6227\n",
      "Epoch 8/100\n",
      "143/143 [==============================] - 1s 5ms/step - loss: 0.6552 - accuracy: 0.6164 - val_loss: 0.6460 - val_accuracy: 0.6234\n",
      "Epoch 9/100\n",
      "143/143 [==============================] - 1s 5ms/step - loss: 0.6532 - accuracy: 0.6187 - val_loss: 0.6451 - val_accuracy: 0.6241\n",
      "Epoch 10/100\n",
      "143/143 [==============================] - 1s 5ms/step - loss: 0.6516 - accuracy: 0.6218 - val_loss: 0.6449 - val_accuracy: 0.6239\n",
      "Epoch 11/100\n",
      "143/143 [==============================] - 1s 5ms/step - loss: 0.6496 - accuracy: 0.6251 - val_loss: 0.6440 - val_accuracy: 0.6248\n",
      "Epoch 12/100\n",
      "143/143 [==============================] - 1s 5ms/step - loss: 0.6491 - accuracy: 0.6265 - val_loss: 0.6441 - val_accuracy: 0.6255\n",
      "Epoch 13/100\n",
      "143/143 [==============================] - 1s 5ms/step - loss: 0.6488 - accuracy: 0.6260 - val_loss: 0.6440 - val_accuracy: 0.6224\n",
      "Epoch 14/100\n",
      "143/143 [==============================] - 1s 5ms/step - loss: 0.6474 - accuracy: 0.6277 - val_loss: 0.6451 - val_accuracy: 0.6251\n",
      "Epoch 15/100\n",
      "143/143 [==============================] - 1s 5ms/step - loss: 0.6467 - accuracy: 0.6279 - val_loss: 0.6420 - val_accuracy: 0.6280\n",
      "Epoch 16/100\n",
      "143/143 [==============================] - 1s 5ms/step - loss: 0.6460 - accuracy: 0.6283 - val_loss: 0.6419 - val_accuracy: 0.6269\n",
      "Epoch 17/100\n",
      "143/143 [==============================] - 1s 5ms/step - loss: 0.6448 - accuracy: 0.6301 - val_loss: 0.6427 - val_accuracy: 0.6260\n",
      "Epoch 18/100\n",
      "143/143 [==============================] - 1s 5ms/step - loss: 0.6446 - accuracy: 0.6295 - val_loss: 0.6416 - val_accuracy: 0.6273\n",
      "Epoch 19/100\n",
      "143/143 [==============================] - 1s 5ms/step - loss: 0.6437 - accuracy: 0.6323 - val_loss: 0.6409 - val_accuracy: 0.6249\n",
      "Epoch 20/100\n",
      "143/143 [==============================] - 1s 5ms/step - loss: 0.6433 - accuracy: 0.6314 - val_loss: 0.6423 - val_accuracy: 0.6283\n",
      "Epoch 21/100\n",
      "143/143 [==============================] - 1s 5ms/step - loss: 0.6426 - accuracy: 0.6302 - val_loss: 0.6423 - val_accuracy: 0.6278\n",
      "Epoch 22/100\n",
      "143/143 [==============================] - 1s 5ms/step - loss: 0.6424 - accuracy: 0.6323 - val_loss: 0.6402 - val_accuracy: 0.6266\n",
      "Epoch 23/100\n",
      "143/143 [==============================] - 1s 5ms/step - loss: 0.6419 - accuracy: 0.6324 - val_loss: 0.6424 - val_accuracy: 0.6268\n",
      "Epoch 24/100\n",
      "143/143 [==============================] - 1s 5ms/step - loss: 0.6411 - accuracy: 0.6343 - val_loss: 0.6408 - val_accuracy: 0.6278\n",
      "Epoch 25/100\n",
      "143/143 [==============================] - 1s 5ms/step - loss: 0.6410 - accuracy: 0.6333 - val_loss: 0.6420 - val_accuracy: 0.6262\n",
      "Epoch 26/100\n",
      "143/143 [==============================] - 1s 5ms/step - loss: 0.6400 - accuracy: 0.6355 - val_loss: 0.6419 - val_accuracy: 0.6265\n",
      "Epoch 27/100\n",
      "143/143 [==============================] - 1s 5ms/step - loss: 0.6386 - accuracy: 0.6359 - val_loss: 0.6414 - val_accuracy: 0.6287\n",
      "Epoch 28/100\n",
      "143/143 [==============================] - 1s 5ms/step - loss: 0.6389 - accuracy: 0.6359 - val_loss: 0.6404 - val_accuracy: 0.6315\n",
      "Epoch 29/100\n",
      "143/143 [==============================] - 1s 5ms/step - loss: 0.6374 - accuracy: 0.6389 - val_loss: 0.6412 - val_accuracy: 0.6275\n",
      "Epoch 30/100\n",
      "143/143 [==============================] - 1s 5ms/step - loss: 0.6366 - accuracy: 0.6373 - val_loss: 0.6411 - val_accuracy: 0.6273\n",
      "Epoch 31/100\n",
      "143/143 [==============================] - 1s 5ms/step - loss: 0.6371 - accuracy: 0.6376 - val_loss: 0.6414 - val_accuracy: 0.6287\n",
      "Epoch 32/100\n",
      "143/143 [==============================] - 1s 5ms/step - loss: 0.6361 - accuracy: 0.6378 - val_loss: 0.6409 - val_accuracy: 0.6289\n",
      "Epoch 33/100\n",
      "143/143 [==============================] - 1s 5ms/step - loss: 0.6348 - accuracy: 0.6399 - val_loss: 0.6415 - val_accuracy: 0.6287\n",
      "Epoch 34/100\n",
      "143/143 [==============================] - 1s 5ms/step - loss: 0.6338 - accuracy: 0.6419 - val_loss: 0.6425 - val_accuracy: 0.6291\n",
      "Epoch 35/100\n",
      "143/143 [==============================] - 1s 5ms/step - loss: 0.6335 - accuracy: 0.6414 - val_loss: 0.6405 - val_accuracy: 0.6290\n",
      "Epoch 36/100\n",
      "143/143 [==============================] - 1s 5ms/step - loss: 0.6322 - accuracy: 0.6404 - val_loss: 0.6422 - val_accuracy: 0.6291\n",
      "Epoch 37/100\n",
      "143/143 [==============================] - 1s 5ms/step - loss: 0.6321 - accuracy: 0.6406 - val_loss: 0.6427 - val_accuracy: 0.6280\n",
      "Epoch 38/100\n",
      "143/143 [==============================] - 1s 5ms/step - loss: 0.6306 - accuracy: 0.6421 - val_loss: 0.6420 - val_accuracy: 0.6277\n",
      "Epoch 39/100\n",
      "143/143 [==============================] - 1s 5ms/step - loss: 0.6312 - accuracy: 0.6426 - val_loss: 0.6420 - val_accuracy: 0.6281\n",
      "Epoch 40/100\n",
      "143/143 [==============================] - 1s 5ms/step - loss: 0.6294 - accuracy: 0.6451 - val_loss: 0.6412 - val_accuracy: 0.6289\n",
      "Epoch 41/100\n",
      "143/143 [==============================] - 1s 5ms/step - loss: 0.6290 - accuracy: 0.6448 - val_loss: 0.6434 - val_accuracy: 0.6254\n",
      "Epoch 42/100\n",
      "143/143 [==============================] - 1s 5ms/step - loss: 0.6277 - accuracy: 0.6457 - val_loss: 0.6443 - val_accuracy: 0.6272\n",
      "Epoch 43/100\n",
      "143/143 [==============================] - 1s 5ms/step - loss: 0.6269 - accuracy: 0.6468 - val_loss: 0.6443 - val_accuracy: 0.6257\n",
      "Epoch 44/100\n",
      "143/143 [==============================] - 1s 5ms/step - loss: 0.6271 - accuracy: 0.6453 - val_loss: 0.6459 - val_accuracy: 0.6261\n",
      "Epoch 45/100\n",
      "143/143 [==============================] - 1s 5ms/step - loss: 0.6261 - accuracy: 0.6475 - val_loss: 0.6426 - val_accuracy: 0.6314\n",
      "Epoch 46/100\n",
      "143/143 [==============================] - 1s 5ms/step - loss: 0.6245 - accuracy: 0.6467 - val_loss: 0.6461 - val_accuracy: 0.6275\n",
      "Epoch 47/100\n",
      "143/143 [==============================] - 1s 5ms/step - loss: 0.6237 - accuracy: 0.6495 - val_loss: 0.6453 - val_accuracy: 0.6298\n",
      "Epoch 48/100\n",
      "143/143 [==============================] - 1s 5ms/step - loss: 0.6239 - accuracy: 0.6489 - val_loss: 0.6439 - val_accuracy: 0.6298\n",
      "Epoch 49/100\n",
      "143/143 [==============================] - 1s 5ms/step - loss: 0.6228 - accuracy: 0.6505 - val_loss: 0.6456 - val_accuracy: 0.6270\n",
      "Epoch 50/100\n",
      "143/143 [==============================] - 1s 5ms/step - loss: 0.6231 - accuracy: 0.6507 - val_loss: 0.6489 - val_accuracy: 0.6277\n",
      "Epoch 51/100\n",
      "143/143 [==============================] - 1s 5ms/step - loss: 0.6203 - accuracy: 0.6514 - val_loss: 0.6482 - val_accuracy: 0.6277\n",
      "Epoch 52/100\n",
      "143/143 [==============================] - 1s 5ms/step - loss: 0.6218 - accuracy: 0.6492 - val_loss: 0.6480 - val_accuracy: 0.6282\n",
      "Epoch 53/100\n",
      "143/143 [==============================] - 1s 5ms/step - loss: 0.6194 - accuracy: 0.6527 - val_loss: 0.6494 - val_accuracy: 0.6261\n",
      "Epoch 54/100\n",
      "143/143 [==============================] - 1s 5ms/step - loss: 0.6186 - accuracy: 0.6533 - val_loss: 0.6498 - val_accuracy: 0.6297\n",
      "Epoch 55/100\n",
      "143/143 [==============================] - 1s 5ms/step - loss: 0.6182 - accuracy: 0.6537 - val_loss: 0.6493 - val_accuracy: 0.6246\n",
      "Epoch 56/100\n",
      "143/143 [==============================] - 1s 5ms/step - loss: 0.6166 - accuracy: 0.6554 - val_loss: 0.6481 - val_accuracy: 0.6280\n",
      "Epoch 57/100\n",
      "143/143 [==============================] - 1s 5ms/step - loss: 0.6168 - accuracy: 0.6553 - val_loss: 0.6483 - val_accuracy: 0.6273\n"
     ]
    },
    {
     "name": "stdout",
     "output_type": "stream",
     "text": [
      "Epoch 58/100\n",
      "143/143 [==============================] - 1s 5ms/step - loss: 0.6162 - accuracy: 0.6544 - val_loss: 0.6515 - val_accuracy: 0.6261\n",
      "Epoch 59/100\n",
      "143/143 [==============================] - 1s 5ms/step - loss: 0.6153 - accuracy: 0.6560 - val_loss: 0.6492 - val_accuracy: 0.6266\n",
      "Epoch 60/100\n",
      "143/143 [==============================] - 1s 5ms/step - loss: 0.6142 - accuracy: 0.6571 - val_loss: 0.6520 - val_accuracy: 0.6277\n",
      "Epoch 61/100\n",
      "143/143 [==============================] - 1s 5ms/step - loss: 0.6125 - accuracy: 0.6571 - val_loss: 0.6532 - val_accuracy: 0.6248\n",
      "Epoch 62/100\n",
      "143/143 [==============================] - 1s 5ms/step - loss: 0.6131 - accuracy: 0.6548 - val_loss: 0.6522 - val_accuracy: 0.6244\n",
      "Epoch 63/100\n",
      "143/143 [==============================] - 1s 5ms/step - loss: 0.6111 - accuracy: 0.6591 - val_loss: 0.6560 - val_accuracy: 0.6246\n",
      "Epoch 64/100\n",
      "143/143 [==============================] - 1s 5ms/step - loss: 0.6117 - accuracy: 0.6590 - val_loss: 0.6541 - val_accuracy: 0.6261\n",
      "Epoch 65/100\n",
      "143/143 [==============================] - 1s 5ms/step - loss: 0.6097 - accuracy: 0.6603 - val_loss: 0.6535 - val_accuracy: 0.6248\n",
      "Epoch 66/100\n",
      "143/143 [==============================] - 1s 5ms/step - loss: 0.6112 - accuracy: 0.6601 - val_loss: 0.6539 - val_accuracy: 0.6236\n",
      "Epoch 67/100\n",
      "143/143 [==============================] - 1s 5ms/step - loss: 0.6088 - accuracy: 0.6612 - val_loss: 0.6529 - val_accuracy: 0.6238\n",
      "Epoch 68/100\n",
      "143/143 [==============================] - 1s 5ms/step - loss: 0.6074 - accuracy: 0.6626 - val_loss: 0.6554 - val_accuracy: 0.6227\n",
      "Epoch 69/100\n",
      "143/143 [==============================] - 1s 5ms/step - loss: 0.6074 - accuracy: 0.6628 - val_loss: 0.6619 - val_accuracy: 0.6260\n",
      "Epoch 70/100\n",
      "143/143 [==============================] - 1s 5ms/step - loss: 0.6067 - accuracy: 0.6633 - val_loss: 0.6592 - val_accuracy: 0.6232\n",
      "Epoch 71/100\n",
      "143/143 [==============================] - ETA: 0s - loss: 0.6042 - accuracy: 0.66 - 1s 5ms/step - loss: 0.6040 - accuracy: 0.6650 - val_loss: 0.6607 - val_accuracy: 0.6221\n",
      "Epoch 72/100\n",
      "143/143 [==============================] - 1s 5ms/step - loss: 0.6042 - accuracy: 0.6657 - val_loss: 0.6597 - val_accuracy: 0.6224\n",
      "Epoch 73/100\n",
      "143/143 [==============================] - 1s 5ms/step - loss: 0.6041 - accuracy: 0.6652 - val_loss: 0.6579 - val_accuracy: 0.6252\n",
      "Epoch 74/100\n",
      "143/143 [==============================] - 1s 5ms/step - loss: 0.6043 - accuracy: 0.6663 - val_loss: 0.6597 - val_accuracy: 0.6238\n",
      "Epoch 75/100\n",
      "143/143 [==============================] - 1s 5ms/step - loss: 0.6036 - accuracy: 0.6653 - val_loss: 0.6607 - val_accuracy: 0.6226\n",
      "Epoch 76/100\n",
      "143/143 [==============================] - 1s 5ms/step - loss: 0.6019 - accuracy: 0.6691 - val_loss: 0.6611 - val_accuracy: 0.6230\n",
      "Epoch 77/100\n",
      "143/143 [==============================] - 1s 5ms/step - loss: 0.6015 - accuracy: 0.6684 - val_loss: 0.6653 - val_accuracy: 0.6240\n",
      "Epoch 78/100\n",
      "143/143 [==============================] - 1s 5ms/step - loss: 0.6013 - accuracy: 0.6696 - val_loss: 0.6659 - val_accuracy: 0.6219\n",
      "Epoch 79/100\n",
      "143/143 [==============================] - 1s 5ms/step - loss: 0.5999 - accuracy: 0.6685 - val_loss: 0.6640 - val_accuracy: 0.6211\n",
      "Epoch 80/100\n",
      "143/143 [==============================] - 1s 5ms/step - loss: 0.5992 - accuracy: 0.6679 - val_loss: 0.6653 - val_accuracy: 0.6184\n",
      "Epoch 81/100\n",
      "143/143 [==============================] - 1s 5ms/step - loss: 0.5974 - accuracy: 0.6707 - val_loss: 0.6681 - val_accuracy: 0.6205\n",
      "Epoch 82/100\n",
      "143/143 [==============================] - 1s 5ms/step - loss: 0.5987 - accuracy: 0.6709 - val_loss: 0.6635 - val_accuracy: 0.6205\n",
      "Epoch 83/100\n",
      "143/143 [==============================] - 1s 5ms/step - loss: 0.5960 - accuracy: 0.6723 - val_loss: 0.6695 - val_accuracy: 0.6198\n",
      "Epoch 84/100\n",
      "143/143 [==============================] - 1s 5ms/step - loss: 0.5960 - accuracy: 0.6707 - val_loss: 0.6676 - val_accuracy: 0.6215\n",
      "Epoch 85/100\n",
      "143/143 [==============================] - 1s 5ms/step - loss: 0.5967 - accuracy: 0.6737 - val_loss: 0.6686 - val_accuracy: 0.6201\n",
      "Epoch 86/100\n",
      "143/143 [==============================] - 1s 5ms/step - loss: 0.5951 - accuracy: 0.6727 - val_loss: 0.6695 - val_accuracy: 0.6198\n",
      "Epoch 87/100\n",
      "143/143 [==============================] - 1s 5ms/step - loss: 0.5948 - accuracy: 0.6726 - val_loss: 0.6693 - val_accuracy: 0.6208\n",
      "Epoch 88/100\n",
      "143/143 [==============================] - 1s 5ms/step - loss: 0.5939 - accuracy: 0.6741 - val_loss: 0.6701 - val_accuracy: 0.6197\n",
      "Epoch 89/100\n",
      "143/143 [==============================] - 1s 5ms/step - loss: 0.5928 - accuracy: 0.6740 - val_loss: 0.6697 - val_accuracy: 0.6202\n",
      "Epoch 90/100\n",
      "143/143 [==============================] - 1s 5ms/step - loss: 0.5913 - accuracy: 0.6748 - val_loss: 0.6743 - val_accuracy: 0.6219\n",
      "Epoch 91/100\n",
      "143/143 [==============================] - 1s 6ms/step - loss: 0.5918 - accuracy: 0.6745 - val_loss: 0.6740 - val_accuracy: 0.6196\n",
      "Epoch 92/100\n",
      "143/143 [==============================] - 1s 6ms/step - loss: 0.5902 - accuracy: 0.6768 - val_loss: 0.6740 - val_accuracy: 0.6224\n",
      "Epoch 93/100\n",
      "143/143 [==============================] - 1s 6ms/step - loss: 0.5922 - accuracy: 0.6744 - val_loss: 0.6741 - val_accuracy: 0.6188\n",
      "Epoch 94/100\n",
      "143/143 [==============================] - 1s 5ms/step - loss: 0.5900 - accuracy: 0.6773 - val_loss: 0.6746 - val_accuracy: 0.6230\n",
      "Epoch 95/100\n",
      "143/143 [==============================] - 1s 5ms/step - loss: 0.5903 - accuracy: 0.6762 - val_loss: 0.6734 - val_accuracy: 0.6202\n",
      "Epoch 96/100\n",
      "143/143 [==============================] - 1s 5ms/step - loss: 0.5902 - accuracy: 0.6763 - val_loss: 0.6766 - val_accuracy: 0.6224\n",
      "Epoch 97/100\n",
      "143/143 [==============================] - 1s 5ms/step - loss: 0.5894 - accuracy: 0.6783 - val_loss: 0.6717 - val_accuracy: 0.6201\n",
      "Epoch 98/100\n",
      "143/143 [==============================] - 1s 5ms/step - loss: 0.5871 - accuracy: 0.6789 - val_loss: 0.6735 - val_accuracy: 0.6183\n",
      "Epoch 99/100\n",
      "143/143 [==============================] - 1s 5ms/step - loss: 0.5868 - accuracy: 0.6789 - val_loss: 0.6730 - val_accuracy: 0.6183\n",
      "Epoch 100/100\n",
      "143/143 [==============================] - 1s 5ms/step - loss: 0.5862 - accuracy: 0.6779 - val_loss: 0.6753 - val_accuracy: 0.6183\n"
     ]
    }
   ],
   "source": [
    "# Fit the model\n",
    "# What are all the possible components here? What are the areas we explored on Thursday?\n",
    "\n",
    "history_dropout= model_dropout.fit(Z_train, y_train, validation_data=(Z_test, y_test), epochs=100, batch_size=512, verbose=1)\n"
   ]
  },
  {
   "cell_type": "code",
   "execution_count": 59,
   "metadata": {
    "scrolled": false
   },
   "outputs": [
    {
     "data": {
      "image/png": "[encoded data removed]",
      "text/plain": [
       "<Figure size 864x576 with 1 Axes>"
      ]
     },
     "metadata": {
      "needs_background": "light"
     },
     "output_type": "display_data"
    }
   ],
   "source": [
    "# Visualize loss\n",
    "train_loss = history.history['loss']\n",
    "test_loss = history.history['val_loss']\n",
    "\n",
    "\n",
    "train_loss_dropout = history_dropout.history['loss']\n",
    "test_loss_dropout = history_dropout.history['val_loss']\n",
    "\n",
    "plt.figure(figsize=(12, 8))\n",
    "plt.plot(train_loss, label='Training loss', color='navy')\n",
    "plt.plot(test_loss, label='Testing loss', color='skyblue')\n",
    "plt.plot(train_loss_dropout, label='Dropout Training loss', color='darkgreen')\n",
    "plt.plot(test_loss_dropout, label='Dropout Testing loss', color='lightgreen')\n",
    "plt.legend();"
   ]
  }
 ],
 "metadata": {
  "kernelspec": {
   "display_name": "Python 3",
   "language": "python",
   "name": "python3"
  },
  "language_info": {
   "codemirror_mode": {
    "name": "ipython",
    "version": 3
   },
   "file_extension": ".py",
   "mimetype": "text/x-python",
   "name": "python",
   "nbconvert_exporter": "python",
   "pygments_lexer": "ipython3",
   "version": "3.8.3"
  }
 },
 "nbformat": 4,
 "nbformat_minor": 4
}
