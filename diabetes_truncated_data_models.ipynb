{
 "cells": [
  {
   "cell_type": "code",
   "execution_count": 1,
   "metadata": {},
   "outputs": [],
   "source": [
    "import pandas as pd\n",
    "import numpy as np\n",
    "import matplotlib.pyplot as plt\n",
    "import seaborn as sns"
   ]
  },
  {
   "cell_type": "markdown",
   "metadata": {},
   "source": [
    "### Reading the data and preparing the file for input"
   ]
  },
  {
   "cell_type": "code",
   "execution_count": 2,
   "metadata": {},
   "outputs": [],
   "source": [
    "df = pd.read_csv('./dataset_diabetes/diabetic_data.csv')"
   ]
  },
  {
   "cell_type": "markdown",
   "metadata": {},
   "source": [
    "Counting the no of changes due to one or many of the 23 diabetes drugs given to the patient by change type -- 'Down', 'Steady' and 'Up'"
   ]
  },
  {
   "cell_type": "code",
   "execution_count": 3,
   "metadata": {},
   "outputs": [],
   "source": [
    "drugs = ['metformin', 'repaglinide', 'nateglinide', 'chlorpropamide',\n",
    "       'glimepiride', 'acetohexamide', 'glipizide', 'glyburide', 'tolbutamide',\n",
    "       'pioglitazone', 'rosiglitazone', 'acarbose', 'miglitol', 'troglitazone',\n",
    "       'tolazamide', 'examide', 'citoglipton', 'insulin',\n",
    "       'glyburide-metformin', 'glipizide-metformin',\n",
    "       'glimepiride-pioglitazone', 'metformin-rosiglitazone',\n",
    "       'metformin-pioglitazone']\n",
    "\n",
    "\n",
    "\n",
    "for x in df:\n",
    "    count = 0\n",
    "    for drug in drugs:\n",
    "        count = count + (df[drug] =='Up')\n",
    "    df['Up'] = count\n",
    "\n",
    "for x in df:\n",
    "    count = 0\n",
    "    for drug in drugs:\n",
    "        count = count + (df[drug] =='Steady')\n",
    "    df['Steady'] = count\n",
    "\n",
    "for x in df:\n",
    "    count = 0\n",
    "    for drug in drugs:\n",
    "        count = count + (df[drug] =='Down')\n",
    "    df['Down'] = count\n"
   ]
  },
  {
   "cell_type": "markdown",
   "metadata": {},
   "source": [
    "Counting the total number of changes inn drug status and storing in a new column, 'drug_count'.  Assigining numerical values to the diabetes drug outcomes."
   ]
  },
  {
   "cell_type": "code",
   "execution_count": 4,
   "metadata": {},
   "outputs": [],
   "source": [
    "### Counting the total number of changes inn drug status and storing in a new column, 'drug_count'\n",
    "df['drug_change'] = df['Up'] + df['Steady'] + df['Down']\n",
    "\n",
    "\n",
    "### creating a map dictonary ###\n",
    "\n",
    "drug_outcome_map = {'No':0, 'Up':1, 'Steady':2, 'Down':3}\n",
    "\n",
    "\n",
    "for drug in drugs:\n",
    "        df[drug] = df[drug].map(drug_outcome_map)"
   ]
  },
  {
   "cell_type": "markdown",
   "metadata": {},
   "source": [
    "Diagnosis: Counting the number of disgnosis for each row and storing in a new column, 'diagnosis_count'. Retaining  the Top 10 diagnosis codes for each of the three diagnosis and assigning '0' value to all others. "
   ]
  },
  {
   "cell_type": "code",
   "execution_count": 5,
   "metadata": {},
   "outputs": [],
   "source": [
    "### Counting the number of disgnosis for each row and storing in a new column, 'diagnosis_count'\n",
    "isY = lambda x:int(x!='?')\n",
    "countDiagnosis = lambda row: isY(row['diag_1']) + isY(row['diag_2']) + isY(row['diag_3'])\n",
    "df['diagnosis_count'] = df.apply(countDiagnosis,axis=1)\n"
   ]
  },
  {
   "cell_type": "code",
   "execution_count": 6,
   "metadata": {},
   "outputs": [],
   "source": [
    "### Retianing the Top 10 diagnosis codes as shown below and assiging a ###\n",
    "### code of 0 to others in the three diagnosis columns ####\n",
    "\n",
    "df['diag_1'] =['0' if x not in ('428', '414' ,'786', '410', '486', '427', '491', '715', '682', '434') \n",
    "               else x for x in df['diag_1']]\n",
    "\n",
    "\n",
    "df['diag_2'] =['0' if x not in ('276', '428','250','427','401','496','599','403','414','411') \n",
    "               else x for x in df['diag_2']]\n",
    "\n",
    "\n",
    "df['diag_3'] =['0' if x not in ('250','401','276','428','427','414','496','403','585','272') \n",
    "               else x for x in df['diag_3']]"
   ]
  },
  {
   "cell_type": "code",
   "execution_count": 7,
   "metadata": {},
   "outputs": [],
   "source": [
    "### Retianing the Top 5 codes as shown below and assiging a ###\n",
    "### code of 0 to others in the three diagnosis columns ####\n",
    "\n",
    "df['admission_type_id'] =['0' if x not in (1,2,3,5,6) else x for x in df['admission_type_id']]\n",
    "\n",
    "df['discharge_disposition_id'] = ['0' if x not in (1,2,3,6,18) else x for x in df['discharge_disposition_id']]\n",
    "\n",
    "df['admission_source_id'] =['0' if x not in (7,1,17,4,6) else x for x in df['admission_source_id']]"
   ]
  },
  {
   "cell_type": "code",
   "execution_count": 8,
   "metadata": {},
   "outputs": [],
   "source": [
    "# df['drugs_max'] = df[features].max(axis=1)\n",
    "\n",
    "# # drugs_to_drop = ['nateglinide', 'glyburide-metformin','acarbose', 'miglitol', 'tolbutamide', 'chlorpropamide', \\        \n",
    "#                  'troglitazone', 'tolazamide', 'examide', 'citoglipton', 'acetohexamide', 'glipizide-metformin',\\\n",
    "#                  'glimepiride-pioglitazone', 'metformin-rosiglitazone','metformin-pioglitazone', 'metformin', \\\n",
    "#                  'repaglinide','glimepiride', 'glipizide', 'glyburide', 'pioglitazone','rosiglitazone', 'insulin']\n",
    "\n",
    "# df = df.drop(columns=[, 'drug_others'])\n",
    "# df['drug_others'] = df[drugs_to_drop].max(axis=1)\n",
    "## Dropping select drug columns\n",
    "df = df.drop(columns = drugs)"
   ]
  },
  {
   "cell_type": "markdown",
   "metadata": {},
   "source": [
    "### Dropping Variables"
   ]
  },
  {
   "cell_type": "code",
   "execution_count": 9,
   "metadata": {},
   "outputs": [],
   "source": [
    "### Dropping columns with large amount of missing data\n",
    "\n",
    "cols_to_drop = ['encounter_id', 'patient_nbr','weight','payer_code', 'medical_specialty', 'max_glu_serum', 'A1Cresult']\n",
    "\n",
    "df = df.drop(columns = cols_to_drop)"
   ]
  },
  {
   "cell_type": "code",
   "execution_count": null,
   "metadata": {},
   "outputs": [],
   "source": []
  },
  {
   "cell_type": "code",
   "execution_count": 10,
   "metadata": {},
   "outputs": [],
   "source": [
    "### Dropping rows with missing gender and missing race ###\n",
    "\n",
    "df = df[df['gender'] != 'Unknown/Invalid']\n",
    "\n",
    "df = df[df['race'] != '?']"
   ]
  },
  {
   "cell_type": "code",
   "execution_count": 11,
   "metadata": {},
   "outputs": [],
   "source": [
    "df =pd.get_dummies(df, columns= ['race', 'gender', 'age', 'admission_type_id',\\\n",
    "        'discharge_disposition_id', 'admission_source_id', 'diag_1','diag_2', \\\n",
    "        'diag_3','change', 'diabetesMed'], drop_first = True)"
   ]
  },
  {
   "cell_type": "markdown",
   "metadata": {},
   "source": [
    "### Collapsing <30 days and >30 days readmits to one readmits and turning the problem to binary classification.  "
   ]
  },
  {
   "cell_type": "code",
   "execution_count": 12,
   "metadata": {
    "scrolled": true
   },
   "outputs": [],
   "source": [
    "### creating a map dictonary ###\n",
    "\n",
    "readmit_map = {'<30':1, '>30':1, 'NO':0}\n",
    "\n",
    "\n",
    "df['readmitted'] = df['readmitted'].map(readmit_map)"
   ]
  },
  {
   "cell_type": "code",
   "execution_count": 13,
   "metadata": {},
   "outputs": [],
   "source": [
    "# Import libraries needed for models\n",
    "from sklearn.preprocessing import StandardScaler\n",
    "from sklearn.linear_model import LogisticRegression, LinearRegression\n",
    "\n",
    "from sklearn.model_selection import GridSearchCV, train_test_split, cross_val_score\n",
    "\n",
    "from sklearn.metrics import confusion_matrix, plot_confusion_matrix"
   ]
  },
  {
   "cell_type": "code",
   "execution_count": 14,
   "metadata": {},
   "outputs": [],
   "source": [
    "X = df.drop(columns=['readmitted'])\n",
    "y = df['readmitted']\n",
    "\n",
    "X_train, X_test, y_train, y_test = train_test_split(\n",
    "    X, y,\n",
    "    test_size = 0.25,\n",
    "    random_state = 42\n",
    ")\n",
    "\n",
    "sc = StandardScaler()\n",
    "Z_train = sc.fit_transform(X_train)\n",
    "Z_test = sc.fit_transform(X_test)"
   ]
  },
  {
   "cell_type": "code",
   "execution_count": 19,
   "metadata": {},
   "outputs": [
    {
     "name": "stdout",
     "output_type": "stream",
     "text": [
      "Best parameter (CV score=0.630):\n",
      "{'logistic__C': 21.54434690031882, 'pca__n_components': 74}\n"
     ]
    }
   ],
   "source": [
    "### Source: https://scikit-learn.org/stable/auto_examples/compose/plot_digits_pipe.html\n",
    "# Code source: Gaël Varoquaux\n",
    "# Modified for documentation by Jaques Grobler\n",
    "# License: BSD 3 clause\n",
    "\n",
    "\n",
    "from sklearn.decomposition import PCA\n",
    "from sklearn.linear_model import LogisticRegression\n",
    "from sklearn.pipeline import Pipeline\n",
    "from sklearn.model_selection import GridSearchCV\n",
    "\n",
    "\n",
    "# Define a pipeline to search for the best combination of PCA truncation\n",
    "# and classifier regularization.\n",
    "pca = PCA()\n",
    "# set the tolerance to a large value to make the example faster\n",
    "logistic = LogisticRegression(max_iter=10000, tol=0.1)\n",
    "pipe = Pipeline(steps=[('pca', pca), ('logistic', logistic)])\n",
    "\n",
    "# X_digits, y_digits = datasets.load_digits(return_X_y=True)\n",
    "\n",
    "# Parameters of pipelines can be set using ‘__’ separated parameter names:\n",
    "param_grid = {\n",
    "    'pca__n_components': [5, 15, 30, 45, 64, 74],\n",
    "    'logistic__C': np.logspace(-4, 4, 4),\n",
    "}\n",
    "search = GridSearchCV(pipe, param_grid, n_jobs=-1)\n",
    "search.fit(Z_train, y_train)\n",
    "print(\"Best parameter (CV score=%0.3f):\" % search.best_score_)\n",
    "print(search.best_params_)\n",
    "\n"
   ]
  },
  {
   "cell_type": "code",
   "execution_count": 20,
   "metadata": {},
   "outputs": [
    {
     "data": {
      "text/plain": [
       "<matplotlib.legend.Legend at 0x20f5865de20>"
      ]
     },
     "execution_count": 20,
     "metadata": {},
     "output_type": "execute_result"
    },
    {
     "data": {
      "image/png": "[encoded data removed]",
      "text/plain": [
       "<Figure size 432x432 with 2 Axes>"
      ]
     },
     "metadata": {
      "needs_background": "light"
     },
     "output_type": "display_data"
    }
   ],
   "source": [
    "# Plot the PCA spectrum\n",
    "pca.fit(X_train)\n",
    "\n",
    "fig, (ax0, ax1) = plt.subplots(nrows=2, sharex=True, figsize=(6, 6))\n",
    "ax0.plot(np.arange(1, pca.n_components_ + 1),\n",
    "         pca.explained_variance_ratio_, '+', linewidth=2)\n",
    "ax0.set_ylabel('PCA explained variance ratio')\n",
    "\n",
    "ax0.axvline(search.best_estimator_.named_steps['pca'].n_components,\n",
    "            linestyle=':', label='n_components chosen')\n",
    "ax0.legend(prop=dict(size=12))\n"
   ]
  },
  {
   "cell_type": "code",
   "execution_count": 18,
   "metadata": {},
   "outputs": [
    {
     "data": {
      "image/png": "[encoded data removed]",
      "text/plain": [
       "<Figure size 432x288 with 1 Axes>"
      ]
     },
     "metadata": {
      "needs_background": "light"
     },
     "output_type": "display_data"
    }
   ],
   "source": [
    "\n",
    "# For each number of components, find the best classifier results\n",
    "results = pd.DataFrame(search.cv_results_)\n",
    "components_col = 'param_pca__n_components'\n",
    "best_clfs = results.groupby(components_col).apply(\n",
    "    lambda g: g.nlargest(1, 'mean_test_score'))\n",
    "\n",
    "best_clfs.plot(x=components_col, y='mean_test_score', yerr='std_test_score',\n",
    "               legend=False, ax=ax1)\n",
    "ax1.set_ylabel('Classification accuracy (val)')\n",
    "ax1.set_xlabel('n_components')\n",
    "\n",
    "plt.xlim(-1, 70)\n",
    "\n",
    "plt.tight_layout()\n",
    "plt.show()"
   ]
  },
  {
   "cell_type": "markdown",
   "metadata": {},
   "source": [
    "#### Logistic Regression"
   ]
  },
  {
   "cell_type": "code",
   "execution_count": 17,
   "metadata": {},
   "outputs": [],
   "source": [
    "### Instantiate & Fit Multinomial Logistic Regression ###\n",
    "\n",
    "lr = LogisticRegression( max_iter=10000, penalty = 'elasticnet', l1_ratio = 0.25, solver='saga').fit(Z_train, y_train)"
   ]
  },
  {
   "cell_type": "code",
   "execution_count": 18,
   "metadata": {},
   "outputs": [],
   "source": [
    "#Output predictions to output df\n",
    "output = pd.DataFrame(y_test)\n",
    "\n",
    "output['lr_predicts' ] = lr.predict(Z_test)\n"
   ]
  },
  {
   "cell_type": "code",
   "execution_count": 22,
   "metadata": {},
   "outputs": [
    {
     "data": {
      "text/html": [
       "<div>\n",
       "<style scoped>\n",
       "    .dataframe tbody tr th:only-of-type {\n",
       "        vertical-align: middle;\n",
       "    }\n",
       "\n",
       "    .dataframe tbody tr th {\n",
       "        vertical-align: top;\n",
       "    }\n",
       "\n",
       "    .dataframe thead th {\n",
       "        text-align: right;\n",
       "    }\n",
       "</style>\n",
       "<table border=\"1\" class=\"dataframe\">\n",
       "  <thead>\n",
       "    <tr style=\"text-align: right;\">\n",
       "      <th>lr_predicts</th>\n",
       "      <th>0</th>\n",
       "      <th>1</th>\n",
       "    </tr>\n",
       "    <tr>\n",
       "      <th>readmitted</th>\n",
       "      <th></th>\n",
       "      <th></th>\n",
       "    </tr>\n",
       "  </thead>\n",
       "  <tbody>\n",
       "    <tr>\n",
       "      <th>0</th>\n",
       "      <td>10260</td>\n",
       "      <td>3009</td>\n",
       "    </tr>\n",
       "    <tr>\n",
       "      <th>1</th>\n",
       "      <td>6280</td>\n",
       "      <td>5324</td>\n",
       "    </tr>\n",
       "  </tbody>\n",
       "</table>\n",
       "</div>"
      ],
      "text/plain": [
       "lr_predicts      0     1\n",
       "readmitted              \n",
       "0            10260  3009\n",
       "1             6280  5324"
      ]
     },
     "execution_count": 22,
     "metadata": {},
     "output_type": "execute_result"
    }
   ],
   "source": [
    "pd.crosstab(output['readmitted'], output['lr_predicts'])"
   ]
  },
  {
   "cell_type": "code",
   "execution_count": 23,
   "metadata": {},
   "outputs": [
    {
     "data": {
      "image/png": "[encoded data removed]",
      "text/plain": [
       "<Figure size 432x288 with 2 Axes>"
      ]
     },
     "metadata": {
      "needs_background": "light"
     },
     "output_type": "display_data"
    }
   ],
   "source": [
    "plot_confusion_matrix(lr,Z_test, y_test);"
   ]
  },
  {
   "cell_type": "markdown",
   "metadata": {},
   "source": [
    "#### Decision Tree"
   ]
  },
  {
   "cell_type": "code",
   "execution_count": 19,
   "metadata": {},
   "outputs": [],
   "source": [
    "### Decision Tree Classifier ###\n",
    "\n",
    "## Import\n",
    "from sklearn.tree import DecisionTreeClassifier, plot_tree, export_text"
   ]
  },
  {
   "cell_type": "code",
   "execution_count": 71,
   "metadata": {},
   "outputs": [],
   "source": [
    "### Instantiate and Fit\n",
    "random =30\n",
    "dt = DecisionTreeClassifier(random_state = random, max_depth = 5).fit(Z_train, y_train)"
   ]
  },
  {
   "cell_type": "code",
   "execution_count": 72,
   "metadata": {},
   "outputs": [],
   "source": [
    "### Output predictions to output df\n",
    "output['dt_predicts' ] = dt.predict(Z_test)"
   ]
  },
  {
   "cell_type": "code",
   "execution_count": 73,
   "metadata": {},
   "outputs": [
    {
     "data": {
      "text/html": [
       "<div>\n",
       "<style scoped>\n",
       "    .dataframe tbody tr th:only-of-type {\n",
       "        vertical-align: middle;\n",
       "    }\n",
       "\n",
       "    .dataframe tbody tr th {\n",
       "        vertical-align: top;\n",
       "    }\n",
       "\n",
       "    .dataframe thead th {\n",
       "        text-align: right;\n",
       "    }\n",
       "</style>\n",
       "<table border=\"1\" class=\"dataframe\">\n",
       "  <thead>\n",
       "    <tr style=\"text-align: right;\">\n",
       "      <th>dt_predicts</th>\n",
       "      <th>0</th>\n",
       "      <th>1</th>\n",
       "    </tr>\n",
       "    <tr>\n",
       "      <th>readmitted</th>\n",
       "      <th></th>\n",
       "      <th></th>\n",
       "    </tr>\n",
       "  </thead>\n",
       "  <tbody>\n",
       "    <tr>\n",
       "      <th>0</th>\n",
       "      <td>7957</td>\n",
       "      <td>5312</td>\n",
       "    </tr>\n",
       "    <tr>\n",
       "      <th>1</th>\n",
       "      <td>6975</td>\n",
       "      <td>4629</td>\n",
       "    </tr>\n",
       "  </tbody>\n",
       "</table>\n",
       "</div>"
      ],
      "text/plain": [
       "dt_predicts     0     1\n",
       "readmitted             \n",
       "0            7957  5312\n",
       "1            6975  4629"
      ]
     },
     "execution_count": 73,
     "metadata": {},
     "output_type": "execute_result"
    }
   ],
   "source": [
    "### Cross-tab Confusion Matrix\n",
    "pd.crosstab(output['readmitted'], output['dt_predicts'])"
   ]
  },
  {
   "cell_type": "code",
   "execution_count": 74,
   "metadata": {},
   "outputs": [
    {
     "data": {
      "image/png": "[encoded data removed]",
      "text/plain": [
       "<Figure size 432x288 with 2 Axes>"
      ]
     },
     "metadata": {
      "needs_background": "light"
     },
     "output_type": "display_data"
    }
   ],
   "source": [
    "### Plot Confusion Matrix\n",
    "plot_confusion_matrix(dt,Z_test, y_test);"
   ]
  },
  {
   "cell_type": "markdown",
   "metadata": {},
   "source": [
    "#### KNN Classifier"
   ]
  },
  {
   "cell_type": "code",
   "execution_count": 24,
   "metadata": {},
   "outputs": [],
   "source": [
    "### KNN Classifier ###\n",
    "\n",
    "## Import ##\n",
    "from sklearn.neighbors import KNeighborsClassifier"
   ]
  },
  {
   "cell_type": "code",
   "execution_count": 25,
   "metadata": {},
   "outputs": [],
   "source": [
    "#KNN Classifier\n",
    "\n",
    "## Instantiate & Fit KNN Classifier \n",
    "knn = KNeighborsClassifier().fit(Z_train, y_train)\n"
   ]
  },
  {
   "cell_type": "code",
   "execution_count": 26,
   "metadata": {},
   "outputs": [],
   "source": [
    "### Output predictions to output df\n",
    "output['knn_predicts' ] = knn.predict(Z_test)"
   ]
  },
  {
   "cell_type": "code",
   "execution_count": 27,
   "metadata": {
    "scrolled": true
   },
   "outputs": [
    {
     "data": {
      "text/html": [
       "<div>\n",
       "<style scoped>\n",
       "    .dataframe tbody tr th:only-of-type {\n",
       "        vertical-align: middle;\n",
       "    }\n",
       "\n",
       "    .dataframe tbody tr th {\n",
       "        vertical-align: top;\n",
       "    }\n",
       "\n",
       "    .dataframe thead th {\n",
       "        text-align: right;\n",
       "    }\n",
       "</style>\n",
       "<table border=\"1\" class=\"dataframe\">\n",
       "  <thead>\n",
       "    <tr style=\"text-align: right;\">\n",
       "      <th>knn_predicts</th>\n",
       "      <th>0</th>\n",
       "      <th>1</th>\n",
       "    </tr>\n",
       "    <tr>\n",
       "      <th>readmitted</th>\n",
       "      <th></th>\n",
       "      <th></th>\n",
       "    </tr>\n",
       "  </thead>\n",
       "  <tbody>\n",
       "    <tr>\n",
       "      <th>0</th>\n",
       "      <td>8551</td>\n",
       "      <td>4718</td>\n",
       "    </tr>\n",
       "    <tr>\n",
       "      <th>1</th>\n",
       "      <td>6034</td>\n",
       "      <td>5570</td>\n",
       "    </tr>\n",
       "  </tbody>\n",
       "</table>\n",
       "</div>"
      ],
      "text/plain": [
       "knn_predicts     0     1\n",
       "readmitted              \n",
       "0             8551  4718\n",
       "1             6034  5570"
      ]
     },
     "execution_count": 27,
     "metadata": {},
     "output_type": "execute_result"
    }
   ],
   "source": [
    "pd.crosstab(output['readmitted'], output['knn_predicts'])"
   ]
  },
  {
   "cell_type": "code",
   "execution_count": 28,
   "metadata": {
    "scrolled": true
   },
   "outputs": [
    {
     "data": {
      "image/png": "[encoded data removed]",
      "text/plain": [
       "<Figure size 432x288 with 2 Axes>"
      ]
     },
     "metadata": {
      "needs_background": "light"
     },
     "output_type": "display_data"
    }
   ],
   "source": [
    "plot_confusion_matrix(knn,Z_test, y_test);"
   ]
  },
  {
   "cell_type": "markdown",
   "metadata": {},
   "source": [
    "#### Bagging"
   ]
  },
  {
   "cell_type": "code",
   "execution_count": 29,
   "metadata": {},
   "outputs": [],
   "source": [
    "### Bagging and Random Forests ##\n",
    "\n",
    "## Import ##\n",
    "from sklearn.ensemble import RandomForestClassifier, ExtraTreesClassifier, BaggingClassifier\n"
   ]
  },
  {
   "cell_type": "code",
   "execution_count": 30,
   "metadata": {},
   "outputs": [],
   "source": [
    "### Instantiate and Fit Bagging Classifier ###\n",
    "bag = BaggingClassifier(random_state = random).fit(Z_train, y_train)"
   ]
  },
  {
   "cell_type": "code",
   "execution_count": 31,
   "metadata": {},
   "outputs": [],
   "source": [
    "### Output predictions to output df\n",
    "output['bag_predicts' ] = bag.predict(Z_test)"
   ]
  },
  {
   "cell_type": "code",
   "execution_count": 32,
   "metadata": {},
   "outputs": [
    {
     "data": {
      "text/html": [
       "<div>\n",
       "<style scoped>\n",
       "    .dataframe tbody tr th:only-of-type {\n",
       "        vertical-align: middle;\n",
       "    }\n",
       "\n",
       "    .dataframe tbody tr th {\n",
       "        vertical-align: top;\n",
       "    }\n",
       "\n",
       "    .dataframe thead th {\n",
       "        text-align: right;\n",
       "    }\n",
       "</style>\n",
       "<table border=\"1\" class=\"dataframe\">\n",
       "  <thead>\n",
       "    <tr style=\"text-align: right;\">\n",
       "      <th>bag_predicts</th>\n",
       "      <th>0</th>\n",
       "      <th>1</th>\n",
       "    </tr>\n",
       "    <tr>\n",
       "      <th>readmitted</th>\n",
       "      <th></th>\n",
       "      <th></th>\n",
       "    </tr>\n",
       "  </thead>\n",
       "  <tbody>\n",
       "    <tr>\n",
       "      <th>0</th>\n",
       "      <td>9531</td>\n",
       "      <td>3738</td>\n",
       "    </tr>\n",
       "    <tr>\n",
       "      <th>1</th>\n",
       "      <td>6320</td>\n",
       "      <td>5284</td>\n",
       "    </tr>\n",
       "  </tbody>\n",
       "</table>\n",
       "</div>"
      ],
      "text/plain": [
       "bag_predicts     0     1\n",
       "readmitted              \n",
       "0             9531  3738\n",
       "1             6320  5284"
      ]
     },
     "execution_count": 32,
     "metadata": {},
     "output_type": "execute_result"
    }
   ],
   "source": [
    "### Cross-tab Confusion Matrix\n",
    "pd.crosstab(output['readmitted'], output['bag_predicts'])"
   ]
  },
  {
   "cell_type": "code",
   "execution_count": 33,
   "metadata": {},
   "outputs": [
    {
     "data": {
      "image/png": "[encoded data removed]",
      "text/plain": [
       "<Figure size 432x288 with 2 Axes>"
      ]
     },
     "metadata": {
      "needs_background": "light"
     },
     "output_type": "display_data"
    }
   ],
   "source": [
    "### Plot Confusion Matrix\n",
    "plot_confusion_matrix(bag,Z_test, y_test);"
   ]
  },
  {
   "cell_type": "markdown",
   "metadata": {},
   "source": [
    "#### Random Forest"
   ]
  },
  {
   "cell_type": "code",
   "execution_count": 34,
   "metadata": {},
   "outputs": [],
   "source": [
    "### Random Forest ###\n",
    "\n",
    "### Instantiate and Fit Random Forest Classifier ###\n",
    "rf = RandomForestClassifier(n_estimators=1000).fit(Z_train, y_train)"
   ]
  },
  {
   "cell_type": "code",
   "execution_count": 35,
   "metadata": {},
   "outputs": [],
   "source": [
    "### Output predictions to output df\n",
    "output['rf_predicts' ] = rf.predict(Z_test)"
   ]
  },
  {
   "cell_type": "code",
   "execution_count": 36,
   "metadata": {},
   "outputs": [
    {
     "data": {
      "text/html": [
       "<div>\n",
       "<style scoped>\n",
       "    .dataframe tbody tr th:only-of-type {\n",
       "        vertical-align: middle;\n",
       "    }\n",
       "\n",
       "    .dataframe tbody tr th {\n",
       "        vertical-align: top;\n",
       "    }\n",
       "\n",
       "    .dataframe thead th {\n",
       "        text-align: right;\n",
       "    }\n",
       "</style>\n",
       "<table border=\"1\" class=\"dataframe\">\n",
       "  <thead>\n",
       "    <tr style=\"text-align: right;\">\n",
       "      <th>rf_predicts</th>\n",
       "      <th>0</th>\n",
       "      <th>1</th>\n",
       "    </tr>\n",
       "    <tr>\n",
       "      <th>readmitted</th>\n",
       "      <th></th>\n",
       "      <th></th>\n",
       "    </tr>\n",
       "  </thead>\n",
       "  <tbody>\n",
       "    <tr>\n",
       "      <th>0</th>\n",
       "      <td>9546</td>\n",
       "      <td>3723</td>\n",
       "    </tr>\n",
       "    <tr>\n",
       "      <th>1</th>\n",
       "      <td>5466</td>\n",
       "      <td>6138</td>\n",
       "    </tr>\n",
       "  </tbody>\n",
       "</table>\n",
       "</div>"
      ],
      "text/plain": [
       "rf_predicts     0     1\n",
       "readmitted             \n",
       "0            9546  3723\n",
       "1            5466  6138"
      ]
     },
     "execution_count": 36,
     "metadata": {},
     "output_type": "execute_result"
    }
   ],
   "source": [
    "### Cross-tab Confusion Matrix\n",
    "pd.crosstab(output['readmitted'], output['rf_predicts'])"
   ]
  },
  {
   "cell_type": "code",
   "execution_count": 37,
   "metadata": {
    "scrolled": true
   },
   "outputs": [
    {
     "data": {
      "image/png": "[encoded data removed]",
      "text/plain": [
       "<Figure size 432x288 with 2 Axes>"
      ]
     },
     "metadata": {
      "needs_background": "light"
     },
     "output_type": "display_data"
    }
   ],
   "source": [
    "### Plot Confusion Matrix\n",
    "plot_confusion_matrix(rf,Z_test, y_test);"
   ]
  },
  {
   "cell_type": "markdown",
   "metadata": {},
   "source": [
    "#### Linear SVM Classifier"
   ]
  },
  {
   "cell_type": "code",
   "execution_count": 38,
   "metadata": {},
   "outputs": [],
   "source": [
    "### SVM Linear ###\n",
    "\n",
    "## Import ##\n",
    "from sklearn.svm import LinearSVC"
   ]
  },
  {
   "cell_type": "code",
   "execution_count": 39,
   "metadata": {},
   "outputs": [
    {
     "name": "stderr",
     "output_type": "stream",
     "text": [
      "C:\\Users\\Rhino\\anaconda3\\lib\\site-packages\\sklearn\\svm\\_base.py:976: ConvergenceWarning: Liblinear failed to converge, increase the number of iterations.\n",
      "  warnings.warn(\"Liblinear failed to converge, increase \"\n"
     ]
    }
   ],
   "source": [
    "### Instantiate and Fit SVM Linear Classifier ###\n",
    "svc = LinearSVC(max_iter=20000).fit(Z_train, y_train)"
   ]
  },
  {
   "cell_type": "code",
   "execution_count": 40,
   "metadata": {},
   "outputs": [],
   "source": [
    "### Output predictions to output df\n",
    "output['svc_predicts' ] = svc.predict(Z_test)\n"
   ]
  },
  {
   "cell_type": "code",
   "execution_count": 41,
   "metadata": {},
   "outputs": [
    {
     "data": {
      "text/html": [
       "<div>\n",
       "<style scoped>\n",
       "    .dataframe tbody tr th:only-of-type {\n",
       "        vertical-align: middle;\n",
       "    }\n",
       "\n",
       "    .dataframe tbody tr th {\n",
       "        vertical-align: top;\n",
       "    }\n",
       "\n",
       "    .dataframe thead th {\n",
       "        text-align: right;\n",
       "    }\n",
       "</style>\n",
       "<table border=\"1\" class=\"dataframe\">\n",
       "  <thead>\n",
       "    <tr style=\"text-align: right;\">\n",
       "      <th>svc_predicts</th>\n",
       "      <th>0</th>\n",
       "      <th>1</th>\n",
       "    </tr>\n",
       "    <tr>\n",
       "      <th>readmitted</th>\n",
       "      <th></th>\n",
       "      <th></th>\n",
       "    </tr>\n",
       "  </thead>\n",
       "  <tbody>\n",
       "    <tr>\n",
       "      <th>0</th>\n",
       "      <td>10354</td>\n",
       "      <td>2915</td>\n",
       "    </tr>\n",
       "    <tr>\n",
       "      <th>1</th>\n",
       "      <td>6396</td>\n",
       "      <td>5208</td>\n",
       "    </tr>\n",
       "  </tbody>\n",
       "</table>\n",
       "</div>"
      ],
      "text/plain": [
       "svc_predicts      0     1\n",
       "readmitted               \n",
       "0             10354  2915\n",
       "1              6396  5208"
      ]
     },
     "execution_count": 41,
     "metadata": {},
     "output_type": "execute_result"
    }
   ],
   "source": [
    "### Cross-tab Confusion Matrix\n",
    "pd.crosstab(output['readmitted'], output['svc_predicts'])"
   ]
  },
  {
   "cell_type": "code",
   "execution_count": 42,
   "metadata": {},
   "outputs": [
    {
     "data": {
      "image/png": "[encoded data removed]",
      "text/plain": [
       "<Figure size 432x288 with 2 Axes>"
      ]
     },
     "metadata": {
      "needs_background": "light"
     },
     "output_type": "display_data"
    }
   ],
   "source": [
    "### Plot Confusion Matrix\n",
    "plot_confusion_matrix(svc,Z_test, y_test);"
   ]
  },
  {
   "cell_type": "markdown",
   "metadata": {},
   "source": [
    "#### Stochastic Gradient Descent (SGD)"
   ]
  },
  {
   "cell_type": "code",
   "execution_count": 43,
   "metadata": {},
   "outputs": [],
   "source": [
    "from sklearn.linear_model import SGDClassifier"
   ]
  },
  {
   "cell_type": "code",
   "execution_count": 44,
   "metadata": {},
   "outputs": [],
   "source": [
    "### Instantiate and Fit SVM Linear Classifier ###\n",
    "sgdc = SGDClassifier(max_iter=1000, tol=0.01).fit(Z_train, y_train)"
   ]
  },
  {
   "cell_type": "code",
   "execution_count": 45,
   "metadata": {},
   "outputs": [
    {
     "data": {
      "text/html": [
       "<div>\n",
       "<style scoped>\n",
       "    .dataframe tbody tr th:only-of-type {\n",
       "        vertical-align: middle;\n",
       "    }\n",
       "\n",
       "    .dataframe tbody tr th {\n",
       "        vertical-align: top;\n",
       "    }\n",
       "\n",
       "    .dataframe thead th {\n",
       "        text-align: right;\n",
       "    }\n",
       "</style>\n",
       "<table border=\"1\" class=\"dataframe\">\n",
       "  <thead>\n",
       "    <tr style=\"text-align: right;\">\n",
       "      <th>sgdc_predicts</th>\n",
       "      <th>0</th>\n",
       "      <th>1</th>\n",
       "    </tr>\n",
       "    <tr>\n",
       "      <th>readmitted</th>\n",
       "      <th></th>\n",
       "      <th></th>\n",
       "    </tr>\n",
       "  </thead>\n",
       "  <tbody>\n",
       "    <tr>\n",
       "      <th>0</th>\n",
       "      <td>10145</td>\n",
       "      <td>3124</td>\n",
       "    </tr>\n",
       "    <tr>\n",
       "      <th>1</th>\n",
       "      <td>6877</td>\n",
       "      <td>4727</td>\n",
       "    </tr>\n",
       "  </tbody>\n",
       "</table>\n",
       "</div>"
      ],
      "text/plain": [
       "sgdc_predicts      0     1\n",
       "readmitted                \n",
       "0              10145  3124\n",
       "1               6877  4727"
      ]
     },
     "execution_count": 45,
     "metadata": {},
     "output_type": "execute_result"
    }
   ],
   "source": [
    "### Output predictions to output df\n",
    "output['sgdc_predicts' ] = sgdc.predict(Z_test)\n",
    "### Cross-tab Confusion Matrix\n",
    "pd.crosstab(output['readmitted'], output['sgdc_predicts'])"
   ]
  },
  {
   "cell_type": "code",
   "execution_count": 46,
   "metadata": {
    "scrolled": true
   },
   "outputs": [
    {
     "data": {
      "image/png": "[encoded data removed]",
      "text/plain": [
       "<Figure size 432x288 with 2 Axes>"
      ]
     },
     "metadata": {
      "needs_background": "light"
     },
     "output_type": "display_data"
    }
   ],
   "source": [
    "### Plot Confusion Matrix\n",
    "plot_confusion_matrix(sgdc,Z_test, y_test);"
   ]
  },
  {
   "cell_type": "code",
   "execution_count": 47,
   "metadata": {},
   "outputs": [
    {
     "name": "stdout",
     "output_type": "stream",
     "text": [
      "Logisitic Regression: 0.626180999477345\n",
      "Decision Tree: 0.6200699553732963\n",
      "KNN Classifier: 0.5677240381136172\n",
      "Random Forest: 0.6305632613677482\n",
      "Bagging: 0.5956257789571021\n",
      "Support Vector Classifier: 0.6256583443894986\n",
      "Stochastic Gradient Descent : 0.5979174204961203\n"
     ]
    }
   ],
   "source": [
    "print(f\"Logisitic Regression: {lr.score(Z_test, y_test)}\")\n",
    "print(f\"Decision Tree: {dt.score(Z_test, y_test)}\")\n",
    "print(f\"KNN Classifier: {knn.score(Z_test, y_test)}\")\n",
    "print(f\"Random Forest: {rf.score(Z_test, y_test)}\")\n",
    "print(f\"Bagging: {bag.score(Z_test, y_test)}\")\n",
    "print(f\"Support Vector Classifier: {svc.score(Z_test, y_test)}\")\n",
    "print(f\"Stochastic Gradient Descent : {sgdc.score(Z_test, y_test)}\")   "
   ]
  },
  {
   "cell_type": "markdown",
   "metadata": {},
   "source": [
    "#### Exporting Probability of Admits for each of the Classifiers & creating deciles based on the probabilities\n",
    "\n",
    "_Excludes Linear SVM_"
   ]
  },
  {
   "cell_type": "code",
   "execution_count": 48,
   "metadata": {},
   "outputs": [],
   "source": [
    "### Pushing Logisitic Regression probabilities to output df\n",
    "\n",
    "output['lr_prob_0'] = lr.predict_proba(Z_test)[:,0]\n",
    "output['lr_prob_1'] = lr.predict_proba(Z_test)[:,1]\n",
    "\n",
    "## Sorting by prob_1\n",
    "\n",
    "output.sort_values(by = 'lr_prob_1', ascending = False, inplace=True)\n",
    "\n",
    "# adding Decile_rank column to the DataFrame \n",
    "\n",
    "output['lr_decile_rank'] = pd.qcut(output['lr_prob_1'], 10, labels = False)"
   ]
  },
  {
   "cell_type": "code",
   "execution_count": 49,
   "metadata": {},
   "outputs": [],
   "source": [
    "###Exporting Logisitic Regression probabilities Only\n",
    "output.to_csv('./output_trunc_lr.csv', index=False)"
   ]
  },
  {
   "cell_type": "code",
   "execution_count": 50,
   "metadata": {},
   "outputs": [],
   "source": [
    "### Pushing Randon Forest probabilities to output df\n",
    "\n",
    "output['rf_prob_0'] = rf.predict_proba(Z_test)[:,0]\n",
    "output['rf_prob_1'] = rf.predict_proba(Z_test)[:,1]\n",
    "\n",
    "## Sorting by prob_1\n",
    "\n",
    "output.sort_values(by = 'rf_prob_1', ascending = False, inplace=True)\n",
    "\n",
    "# adding Decile_rank column to the DataFrame \n",
    "\n",
    "output['rf_decile_rank'] = pd.qcut(output['rf_prob_1'], 10, duplicates ='raise',labels = False)"
   ]
  },
  {
   "cell_type": "code",
   "execution_count": 51,
   "metadata": {},
   "outputs": [],
   "source": [
    "### Pushing Bagging probabilities to output df\n",
    "\n",
    "output['bag_prob_0'] = bag.predict_proba(Z_test)[:,0]\n",
    "output['bag_prob_1'] = bag.predict_proba(Z_test)[:,1]\n",
    "\n",
    "## Sorting by prob_1\n",
    "\n",
    "# output.sort_values(by = 'bag_prob_1', ascending = False, inplace=True)\n",
    "\n",
    "# adding Decile_rank column to the DataFrame \n",
    "\n",
    "output['bag_decile_rank'] = pd.qcut(output['bag_prob_1'].rank(method='first'), 10, labels = False)\n"
   ]
  },
  {
   "cell_type": "code",
   "execution_count": 52,
   "metadata": {},
   "outputs": [],
   "source": [
    "### Pushing Decision Tree probabilities to output df\n",
    "\n",
    "output['dt_prob_0'] = dt.predict_proba(Z_test)[:,0]\n",
    "output['dt_prob_1'] = dt.predict_proba(Z_test)[:,1]\n",
    "\n",
    "\n",
    "# adding Decile_rank column to the DataFrame \n",
    "\n",
    "output['dt_decile_rank'] = pd.qcut(output['dt_prob_1'].rank(method='first'), 10, labels = False)"
   ]
  },
  {
   "cell_type": "code",
   "execution_count": 53,
   "metadata": {},
   "outputs": [],
   "source": [
    "### Pushing Decision Tree probabilities to output df\n",
    "\n",
    "output['knn_prob_0'] = knn.predict_proba(Z_test)[:,0]\n",
    "output['knn_prob_1'] = knn.predict_proba(Z_test)[:,1]\n",
    "\n",
    "\n",
    "# adding Decile_rank column to the DataFrame \n",
    "\n",
    "output['knn_decile_rank'] = pd.qcut(output['knn_prob_1'].rank(method='first'), 10, labels = False)"
   ]
  },
  {
   "cell_type": "code",
   "execution_count": 54,
   "metadata": {},
   "outputs": [],
   "source": [
    "###Exporting all ranks and probabilities)\n",
    "output.to_csv('./output_trunc.csv', index=False)"
   ]
  },
  {
   "cell_type": "code",
   "execution_count": 55,
   "metadata": {},
   "outputs": [
    {
     "data": {
      "text/plain": [
       "((74619, 74), (74619,), (24873, 74), (24873,))"
      ]
     },
     "execution_count": 55,
     "metadata": {},
     "output_type": "execute_result"
    }
   ],
   "source": [
    "Z_train.shape, y_train.shape, Z_test.shape, y_test.shape"
   ]
  },
  {
   "cell_type": "markdown",
   "metadata": {},
   "source": [
    "### Using Neural Network"
   ]
  },
  {
   "cell_type": "code",
   "execution_count": 56,
   "metadata": {},
   "outputs": [],
   "source": [
    "from tensorflow.keras.models import Sequential\n",
    "from tensorflow.keras.layers import Dense, Dropout\n",
    "from tensorflow.keras.utils import to_categorical\n",
    "\n",
    "%matplotlib inline"
   ]
  },
  {
   "cell_type": "code",
   "execution_count": 57,
   "metadata": {},
   "outputs": [],
   "source": [
    "# from sklearn.preprocessing import LabelEncoder\n",
    "# from keras.utils import np_utils\n",
    "\n",
    "# # first we have to encode class values as integers\n",
    "# encoder = LabelEncoder()\n",
    "# encoder.fit(y_train)\n",
    "# y_train_encoded = encoder.transform(y_train)\n",
    "# Y_train = np_utils.to_categorical(y_train_encoded)\n",
    "# y_test_encoded = encoder.transform(y_test)\n",
    "# Y_test = np_utils.to_categorical(y_test_encoded)"
   ]
  },
  {
   "cell_type": "code",
   "execution_count": 58,
   "metadata": {},
   "outputs": [],
   "source": [
    "model =Sequential()\n",
    "model.add(Dense(128,  ## No of neurons in the first layer Rule of thumbs base 2 # > no of features\n",
    "          input_shape = (74, ), ##shape of one sample of the training data\n",
    "          activation= 'relu')) ##rectified linear unit -- very popular & common\n",
    "\n",
    "model.add(Dense(64, activation = 'relu'))\n",
    "\n",
    "model.add(Dense(16, activation = 'relu'))\n",
    "\n",
    "\n",
    "\n",
    "model.add(Dense(1, activation = 'sigmoid'))\n",
    "          \n",
    "# Compile it\n",
    "\n",
    "# What are the two primary components of compiling the NN? \n",
    "model.compile(loss='binary_crossentropy', optimizer='adam', metrics=['accuracy'])\n"
   ]
  },
  {
   "cell_type": "code",
   "execution_count": 59,
   "metadata": {},
   "outputs": [],
   "source": [
    "model_dropout =Sequential()\n",
    "model_dropout.add(Dense(128,  ## No of neurons in the first layer Rule of thumbs base 2 # > no of features\n",
    "          input_shape = (74, ), ##shape of one sample of the training data\n",
    "          activation= 'relu')) ##rectified linear unit -- very popular & common\n",
    "model_dropout.add(Dropout(0.2))  ##Add here\n",
    "\n",
    "model_dropout.add(Dense(64, activation = 'relu'))\n",
    "model_dropout.add(Dropout(0.2))  ##Add droupout\n",
    "\n",
    "model_dropout.add(Dense(16, activation = 'relu'))\n",
    "model_dropout.add(Dropout(0.2))  ##Add droupout\n",
    "\n",
    "\n",
    "model_dropout.add(Dense(1, activation = 'sigmoid'))\n",
    "          \n",
    "# Compile it\n",
    "\n",
    "# What are the two primary components of compiling the NN? \n",
    "model_dropout.compile(loss='binary_crossentropy', optimizer='adam', metrics=['accuracy'])\n",
    "\n",
    "\n"
   ]
  },
  {
   "cell_type": "code",
   "execution_count": 60,
   "metadata": {},
   "outputs": [
    {
     "name": "stdout",
     "output_type": "stream",
     "text": [
      "Epoch 1/100\n",
      "146/146 [==============================] - 0s 3ms/step - loss: 0.6544 - accuracy: 0.6114 - val_loss: 0.6445 - val_accuracy: 0.6252\n",
      "Epoch 2/100\n",
      "146/146 [==============================] - 0s 2ms/step - loss: 0.6356 - accuracy: 0.6384 - val_loss: 0.6415 - val_accuracy: 0.6306\n",
      "Epoch 3/100\n",
      "146/146 [==============================] - 0s 2ms/step - loss: 0.6283 - accuracy: 0.6450 - val_loss: 0.6403 - val_accuracy: 0.6300\n",
      "Epoch 4/100\n",
      "146/146 [==============================] - 0s 2ms/step - loss: 0.6236 - accuracy: 0.6500 - val_loss: 0.6396 - val_accuracy: 0.6339\n",
      "Epoch 5/100\n",
      "146/146 [==============================] - 0s 2ms/step - loss: 0.6185 - accuracy: 0.6548 - val_loss: 0.6423 - val_accuracy: 0.6333\n",
      "Epoch 6/100\n",
      "146/146 [==============================] - 0s 2ms/step - loss: 0.6144 - accuracy: 0.6586 - val_loss: 0.6431 - val_accuracy: 0.6305\n",
      "Epoch 7/100\n",
      "146/146 [==============================] - 0s 2ms/step - loss: 0.6098 - accuracy: 0.6628 - val_loss: 0.6454 - val_accuracy: 0.6263\n",
      "Epoch 8/100\n",
      "146/146 [==============================] - 0s 2ms/step - loss: 0.6059 - accuracy: 0.6667 - val_loss: 0.6448 - val_accuracy: 0.6296\n",
      "Epoch 9/100\n",
      "146/146 [==============================] - 0s 2ms/step - loss: 0.6025 - accuracy: 0.6718 - val_loss: 0.6479 - val_accuracy: 0.6259\n",
      "Epoch 10/100\n",
      "146/146 [==============================] - 0s 2ms/step - loss: 0.5974 - accuracy: 0.6754 - val_loss: 0.6520 - val_accuracy: 0.6264\n",
      "Epoch 11/100\n",
      "146/146 [==============================] - 0s 2ms/step - loss: 0.5937 - accuracy: 0.6794 - val_loss: 0.6564 - val_accuracy: 0.6229\n",
      "Epoch 12/100\n",
      "146/146 [==============================] - 0s 2ms/step - loss: 0.5896 - accuracy: 0.6834 - val_loss: 0.6567 - val_accuracy: 0.6219\n",
      "Epoch 13/100\n",
      "146/146 [==============================] - 0s 2ms/step - loss: 0.5853 - accuracy: 0.6869 - val_loss: 0.6607 - val_accuracy: 0.6194\n",
      "Epoch 14/100\n",
      "146/146 [==============================] - 0s 2ms/step - loss: 0.5808 - accuracy: 0.6901 - val_loss: 0.6624 - val_accuracy: 0.6205\n",
      "Epoch 15/100\n",
      "146/146 [==============================] - 0s 2ms/step - loss: 0.5758 - accuracy: 0.6946 - val_loss: 0.6679 - val_accuracy: 0.6187\n",
      "Epoch 16/100\n",
      "146/146 [==============================] - 0s 2ms/step - loss: 0.5713 - accuracy: 0.6984 - val_loss: 0.6732 - val_accuracy: 0.6176\n",
      "Epoch 17/100\n",
      "146/146 [==============================] - 0s 2ms/step - loss: 0.5671 - accuracy: 0.7028 - val_loss: 0.6788 - val_accuracy: 0.6167\n",
      "Epoch 18/100\n",
      "146/146 [==============================] - 0s 2ms/step - loss: 0.5638 - accuracy: 0.7048 - val_loss: 0.6828 - val_accuracy: 0.6136\n",
      "Epoch 19/100\n",
      "146/146 [==============================] - 0s 2ms/step - loss: 0.5593 - accuracy: 0.7084 - val_loss: 0.6879 - val_accuracy: 0.6100\n",
      "Epoch 20/100\n",
      "146/146 [==============================] - 0s 2ms/step - loss: 0.5552 - accuracy: 0.7105 - val_loss: 0.6932 - val_accuracy: 0.6103\n",
      "Epoch 21/100\n",
      "146/146 [==============================] - 0s 2ms/step - loss: 0.5513 - accuracy: 0.7133 - val_loss: 0.6962 - val_accuracy: 0.6101\n",
      "Epoch 22/100\n",
      "146/146 [==============================] - 0s 2ms/step - loss: 0.5464 - accuracy: 0.7178 - val_loss: 0.7019 - val_accuracy: 0.6041\n",
      "Epoch 23/100\n",
      "146/146 [==============================] - 0s 2ms/step - loss: 0.5423 - accuracy: 0.7217 - val_loss: 0.7070 - val_accuracy: 0.6080\n",
      "Epoch 24/100\n",
      "146/146 [==============================] - 0s 2ms/step - loss: 0.5382 - accuracy: 0.7254 - val_loss: 0.7120 - val_accuracy: 0.6111\n",
      "Epoch 25/100\n",
      "146/146 [==============================] - 0s 2ms/step - loss: 0.5360 - accuracy: 0.7258 - val_loss: 0.7132 - val_accuracy: 0.6077\n",
      "Epoch 26/100\n",
      "146/146 [==============================] - 0s 2ms/step - loss: 0.5319 - accuracy: 0.7277 - val_loss: 0.7223 - val_accuracy: 0.6073\n",
      "Epoch 27/100\n",
      "146/146 [==============================] - 0s 2ms/step - loss: 0.5282 - accuracy: 0.7304 - val_loss: 0.7281 - val_accuracy: 0.5991\n",
      "Epoch 28/100\n",
      "146/146 [==============================] - 0s 2ms/step - loss: 0.5252 - accuracy: 0.7323 - val_loss: 0.7289 - val_accuracy: 0.6076\n",
      "Epoch 29/100\n",
      "146/146 [==============================] - 0s 2ms/step - loss: 0.5223 - accuracy: 0.7360 - val_loss: 0.7319 - val_accuracy: 0.6008\n",
      "Epoch 30/100\n",
      "146/146 [==============================] - 0s 2ms/step - loss: 0.5189 - accuracy: 0.7367 - val_loss: 0.7387 - val_accuracy: 0.6017\n",
      "Epoch 31/100\n",
      "146/146 [==============================] - 0s 2ms/step - loss: 0.5154 - accuracy: 0.7409 - val_loss: 0.7496 - val_accuracy: 0.6055\n",
      "Epoch 32/100\n",
      "146/146 [==============================] - 0s 2ms/step - loss: 0.5118 - accuracy: 0.7422 - val_loss: 0.7508 - val_accuracy: 0.5982\n",
      "Epoch 33/100\n",
      "146/146 [==============================] - 0s 2ms/step - loss: 0.5097 - accuracy: 0.7439 - val_loss: 0.7549 - val_accuracy: 0.5987\n",
      "Epoch 34/100\n",
      "146/146 [==============================] - 0s 2ms/step - loss: 0.5068 - accuracy: 0.7460 - val_loss: 0.7628 - val_accuracy: 0.6018\n",
      "Epoch 35/100\n",
      "146/146 [==============================] - 0s 2ms/step - loss: 0.5036 - accuracy: 0.7477 - val_loss: 0.7613 - val_accuracy: 0.6010\n",
      "Epoch 36/100\n",
      "146/146 [==============================] - 0s 2ms/step - loss: 0.5023 - accuracy: 0.7477 - val_loss: 0.7665 - val_accuracy: 0.5949\n",
      "Epoch 37/100\n",
      "146/146 [==============================] - 0s 2ms/step - loss: 0.4986 - accuracy: 0.7512 - val_loss: 0.7773 - val_accuracy: 0.5921\n",
      "Epoch 38/100\n",
      "146/146 [==============================] - 0s 2ms/step - loss: 0.4973 - accuracy: 0.7508 - val_loss: 0.7791 - val_accuracy: 0.5977\n",
      "Epoch 39/100\n",
      "146/146 [==============================] - 0s 2ms/step - loss: 0.4950 - accuracy: 0.7531 - val_loss: 0.7821 - val_accuracy: 0.5990\n",
      "Epoch 40/100\n",
      "146/146 [==============================] - 0s 2ms/step - loss: 0.4919 - accuracy: 0.7556 - val_loss: 0.7855 - val_accuracy: 0.5991\n",
      "Epoch 41/100\n",
      "146/146 [==============================] - 0s 2ms/step - loss: 0.4893 - accuracy: 0.7571 - val_loss: 0.7983 - val_accuracy: 0.5982\n",
      "Epoch 42/100\n",
      "146/146 [==============================] - 0s 2ms/step - loss: 0.4872 - accuracy: 0.7580 - val_loss: 0.7983 - val_accuracy: 0.5993\n",
      "Epoch 43/100\n",
      "146/146 [==============================] - 0s 2ms/step - loss: 0.4870 - accuracy: 0.7588 - val_loss: 0.8007 - val_accuracy: 0.5910\n",
      "Epoch 44/100\n",
      "146/146 [==============================] - 0s 2ms/step - loss: 0.4848 - accuracy: 0.7589 - val_loss: 0.8039 - val_accuracy: 0.5911\n",
      "Epoch 45/100\n",
      "146/146 [==============================] - 0s 2ms/step - loss: 0.4809 - accuracy: 0.7627 - val_loss: 0.8096 - val_accuracy: 0.5933\n",
      "Epoch 46/100\n",
      "146/146 [==============================] - 0s 2ms/step - loss: 0.4796 - accuracy: 0.7639 - val_loss: 0.8184 - val_accuracy: 0.5914\n",
      "Epoch 47/100\n",
      "146/146 [==============================] - 0s 2ms/step - loss: 0.4786 - accuracy: 0.7637 - val_loss: 0.8160 - val_accuracy: 0.5891\n",
      "Epoch 48/100\n",
      "146/146 [==============================] - 0s 2ms/step - loss: 0.4757 - accuracy: 0.7659 - val_loss: 0.8213 - val_accuracy: 0.5896\n",
      "Epoch 49/100\n",
      "146/146 [==============================] - 0s 2ms/step - loss: 0.4748 - accuracy: 0.7670 - val_loss: 0.8253 - val_accuracy: 0.5863\n",
      "Epoch 50/100\n",
      "146/146 [==============================] - 0s 2ms/step - loss: 0.4718 - accuracy: 0.7674 - val_loss: 0.8319 - val_accuracy: 0.5922\n",
      "Epoch 51/100\n",
      "146/146 [==============================] - 0s 2ms/step - loss: 0.4693 - accuracy: 0.7685 - val_loss: 0.8448 - val_accuracy: 0.5832\n",
      "Epoch 52/100\n",
      "146/146 [==============================] - 0s 2ms/step - loss: 0.4689 - accuracy: 0.7704 - val_loss: 0.8463 - val_accuracy: 0.5861\n",
      "Epoch 53/100\n",
      "146/146 [==============================] - 0s 2ms/step - loss: 0.4683 - accuracy: 0.7693 - val_loss: 0.8401 - val_accuracy: 0.5872\n",
      "Epoch 54/100\n",
      "146/146 [==============================] - 0s 2ms/step - loss: 0.4645 - accuracy: 0.7733 - val_loss: 0.8500 - val_accuracy: 0.5883\n",
      "Epoch 55/100\n",
      "146/146 [==============================] - 0s 2ms/step - loss: 0.4631 - accuracy: 0.7733 - val_loss: 0.8499 - val_accuracy: 0.5873\n",
      "Epoch 56/100\n",
      "146/146 [==============================] - 0s 2ms/step - loss: 0.4620 - accuracy: 0.7729 - val_loss: 0.8541 - val_accuracy: 0.5852\n",
      "Epoch 57/100\n",
      "146/146 [==============================] - 0s 2ms/step - loss: 0.4618 - accuracy: 0.7747 - val_loss: 0.8554 - val_accuracy: 0.5884\n"
     ]
    },
    {
     "name": "stdout",
     "output_type": "stream",
     "text": [
      "Epoch 58/100\n",
      "146/146 [==============================] - 0s 2ms/step - loss: 0.4583 - accuracy: 0.7764 - val_loss: 0.8617 - val_accuracy: 0.5867\n",
      "Epoch 59/100\n",
      "146/146 [==============================] - 0s 2ms/step - loss: 0.4581 - accuracy: 0.7767 - val_loss: 0.8644 - val_accuracy: 0.5859\n",
      "Epoch 60/100\n",
      "146/146 [==============================] - 0s 2ms/step - loss: 0.4564 - accuracy: 0.7770 - val_loss: 0.8754 - val_accuracy: 0.5848\n",
      "Epoch 61/100\n",
      "146/146 [==============================] - 0s 2ms/step - loss: 0.4533 - accuracy: 0.7786 - val_loss: 0.8717 - val_accuracy: 0.5882\n",
      "Epoch 62/100\n",
      "146/146 [==============================] - 0s 2ms/step - loss: 0.4531 - accuracy: 0.7797 - val_loss: 0.8788 - val_accuracy: 0.5871\n",
      "Epoch 63/100\n",
      "146/146 [==============================] - 0s 2ms/step - loss: 0.4512 - accuracy: 0.7812 - val_loss: 0.8891 - val_accuracy: 0.5883\n",
      "Epoch 64/100\n",
      "146/146 [==============================] - 0s 2ms/step - loss: 0.4516 - accuracy: 0.7809 - val_loss: 0.8889 - val_accuracy: 0.5855\n",
      "Epoch 65/100\n",
      "146/146 [==============================] - 0s 2ms/step - loss: 0.4487 - accuracy: 0.7815 - val_loss: 0.9119 - val_accuracy: 0.5818\n",
      "Epoch 66/100\n",
      "146/146 [==============================] - 0s 2ms/step - loss: 0.4474 - accuracy: 0.7842 - val_loss: 0.8969 - val_accuracy: 0.5836\n",
      "Epoch 67/100\n",
      "146/146 [==============================] - 0s 2ms/step - loss: 0.4453 - accuracy: 0.7833 - val_loss: 0.8988 - val_accuracy: 0.5826\n",
      "Epoch 68/100\n",
      "146/146 [==============================] - 0s 2ms/step - loss: 0.4453 - accuracy: 0.7842 - val_loss: 0.9012 - val_accuracy: 0.5863\n",
      "Epoch 69/100\n",
      "146/146 [==============================] - 0s 2ms/step - loss: 0.4445 - accuracy: 0.7860 - val_loss: 0.9082 - val_accuracy: 0.5822\n",
      "Epoch 70/100\n",
      "146/146 [==============================] - 0s 2ms/step - loss: 0.4417 - accuracy: 0.7870 - val_loss: 0.9109 - val_accuracy: 0.5842\n",
      "Epoch 71/100\n",
      "146/146 [==============================] - 0s 2ms/step - loss: 0.4423 - accuracy: 0.7858 - val_loss: 0.9156 - val_accuracy: 0.5807\n",
      "Epoch 72/100\n",
      "146/146 [==============================] - 0s 2ms/step - loss: 0.4423 - accuracy: 0.7860 - val_loss: 0.9157 - val_accuracy: 0.5852\n",
      "Epoch 73/100\n",
      "146/146 [==============================] - 0s 2ms/step - loss: 0.4414 - accuracy: 0.7867 - val_loss: 0.9184 - val_accuracy: 0.5789\n",
      "Epoch 74/100\n",
      "146/146 [==============================] - 0s 2ms/step - loss: 0.4386 - accuracy: 0.7887 - val_loss: 0.9269 - val_accuracy: 0.5795\n",
      "Epoch 75/100\n",
      "146/146 [==============================] - 0s 2ms/step - loss: 0.4363 - accuracy: 0.7893 - val_loss: 0.9315 - val_accuracy: 0.5741\n",
      "Epoch 76/100\n",
      "146/146 [==============================] - 0s 2ms/step - loss: 0.4372 - accuracy: 0.7899 - val_loss: 0.9365 - val_accuracy: 0.5779\n",
      "Epoch 77/100\n",
      "146/146 [==============================] - 0s 2ms/step - loss: 0.4344 - accuracy: 0.7902 - val_loss: 0.9278 - val_accuracy: 0.5805\n",
      "Epoch 78/100\n",
      "146/146 [==============================] - 0s 2ms/step - loss: 0.4344 - accuracy: 0.7906 - val_loss: 0.9391 - val_accuracy: 0.5809\n",
      "Epoch 79/100\n",
      "146/146 [==============================] - 0s 2ms/step - loss: 0.4320 - accuracy: 0.7911 - val_loss: 0.9410 - val_accuracy: 0.5792\n",
      "Epoch 80/100\n",
      "146/146 [==============================] - 0s 2ms/step - loss: 0.4322 - accuracy: 0.7917 - val_loss: 0.9495 - val_accuracy: 0.5773\n",
      "Epoch 81/100\n",
      "146/146 [==============================] - 0s 2ms/step - loss: 0.4299 - accuracy: 0.7943 - val_loss: 0.9584 - val_accuracy: 0.5871\n",
      "Epoch 82/100\n",
      "146/146 [==============================] - 0s 2ms/step - loss: 0.4287 - accuracy: 0.7949 - val_loss: 0.9475 - val_accuracy: 0.5788\n",
      "Epoch 83/100\n",
      "146/146 [==============================] - 0s 2ms/step - loss: 0.4293 - accuracy: 0.7932 - val_loss: 0.9548 - val_accuracy: 0.5783\n",
      "Epoch 84/100\n",
      "146/146 [==============================] - 0s 2ms/step - loss: 0.4277 - accuracy: 0.7941 - val_loss: 0.9594 - val_accuracy: 0.5819\n",
      "Epoch 85/100\n",
      "146/146 [==============================] - 0s 2ms/step - loss: 0.4283 - accuracy: 0.7956 - val_loss: 0.9661 - val_accuracy: 0.5827\n",
      "Epoch 86/100\n",
      "146/146 [==============================] - 0s 2ms/step - loss: 0.4261 - accuracy: 0.7964 - val_loss: 0.9616 - val_accuracy: 0.5806\n",
      "Epoch 87/100\n",
      "146/146 [==============================] - 0s 2ms/step - loss: 0.4263 - accuracy: 0.7953 - val_loss: 0.9702 - val_accuracy: 0.5775\n",
      "Epoch 88/100\n",
      "146/146 [==============================] - 0s 2ms/step - loss: 0.4248 - accuracy: 0.7981 - val_loss: 0.9682 - val_accuracy: 0.5797\n",
      "Epoch 89/100\n",
      "146/146 [==============================] - 0s 2ms/step - loss: 0.4228 - accuracy: 0.7985 - val_loss: 0.9773 - val_accuracy: 0.5832\n",
      "Epoch 90/100\n",
      "146/146 [==============================] - 0s 2ms/step - loss: 0.4217 - accuracy: 0.7984 - val_loss: 0.9855 - val_accuracy: 0.5775\n",
      "Epoch 91/100\n",
      "146/146 [==============================] - 0s 2ms/step - loss: 0.4212 - accuracy: 0.7985 - val_loss: 0.9822 - val_accuracy: 0.5784\n",
      "Epoch 92/100\n",
      "146/146 [==============================] - 0s 2ms/step - loss: 0.4205 - accuracy: 0.8006 - val_loss: 0.9852 - val_accuracy: 0.5832\n",
      "Epoch 93/100\n",
      "146/146 [==============================] - 0s 2ms/step - loss: 0.4200 - accuracy: 0.8000 - val_loss: 0.9894 - val_accuracy: 0.5805\n",
      "Epoch 94/100\n",
      "146/146 [==============================] - 0s 2ms/step - loss: 0.4201 - accuracy: 0.8009 - val_loss: 0.9929 - val_accuracy: 0.5850\n",
      "Epoch 95/100\n",
      "146/146 [==============================] - 0s 2ms/step - loss: 0.4199 - accuracy: 0.7980 - val_loss: 0.9919 - val_accuracy: 0.5779\n",
      "Epoch 96/100\n",
      "146/146 [==============================] - 0s 2ms/step - loss: 0.4165 - accuracy: 0.8018 - val_loss: 0.9975 - val_accuracy: 0.5794\n",
      "Epoch 97/100\n",
      "146/146 [==============================] - 0s 2ms/step - loss: 0.4162 - accuracy: 0.8026 - val_loss: 0.9940 - val_accuracy: 0.5796\n",
      "Epoch 98/100\n",
      "146/146 [==============================] - 0s 2ms/step - loss: 0.4172 - accuracy: 0.8014 - val_loss: 0.9969 - val_accuracy: 0.5775\n",
      "Epoch 99/100\n",
      "146/146 [==============================] - 0s 2ms/step - loss: 0.4137 - accuracy: 0.8041 - val_loss: 1.0129 - val_accuracy: 0.5799\n",
      "Epoch 100/100\n",
      "146/146 [==============================] - 0s 2ms/step - loss: 0.4148 - accuracy: 0.8017 - val_loss: 1.0054 - val_accuracy: 0.5792\n"
     ]
    }
   ],
   "source": [
    "# Fit the model\n",
    "# What are all the possible components here? What are the areas we explored on Thursday?\n",
    "\n",
    "history= model.fit(Z_train, y_train, validation_data=(Z_test, y_test), epochs=100, batch_size=512, verbose=1)\n"
   ]
  },
  {
   "cell_type": "code",
   "execution_count": 61,
   "metadata": {},
   "outputs": [
    {
     "name": "stdout",
     "output_type": "stream",
     "text": [
      "Epoch 1/100\n",
      "146/146 [==============================] - 1s 4ms/step - loss: 0.6732 - accuracy: 0.5794 - val_loss: 0.6494 - val_accuracy: 0.6202\n",
      "Epoch 2/100\n",
      "146/146 [==============================] - 0s 3ms/step - loss: 0.6521 - accuracy: 0.6170 - val_loss: 0.6445 - val_accuracy: 0.6281\n",
      "Epoch 3/100\n",
      "146/146 [==============================] - 0s 3ms/step - loss: 0.6442 - accuracy: 0.6268 - val_loss: 0.6409 - val_accuracy: 0.6323\n",
      "Epoch 4/100\n",
      "146/146 [==============================] - 0s 3ms/step - loss: 0.6417 - accuracy: 0.6314 - val_loss: 0.6398 - val_accuracy: 0.6332\n",
      "Epoch 5/100\n",
      "146/146 [==============================] - 0s 3ms/step - loss: 0.6392 - accuracy: 0.6339 - val_loss: 0.6392 - val_accuracy: 0.6334\n",
      "Epoch 6/100\n",
      "146/146 [==============================] - 0s 3ms/step - loss: 0.6374 - accuracy: 0.6363 - val_loss: 0.6384 - val_accuracy: 0.6362\n",
      "Epoch 7/100\n",
      "146/146 [==============================] - 0s 3ms/step - loss: 0.6355 - accuracy: 0.6390 - val_loss: 0.6373 - val_accuracy: 0.6362\n",
      "Epoch 8/100\n",
      "146/146 [==============================] - 0s 3ms/step - loss: 0.6340 - accuracy: 0.6409 - val_loss: 0.6366 - val_accuracy: 0.6366\n",
      "Epoch 9/100\n",
      "146/146 [==============================] - 0s 3ms/step - loss: 0.6318 - accuracy: 0.6419 - val_loss: 0.6370 - val_accuracy: 0.6366\n",
      "Epoch 10/100\n",
      "146/146 [==============================] - 0s 3ms/step - loss: 0.6301 - accuracy: 0.6436 - val_loss: 0.6356 - val_accuracy: 0.6390\n",
      "Epoch 11/100\n",
      "146/146 [==============================] - 0s 3ms/step - loss: 0.6291 - accuracy: 0.6455 - val_loss: 0.6356 - val_accuracy: 0.6343\n",
      "Epoch 12/100\n",
      "146/146 [==============================] - 0s 3ms/step - loss: 0.6284 - accuracy: 0.6455 - val_loss: 0.6358 - val_accuracy: 0.6377\n",
      "Epoch 13/100\n",
      "146/146 [==============================] - 0s 3ms/step - loss: 0.6265 - accuracy: 0.6482 - val_loss: 0.6363 - val_accuracy: 0.6380\n",
      "Epoch 14/100\n",
      "146/146 [==============================] - 0s 3ms/step - loss: 0.6260 - accuracy: 0.6491 - val_loss: 0.6360 - val_accuracy: 0.6363\n",
      "Epoch 15/100\n",
      "146/146 [==============================] - 0s 3ms/step - loss: 0.6249 - accuracy: 0.6498 - val_loss: 0.6360 - val_accuracy: 0.6375\n",
      "Epoch 16/100\n",
      "146/146 [==============================] - 0s 3ms/step - loss: 0.6249 - accuracy: 0.6500 - val_loss: 0.6362 - val_accuracy: 0.6366\n",
      "Epoch 17/100\n",
      "146/146 [==============================] - 0s 3ms/step - loss: 0.6226 - accuracy: 0.6512 - val_loss: 0.6364 - val_accuracy: 0.6353\n",
      "Epoch 18/100\n",
      "146/146 [==============================] - 1s 3ms/step - loss: 0.6222 - accuracy: 0.6522 - val_loss: 0.6364 - val_accuracy: 0.6390\n",
      "Epoch 19/100\n",
      "146/146 [==============================] - 0s 3ms/step - loss: 0.6208 - accuracy: 0.6520 - val_loss: 0.6370 - val_accuracy: 0.6372\n",
      "Epoch 20/100\n",
      "146/146 [==============================] - 0s 3ms/step - loss: 0.6197 - accuracy: 0.6534 - val_loss: 0.6375 - val_accuracy: 0.6378\n",
      "Epoch 21/100\n",
      "146/146 [==============================] - 0s 3ms/step - loss: 0.6192 - accuracy: 0.6529 - val_loss: 0.6373 - val_accuracy: 0.6372\n",
      "Epoch 22/100\n",
      "146/146 [==============================] - 0s 3ms/step - loss: 0.6178 - accuracy: 0.6565 - val_loss: 0.6371 - val_accuracy: 0.6356\n",
      "Epoch 23/100\n",
      "146/146 [==============================] - 0s 3ms/step - loss: 0.6172 - accuracy: 0.6582 - val_loss: 0.6389 - val_accuracy: 0.6337\n",
      "Epoch 24/100\n",
      "146/146 [==============================] - 0s 3ms/step - loss: 0.6178 - accuracy: 0.6543 - val_loss: 0.6382 - val_accuracy: 0.6350\n",
      "Epoch 25/100\n",
      "146/146 [==============================] - 0s 3ms/step - loss: 0.6165 - accuracy: 0.6564 - val_loss: 0.6384 - val_accuracy: 0.6351\n",
      "Epoch 26/100\n",
      "146/146 [==============================] - 0s 3ms/step - loss: 0.6160 - accuracy: 0.6566 - val_loss: 0.6383 - val_accuracy: 0.6361\n",
      "Epoch 27/100\n",
      "146/146 [==============================] - 0s 3ms/step - loss: 0.6151 - accuracy: 0.6577 - val_loss: 0.6390 - val_accuracy: 0.6350\n",
      "Epoch 28/100\n",
      "146/146 [==============================] - 0s 3ms/step - loss: 0.6146 - accuracy: 0.6598 - val_loss: 0.6383 - val_accuracy: 0.6347\n",
      "Epoch 29/100\n",
      "146/146 [==============================] - 1s 4ms/step - loss: 0.6130 - accuracy: 0.6606 - val_loss: 0.6385 - val_accuracy: 0.6343\n",
      "Epoch 30/100\n",
      "146/146 [==============================] - 1s 4ms/step - loss: 0.6128 - accuracy: 0.6588 - val_loss: 0.6396 - val_accuracy: 0.6351\n",
      "Epoch 31/100\n",
      "146/146 [==============================] - 1s 4ms/step - loss: 0.6119 - accuracy: 0.6595 - val_loss: 0.6405 - val_accuracy: 0.6331\n",
      "Epoch 32/100\n",
      "146/146 [==============================] - 1s 4ms/step - loss: 0.6122 - accuracy: 0.6607 - val_loss: 0.6397 - val_accuracy: 0.6340\n",
      "Epoch 33/100\n",
      "146/146 [==============================] - 1s 3ms/step - loss: 0.6114 - accuracy: 0.6613 - val_loss: 0.6399 - val_accuracy: 0.6343\n",
      "Epoch 34/100\n",
      "146/146 [==============================] - 0s 3ms/step - loss: 0.6105 - accuracy: 0.6633 - val_loss: 0.6403 - val_accuracy: 0.6339\n",
      "Epoch 35/100\n",
      "146/146 [==============================] - 1s 4ms/step - loss: 0.6094 - accuracy: 0.6628 - val_loss: 0.6404 - val_accuracy: 0.6353\n",
      "Epoch 36/100\n",
      "146/146 [==============================] - 1s 4ms/step - loss: 0.6095 - accuracy: 0.6623 - val_loss: 0.6412 - val_accuracy: 0.6340\n",
      "Epoch 37/100\n",
      "146/146 [==============================] - 1s 3ms/step - loss: 0.6086 - accuracy: 0.6641 - val_loss: 0.6398 - val_accuracy: 0.6328\n",
      "Epoch 38/100\n",
      "146/146 [==============================] - 0s 3ms/step - loss: 0.6080 - accuracy: 0.6619 - val_loss: 0.6405 - val_accuracy: 0.6329\n",
      "Epoch 39/100\n",
      "146/146 [==============================] - 1s 4ms/step - loss: 0.6069 - accuracy: 0.6661 - val_loss: 0.6404 - val_accuracy: 0.6346\n",
      "Epoch 40/100\n",
      "146/146 [==============================] - 1s 4ms/step - loss: 0.6058 - accuracy: 0.6644 - val_loss: 0.6412 - val_accuracy: 0.6333\n",
      "Epoch 41/100\n",
      "146/146 [==============================] - 1s 4ms/step - loss: 0.6047 - accuracy: 0.6683 - val_loss: 0.6420 - val_accuracy: 0.6330\n",
      "Epoch 42/100\n",
      "146/146 [==============================] - 1s 3ms/step - loss: 0.6054 - accuracy: 0.6662 - val_loss: 0.6410 - val_accuracy: 0.6330\n",
      "Epoch 43/100\n",
      "146/146 [==============================] - 1s 3ms/step - loss: 0.6049 - accuracy: 0.6667 - val_loss: 0.6422 - val_accuracy: 0.6335\n",
      "Epoch 44/100\n",
      "146/146 [==============================] - 0s 3ms/step - loss: 0.6046 - accuracy: 0.6674 - val_loss: 0.6422 - val_accuracy: 0.6331\n",
      "Epoch 45/100\n",
      "146/146 [==============================] - 0s 3ms/step - loss: 0.6034 - accuracy: 0.6685 - val_loss: 0.6424 - val_accuracy: 0.6333\n",
      "Epoch 46/100\n",
      "146/146 [==============================] - 0s 3ms/step - loss: 0.6022 - accuracy: 0.6673 - val_loss: 0.6442 - val_accuracy: 0.6310\n",
      "Epoch 47/100\n",
      "146/146 [==============================] - 1s 4ms/step - loss: 0.6035 - accuracy: 0.6684 - val_loss: 0.6432 - val_accuracy: 0.6314\n",
      "Epoch 48/100\n",
      "146/146 [==============================] - 1s 4ms/step - loss: 0.6024 - accuracy: 0.6677 - val_loss: 0.6432 - val_accuracy: 0.6304\n",
      "Epoch 49/100\n",
      "146/146 [==============================] - 0s 3ms/step - loss: 0.6004 - accuracy: 0.6696 - val_loss: 0.6438 - val_accuracy: 0.6293\n",
      "Epoch 50/100\n",
      "146/146 [==============================] - 0s 3ms/step - loss: 0.5998 - accuracy: 0.6708 - val_loss: 0.6441 - val_accuracy: 0.6310\n",
      "Epoch 51/100\n",
      "146/146 [==============================] - 0s 3ms/step - loss: 0.6011 - accuracy: 0.6695 - val_loss: 0.6439 - val_accuracy: 0.6284\n",
      "Epoch 52/100\n",
      "146/146 [==============================] - 1s 4ms/step - loss: 0.6001 - accuracy: 0.6693 - val_loss: 0.6444 - val_accuracy: 0.6301\n",
      "Epoch 53/100\n",
      "146/146 [==============================] - 0s 3ms/step - loss: 0.6000 - accuracy: 0.6710 - val_loss: 0.6447 - val_accuracy: 0.6290\n",
      "Epoch 54/100\n",
      "146/146 [==============================] - 0s 3ms/step - loss: 0.5993 - accuracy: 0.6715 - val_loss: 0.6447 - val_accuracy: 0.6305\n",
      "Epoch 55/100\n",
      "146/146 [==============================] - 0s 3ms/step - loss: 0.5974 - accuracy: 0.6716 - val_loss: 0.6450 - val_accuracy: 0.6310\n",
      "Epoch 56/100\n",
      "146/146 [==============================] - 0s 3ms/step - loss: 0.5976 - accuracy: 0.6721 - val_loss: 0.6462 - val_accuracy: 0.6310\n",
      "Epoch 57/100\n",
      "146/146 [==============================] - 0s 3ms/step - loss: 0.5972 - accuracy: 0.6708 - val_loss: 0.6437 - val_accuracy: 0.6312\n"
     ]
    },
    {
     "name": "stdout",
     "output_type": "stream",
     "text": [
      "Epoch 58/100\n",
      "146/146 [==============================] - 0s 3ms/step - loss: 0.5975 - accuracy: 0.6711 - val_loss: 0.6463 - val_accuracy: 0.6312\n",
      "Epoch 59/100\n",
      "146/146 [==============================] - 0s 3ms/step - loss: 0.5971 - accuracy: 0.6743 - val_loss: 0.6454 - val_accuracy: 0.6310\n",
      "Epoch 60/100\n",
      "146/146 [==============================] - 0s 3ms/step - loss: 0.5971 - accuracy: 0.6738 - val_loss: 0.6461 - val_accuracy: 0.6318\n",
      "Epoch 61/100\n",
      "146/146 [==============================] - 0s 3ms/step - loss: 0.5965 - accuracy: 0.6748 - val_loss: 0.6457 - val_accuracy: 0.6309\n",
      "Epoch 62/100\n",
      "146/146 [==============================] - 0s 3ms/step - loss: 0.5957 - accuracy: 0.6737 - val_loss: 0.6447 - val_accuracy: 0.6299\n",
      "Epoch 63/100\n",
      "146/146 [==============================] - 0s 3ms/step - loss: 0.5955 - accuracy: 0.6732 - val_loss: 0.6466 - val_accuracy: 0.6307\n",
      "Epoch 64/100\n",
      "146/146 [==============================] - 1s 3ms/step - loss: 0.5948 - accuracy: 0.6738 - val_loss: 0.6457 - val_accuracy: 0.6301\n",
      "Epoch 65/100\n",
      "146/146 [==============================] - 0s 3ms/step - loss: 0.5963 - accuracy: 0.6747 - val_loss: 0.6463 - val_accuracy: 0.6285\n",
      "Epoch 66/100\n",
      "146/146 [==============================] - 0s 3ms/step - loss: 0.5950 - accuracy: 0.6752 - val_loss: 0.6460 - val_accuracy: 0.6285\n",
      "Epoch 67/100\n",
      "146/146 [==============================] - 0s 3ms/step - loss: 0.5916 - accuracy: 0.6785 - val_loss: 0.6481 - val_accuracy: 0.6296\n",
      "Epoch 68/100\n",
      "146/146 [==============================] - 0s 3ms/step - loss: 0.5935 - accuracy: 0.6755 - val_loss: 0.6464 - val_accuracy: 0.6283\n",
      "Epoch 69/100\n",
      "146/146 [==============================] - 0s 3ms/step - loss: 0.5939 - accuracy: 0.6757 - val_loss: 0.6478 - val_accuracy: 0.6301\n",
      "Epoch 70/100\n",
      "146/146 [==============================] - 1s 4ms/step - loss: 0.5938 - accuracy: 0.6747 - val_loss: 0.6478 - val_accuracy: 0.6307\n",
      "Epoch 71/100\n",
      "146/146 [==============================] - 0s 3ms/step - loss: 0.5934 - accuracy: 0.6770 - val_loss: 0.6469 - val_accuracy: 0.6300\n",
      "Epoch 72/100\n",
      "146/146 [==============================] - 0s 3ms/step - loss: 0.5913 - accuracy: 0.6766 - val_loss: 0.6484 - val_accuracy: 0.6306\n",
      "Epoch 73/100\n",
      "146/146 [==============================] - 0s 3ms/step - loss: 0.5908 - accuracy: 0.6788 - val_loss: 0.6489 - val_accuracy: 0.6298\n",
      "Epoch 74/100\n",
      "146/146 [==============================] - 1s 4ms/step - loss: 0.5907 - accuracy: 0.6769 - val_loss: 0.6474 - val_accuracy: 0.6308\n",
      "Epoch 75/100\n",
      "146/146 [==============================] - 1s 4ms/step - loss: 0.5902 - accuracy: 0.6795 - val_loss: 0.6486 - val_accuracy: 0.6296\n",
      "Epoch 76/100\n",
      "146/146 [==============================] - 1s 4ms/step - loss: 0.5910 - accuracy: 0.6797 - val_loss: 0.6481 - val_accuracy: 0.6303\n",
      "Epoch 77/100\n",
      "146/146 [==============================] - 0s 3ms/step - loss: 0.5894 - accuracy: 0.6800 - val_loss: 0.6504 - val_accuracy: 0.6275\n",
      "Epoch 78/100\n",
      "146/146 [==============================] - 0s 3ms/step - loss: 0.5897 - accuracy: 0.6781 - val_loss: 0.6486 - val_accuracy: 0.6286\n",
      "Epoch 79/100\n",
      "146/146 [==============================] - 0s 3ms/step - loss: 0.5905 - accuracy: 0.6797 - val_loss: 0.6502 - val_accuracy: 0.6299\n",
      "Epoch 80/100\n",
      "146/146 [==============================] - 0s 3ms/step - loss: 0.5890 - accuracy: 0.6786 - val_loss: 0.6482 - val_accuracy: 0.6277\n",
      "Epoch 81/100\n",
      "146/146 [==============================] - 0s 3ms/step - loss: 0.5886 - accuracy: 0.6815 - val_loss: 0.6499 - val_accuracy: 0.6290\n",
      "Epoch 82/100\n",
      "146/146 [==============================] - 0s 3ms/step - loss: 0.5898 - accuracy: 0.6799 - val_loss: 0.6490 - val_accuracy: 0.6283\n",
      "Epoch 83/100\n",
      "146/146 [==============================] - 0s 3ms/step - loss: 0.5889 - accuracy: 0.6806 - val_loss: 0.6493 - val_accuracy: 0.6279\n",
      "Epoch 84/100\n",
      "146/146 [==============================] - 0s 3ms/step - loss: 0.5886 - accuracy: 0.6812 - val_loss: 0.6504 - val_accuracy: 0.6280\n",
      "Epoch 85/100\n",
      "146/146 [==============================] - 0s 3ms/step - loss: 0.5878 - accuracy: 0.6797 - val_loss: 0.6507 - val_accuracy: 0.6284\n",
      "Epoch 86/100\n",
      "146/146 [==============================] - 0s 3ms/step - loss: 0.5885 - accuracy: 0.6778 - val_loss: 0.6508 - val_accuracy: 0.6283\n",
      "Epoch 87/100\n",
      "146/146 [==============================] - 0s 3ms/step - loss: 0.5862 - accuracy: 0.6817 - val_loss: 0.6504 - val_accuracy: 0.6297\n",
      "Epoch 88/100\n",
      "146/146 [==============================] - 0s 3ms/step - loss: 0.5862 - accuracy: 0.6829 - val_loss: 0.6506 - val_accuracy: 0.6282\n",
      "Epoch 89/100\n",
      "146/146 [==============================] - 0s 3ms/step - loss: 0.5857 - accuracy: 0.6808 - val_loss: 0.6491 - val_accuracy: 0.6268\n",
      "Epoch 90/100\n",
      "146/146 [==============================] - 0s 3ms/step - loss: 0.5869 - accuracy: 0.6810 - val_loss: 0.6510 - val_accuracy: 0.6273\n",
      "Epoch 91/100\n",
      "146/146 [==============================] - 0s 3ms/step - loss: 0.5855 - accuracy: 0.6826 - val_loss: 0.6520 - val_accuracy: 0.6286\n",
      "Epoch 92/100\n",
      "146/146 [==============================] - 0s 3ms/step - loss: 0.5867 - accuracy: 0.6811 - val_loss: 0.6523 - val_accuracy: 0.6250\n",
      "Epoch 93/100\n",
      "146/146 [==============================] - 0s 3ms/step - loss: 0.5860 - accuracy: 0.6820 - val_loss: 0.6501 - val_accuracy: 0.6272\n",
      "Epoch 94/100\n",
      "146/146 [==============================] - 0s 3ms/step - loss: 0.5853 - accuracy: 0.6810 - val_loss: 0.6500 - val_accuracy: 0.6257\n",
      "Epoch 95/100\n",
      "146/146 [==============================] - 0s 3ms/step - loss: 0.5845 - accuracy: 0.6833 - val_loss: 0.6501 - val_accuracy: 0.6296\n",
      "Epoch 96/100\n",
      "146/146 [==============================] - 0s 3ms/step - loss: 0.5854 - accuracy: 0.6829 - val_loss: 0.6503 - val_accuracy: 0.6269\n",
      "Epoch 97/100\n",
      "146/146 [==============================] - 1s 4ms/step - loss: 0.5841 - accuracy: 0.6839 - val_loss: 0.6497 - val_accuracy: 0.6288\n",
      "Epoch 98/100\n",
      "146/146 [==============================] - 1s 4ms/step - loss: 0.5823 - accuracy: 0.6852 - val_loss: 0.6523 - val_accuracy: 0.6290\n",
      "Epoch 99/100\n",
      "146/146 [==============================] - 1s 4ms/step - loss: 0.5846 - accuracy: 0.6848 - val_loss: 0.6510 - val_accuracy: 0.6264\n",
      "Epoch 100/100\n",
      "146/146 [==============================] - 1s 4ms/step - loss: 0.5840 - accuracy: 0.6845 - val_loss: 0.6525 - val_accuracy: 0.6249\n"
     ]
    }
   ],
   "source": [
    "# Fit the model\n",
    "# What are all the possible components here? What are the areas we explored on Thursday?\n",
    "\n",
    "history_dropout= model_dropout.fit(Z_train, y_train, validation_data=(Z_test, y_test), epochs=100, batch_size=512, verbose=1)\n"
   ]
  },
  {
   "cell_type": "code",
   "execution_count": 62,
   "metadata": {},
   "outputs": [
    {
     "data": {
      "image/png": "[encoded data removed]",
      "text/plain": [
       "<Figure size 864x576 with 1 Axes>"
      ]
     },
     "metadata": {
      "needs_background": "light"
     },
     "output_type": "display_data"
    }
   ],
   "source": [
    "# Visualize loss\n",
    "train_loss = history.history['loss']\n",
    "test_loss = history.history['val_loss']\n",
    "\n",
    "\n",
    "train_loss_dropout = history_dropout.history['loss']\n",
    "test_loss_dropout = history_dropout.history['val_loss']\n",
    "\n",
    "plt.figure(figsize=(12, 8))\n",
    "plt.plot(train_loss, label='Training loss', color='navy')\n",
    "plt.plot(test_loss, label='Testing loss', color='skyblue')\n",
    "plt.plot(train_loss_dropout, label='Dropout Training loss', color='darkgreen')\n",
    "plt.plot(test_loss_dropout, label='Dropout Testing loss', color='lightgreen')\n",
    "plt.legend();"
   ]
  }
 ],
 "metadata": {
  "kernelspec": {
   "display_name": "Python 3",
   "language": "python",
   "name": "python3"
  },
  "language_info": {
   "codemirror_mode": {
    "name": "ipython",
    "version": 3
   },
   "file_extension": ".py",
   "mimetype": "text/x-python",
   "name": "python",
   "nbconvert_exporter": "python",
   "pygments_lexer": "ipython3",
   "version": "3.8.3"
  }
 },
 "nbformat": 4,
 "nbformat_minor": 4
}
