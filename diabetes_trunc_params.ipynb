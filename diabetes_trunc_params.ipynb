{
 "cells": [
  {
   "cell_type": "code",
   "execution_count": 1,
   "metadata": {},
   "outputs": [],
   "source": [
    "import pandas as pd\n",
    "import numpy as np\n",
    "import matplotlib.pyplot as plt\n",
    "import seaborn as sns"
   ]
  },
  {
   "cell_type": "markdown",
   "metadata": {},
   "source": [
    "### Reading the data and preparing the file for input"
   ]
  },
  {
   "cell_type": "code",
   "execution_count": 2,
   "metadata": {},
   "outputs": [],
   "source": [
    "df = pd.read_csv('./dataset_diabetes/diabetic_data.csv')"
   ]
  },
  {
   "cell_type": "markdown",
   "metadata": {},
   "source": [
    "Counting the no of changes due to one or many of the 23 diabetes drugs given to the patient by change type -- 'Down', 'Steady' and 'Up'"
   ]
  },
  {
   "cell_type": "code",
   "execution_count": 3,
   "metadata": {},
   "outputs": [],
   "source": [
    "drugs = ['metformin', 'repaglinide', 'nateglinide', 'chlorpropamide',\n",
    "       'glimepiride', 'acetohexamide', 'glipizide', 'glyburide', 'tolbutamide',\n",
    "       'pioglitazone', 'rosiglitazone', 'acarbose', 'miglitol', 'troglitazone',\n",
    "       'tolazamide', 'examide', 'citoglipton', 'insulin',\n",
    "       'glyburide-metformin', 'glipizide-metformin',\n",
    "       'glimepiride-pioglitazone', 'metformin-rosiglitazone',\n",
    "       'metformin-pioglitazone']\n",
    "\n",
    "\n",
    "\n",
    "for x in df:\n",
    "    count = 0\n",
    "    for drug in drugs:\n",
    "        count = count + (df[drug] =='Up')\n",
    "    df['Up'] = count\n",
    "\n",
    "for x in df:\n",
    "    count = 0\n",
    "    for drug in drugs:\n",
    "        count = count + (df[drug] =='Steady')\n",
    "    df['Steady'] = count\n",
    "\n",
    "for x in df:\n",
    "    count = 0\n",
    "    for drug in drugs:\n",
    "        count = count + (df[drug] =='Down')\n",
    "    df['Down'] = count\n"
   ]
  },
  {
   "cell_type": "markdown",
   "metadata": {},
   "source": [
    "Counting the total number of changes inn drug status and storing in a new column, 'drug_count'.  Assigining numerical values to the diabetes drug outcomes."
   ]
  },
  {
   "cell_type": "code",
   "execution_count": 4,
   "metadata": {},
   "outputs": [],
   "source": [
    "### Counting the total number of changes inn drug status and storing in a new column, 'drug_count'\n",
    "df['drug_change'] = df['Up'] + df['Steady'] + df['Down']\n",
    "\n",
    "\n",
    "### creating a map dictonary ###\n",
    "\n",
    "drug_outcome_map = {'No':0, 'Up':1, 'Steady':2, 'Down':3}\n",
    "\n",
    "\n",
    "for drug in drugs:\n",
    "        df[drug] = df[drug].map(drug_outcome_map)"
   ]
  },
  {
   "cell_type": "markdown",
   "metadata": {},
   "source": [
    "Diagnosis: Counting the number of disgnosis for each row and storing in a new column, 'diagnosis_count'. Retaining  the Top 10 diagnosis codes for each of the three diagnosis and assigning '0' value to all others. "
   ]
  },
  {
   "cell_type": "code",
   "execution_count": 5,
   "metadata": {},
   "outputs": [],
   "source": [
    "### Counting the number of disgnosis for each row and storing in a new column, 'diagnosis_count'\n",
    "isY = lambda x:int(x!='?')\n",
    "countDiagnosis = lambda row: isY(row['diag_1']) + isY(row['diag_2']) + isY(row['diag_3'])\n",
    "df['diagnosis_count'] = df.apply(countDiagnosis,axis=1)\n"
   ]
  },
  {
   "cell_type": "code",
   "execution_count": 6,
   "metadata": {},
   "outputs": [],
   "source": [
    "### Retianing the Top 10 diagnosis codes as shown below and assiging a ###\n",
    "### code of 0 to others in the three diagnosis columns ####\n",
    "\n",
    "df['diag_1'] =['0' if x not in ('428', '414' ,'786', '410', '486', '427', '491', '715', '682', '434') \n",
    "               else x for x in df['diag_1']]\n",
    "\n",
    "\n",
    "df['diag_2'] =['0' if x not in ('276', '428','250','427','401','496','599','403','414','411') \n",
    "               else x for x in df['diag_2']]\n",
    "\n",
    "\n",
    "df['diag_3'] =['0' if x not in ('250','401','276','428','427','414','496','403','585','272') \n",
    "               else x for x in df['diag_3']]"
   ]
  },
  {
   "cell_type": "code",
   "execution_count": 7,
   "metadata": {},
   "outputs": [],
   "source": [
    "### Retianing the Top 5 codes as shown below and assiging a ###\n",
    "### code of 0 to others in the three diagnosis columns ####\n",
    "\n",
    "df['admission_type_id'] =['0' if x not in (1,2,3,5,6) else x for x in df['admission_type_id']]\n",
    "\n",
    "df['discharge_disposition_id'] = ['0' if x not in (1,2,3,6,18) else x for x in df['discharge_disposition_id']]\n",
    "\n",
    "df['admission_source_id'] =['0' if x not in (7,1,17,4,6) else x for x in df['admission_source_id']]"
   ]
  },
  {
   "cell_type": "code",
   "execution_count": 8,
   "metadata": {},
   "outputs": [],
   "source": [
    "# df['drugs_max'] = df[features].max(axis=1)\n",
    "\n",
    "# # drugs_to_drop = ['nateglinide', 'glyburide-metformin','acarbose', 'miglitol', 'tolbutamide', 'chlorpropamide', \\        \n",
    "#                  'troglitazone', 'tolazamide', 'examide', 'citoglipton', 'acetohexamide', 'glipizide-metformin',\\\n",
    "#                  'glimepiride-pioglitazone', 'metformin-rosiglitazone','metformin-pioglitazone', 'metformin', \\\n",
    "#                  'repaglinide','glimepiride', 'glipizide', 'glyburide', 'pioglitazone','rosiglitazone', 'insulin']\n",
    "\n",
    "# df = df.drop(columns=[, 'drug_others'])\n",
    "# df['drug_others'] = df[drugs_to_drop].max(axis=1)\n",
    "## Dropping select drug columns\n",
    "df = df.drop(columns = drugs)"
   ]
  },
  {
   "cell_type": "markdown",
   "metadata": {},
   "source": [
    "### Dropping Variables"
   ]
  },
  {
   "cell_type": "code",
   "execution_count": 9,
   "metadata": {},
   "outputs": [],
   "source": [
    "### Dropping columns with large amount of missing data\n",
    "\n",
    "cols_to_drop = ['encounter_id', 'patient_nbr','weight','payer_code', 'medical_specialty', 'max_glu_serum', 'A1Cresult']\n",
    "\n",
    "df = df.drop(columns = cols_to_drop)"
   ]
  },
  {
   "cell_type": "code",
   "execution_count": null,
   "metadata": {},
   "outputs": [],
   "source": []
  },
  {
   "cell_type": "code",
   "execution_count": 10,
   "metadata": {},
   "outputs": [],
   "source": [
    "### Dropping rows with missing gender and missing race ###\n",
    "\n",
    "df = df[df['gender'] != 'Unknown/Invalid']\n",
    "\n",
    "df = df[df['race'] != '?']"
   ]
  },
  {
   "cell_type": "code",
   "execution_count": 11,
   "metadata": {},
   "outputs": [],
   "source": [
    "df =pd.get_dummies(df, columns= ['race', 'gender', 'age', 'admission_type_id',\\\n",
    "        'discharge_disposition_id', 'admission_source_id', 'diag_1','diag_2', \\\n",
    "        'diag_3','change', 'diabetesMed'], drop_first = True)"
   ]
  },
  {
   "cell_type": "markdown",
   "metadata": {},
   "source": [
    "### Collapsing <30 days and >30 days readmits to one readmits and turning the problem to binary classification.  "
   ]
  },
  {
   "cell_type": "code",
   "execution_count": 12,
   "metadata": {
    "scrolled": true
   },
   "outputs": [],
   "source": [
    "### creating a map dictonary ###\n",
    "\n",
    "readmit_map = {'<30':1, '>30':1, 'NO':0}\n",
    "\n",
    "\n",
    "df['readmitted'] = df['readmitted'].map(readmit_map)"
   ]
  },
  {
   "cell_type": "code",
   "execution_count": 13,
   "metadata": {},
   "outputs": [],
   "source": [
    "# Import libraries needed for models\n",
    "from sklearn.preprocessing import StandardScaler\n",
    "from sklearn.linear_model import LogisticRegression\n",
    "\n",
    "from sklearn.model_selection import GridSearchCV, train_test_split, cross_val_score\n",
    "from sklearn.metrics import confusion_matrix, plot_confusion_matrix"
   ]
  },
  {
   "cell_type": "code",
   "execution_count": 14,
   "metadata": {},
   "outputs": [],
   "source": [
    "X = df.drop(columns=['readmitted'])\n",
    "y = df['readmitted']\n",
    "\n",
    "X_train, X_test, y_train, y_test = train_test_split(\n",
    "    X, y,\n",
    "    test_size = 0.25,\n",
    "    random_state = 42\n",
    ")\n",
    "\n",
    "sc = StandardScaler()\n",
    "Z_train = sc.fit_transform(X_train)\n",
    "Z_test = sc.transform(X_test)"
   ]
  },
  {
   "cell_type": "markdown",
   "metadata": {},
   "source": [
    "#### Logistic Regression"
   ]
  },
  {
   "cell_type": "code",
   "execution_count": 15,
   "metadata": {},
   "outputs": [],
   "source": [
    "### Instantiate & Fit Multinomial Logistic Regression ###\n",
    "\n",
    "lr = LogisticRegression( max_iter=10000, penalty = 'elasticnet', l1_ratio = 0.25, solver='saga').fit(Z_train, y_train)"
   ]
  },
  {
   "cell_type": "code",
   "execution_count": 16,
   "metadata": {},
   "outputs": [],
   "source": [
    "#Output predictions to output df\n",
    "output = pd.DataFrame(y_test)\n",
    "\n",
    "output['lr_predicts' ] = lr.predict(Z_test)\n"
   ]
  },
  {
   "cell_type": "code",
   "execution_count": 17,
   "metadata": {},
   "outputs": [
    {
     "data": {
      "text/html": [
       "<div>\n",
       "<style scoped>\n",
       "    .dataframe tbody tr th:only-of-type {\n",
       "        vertical-align: middle;\n",
       "    }\n",
       "\n",
       "    .dataframe tbody tr th {\n",
       "        vertical-align: top;\n",
       "    }\n",
       "\n",
       "    .dataframe thead th {\n",
       "        text-align: right;\n",
       "    }\n",
       "</style>\n",
       "<table border=\"1\" class=\"dataframe\">\n",
       "  <thead>\n",
       "    <tr style=\"text-align: right;\">\n",
       "      <th>lr_predicts</th>\n",
       "      <th>0</th>\n",
       "      <th>1</th>\n",
       "    </tr>\n",
       "    <tr>\n",
       "      <th>readmitted</th>\n",
       "      <th></th>\n",
       "      <th></th>\n",
       "    </tr>\n",
       "  </thead>\n",
       "  <tbody>\n",
       "    <tr>\n",
       "      <th>0</th>\n",
       "      <td>10268</td>\n",
       "      <td>3001</td>\n",
       "    </tr>\n",
       "    <tr>\n",
       "      <th>1</th>\n",
       "      <td>6297</td>\n",
       "      <td>5307</td>\n",
       "    </tr>\n",
       "  </tbody>\n",
       "</table>\n",
       "</div>"
      ],
      "text/plain": [
       "lr_predicts      0     1\n",
       "readmitted              \n",
       "0            10268  3001\n",
       "1             6297  5307"
      ]
     },
     "execution_count": 17,
     "metadata": {},
     "output_type": "execute_result"
    }
   ],
   "source": [
    "pd.crosstab(output['readmitted'], output['lr_predicts'])"
   ]
  },
  {
   "cell_type": "code",
   "execution_count": 18,
   "metadata": {},
   "outputs": [
    {
     "data": {
      "image/png": "[encoded data removed]",
      "text/plain": [
       "<Figure size 432x288 with 2 Axes>"
      ]
     },
     "metadata": {
      "needs_background": "light"
     },
     "output_type": "display_data"
    }
   ],
   "source": [
    "plot_confusion_matrix(lr,Z_test, y_test, values_format='d');"
   ]
  },
  {
   "cell_type": "markdown",
   "metadata": {},
   "source": [
    "#### Decision Tree"
   ]
  },
  {
   "cell_type": "code",
   "execution_count": 19,
   "metadata": {},
   "outputs": [],
   "source": [
    "### Decision Tree Classifier ###\n",
    "\n",
    "## Import\n",
    "from sklearn.tree import DecisionTreeClassifier, plot_tree, export_text"
   ]
  },
  {
   "cell_type": "code",
   "execution_count": 20,
   "metadata": {},
   "outputs": [],
   "source": [
    "### Instantiate and Fit\n",
    "random =30\n",
    "dt = DecisionTreeClassifier(random_state = random, max_depth = 5).fit(Z_train, y_train)"
   ]
  },
  {
   "cell_type": "code",
   "execution_count": 21,
   "metadata": {},
   "outputs": [],
   "source": [
    "### Output predictions to output df\n",
    "output['dt_predicts' ] = dt.predict(Z_test)"
   ]
  },
  {
   "cell_type": "code",
   "execution_count": 22,
   "metadata": {},
   "outputs": [
    {
     "data": {
      "text/html": [
       "<div>\n",
       "<style scoped>\n",
       "    .dataframe tbody tr th:only-of-type {\n",
       "        vertical-align: middle;\n",
       "    }\n",
       "\n",
       "    .dataframe tbody tr th {\n",
       "        vertical-align: top;\n",
       "    }\n",
       "\n",
       "    .dataframe thead th {\n",
       "        text-align: right;\n",
       "    }\n",
       "</style>\n",
       "<table border=\"1\" class=\"dataframe\">\n",
       "  <thead>\n",
       "    <tr style=\"text-align: right;\">\n",
       "      <th>dt_predicts</th>\n",
       "      <th>0</th>\n",
       "      <th>1</th>\n",
       "    </tr>\n",
       "    <tr>\n",
       "      <th>readmitted</th>\n",
       "      <th></th>\n",
       "      <th></th>\n",
       "    </tr>\n",
       "  </thead>\n",
       "  <tbody>\n",
       "    <tr>\n",
       "      <th>0</th>\n",
       "      <td>9385</td>\n",
       "      <td>3884</td>\n",
       "    </tr>\n",
       "    <tr>\n",
       "      <th>1</th>\n",
       "      <td>5547</td>\n",
       "      <td>6057</td>\n",
       "    </tr>\n",
       "  </tbody>\n",
       "</table>\n",
       "</div>"
      ],
      "text/plain": [
       "dt_predicts     0     1\n",
       "readmitted             \n",
       "0            9385  3884\n",
       "1            5547  6057"
      ]
     },
     "execution_count": 22,
     "metadata": {},
     "output_type": "execute_result"
    }
   ],
   "source": [
    "### Cross-tab Confusion Matrix\n",
    "pd.crosstab(output['readmitted'], output['dt_predicts'])"
   ]
  },
  {
   "cell_type": "code",
   "execution_count": 23,
   "metadata": {},
   "outputs": [
    {
     "data": {
      "image/png": "[encoded data removed]",
      "text/plain": [
       "<Figure size 432x288 with 2 Axes>"
      ]
     },
     "metadata": {
      "needs_background": "light"
     },
     "output_type": "display_data"
    }
   ],
   "source": [
    "### Plot Confusion Matrix\n",
    "plot_confusion_matrix(dt,Z_test, y_test, values_format='d');"
   ]
  },
  {
   "cell_type": "markdown",
   "metadata": {},
   "source": [
    "#### KNN Classifier"
   ]
  },
  {
   "cell_type": "code",
   "execution_count": 24,
   "metadata": {},
   "outputs": [],
   "source": [
    "### KNN Classifier ###\n",
    "\n",
    "## Import ##\n",
    "from sklearn.neighbors import KNeighborsClassifier"
   ]
  },
  {
   "cell_type": "code",
   "execution_count": 25,
   "metadata": {},
   "outputs": [],
   "source": [
    "#KNN Classifier\n",
    "\n",
    "## Instantiate & Fit KNN Classifier \n",
    "knn = KNeighborsClassifier().fit(Z_train, y_train)\n"
   ]
  },
  {
   "cell_type": "code",
   "execution_count": 26,
   "metadata": {},
   "outputs": [],
   "source": [
    "### Output predictions to output df\n",
    "output['knn_predicts' ] = knn.predict(Z_test)"
   ]
  },
  {
   "cell_type": "code",
   "execution_count": 27,
   "metadata": {
    "scrolled": true
   },
   "outputs": [
    {
     "data": {
      "text/html": [
       "<div>\n",
       "<style scoped>\n",
       "    .dataframe tbody tr th:only-of-type {\n",
       "        vertical-align: middle;\n",
       "    }\n",
       "\n",
       "    .dataframe tbody tr th {\n",
       "        vertical-align: top;\n",
       "    }\n",
       "\n",
       "    .dataframe thead th {\n",
       "        text-align: right;\n",
       "    }\n",
       "</style>\n",
       "<table border=\"1\" class=\"dataframe\">\n",
       "  <thead>\n",
       "    <tr style=\"text-align: right;\">\n",
       "      <th>knn_predicts</th>\n",
       "      <th>0</th>\n",
       "      <th>1</th>\n",
       "    </tr>\n",
       "    <tr>\n",
       "      <th>readmitted</th>\n",
       "      <th></th>\n",
       "      <th></th>\n",
       "    </tr>\n",
       "  </thead>\n",
       "  <tbody>\n",
       "    <tr>\n",
       "      <th>0</th>\n",
       "      <td>8551</td>\n",
       "      <td>4718</td>\n",
       "    </tr>\n",
       "    <tr>\n",
       "      <th>1</th>\n",
       "      <td>6034</td>\n",
       "      <td>5570</td>\n",
       "    </tr>\n",
       "  </tbody>\n",
       "</table>\n",
       "</div>"
      ],
      "text/plain": [
       "knn_predicts     0     1\n",
       "readmitted              \n",
       "0             8551  4718\n",
       "1             6034  5570"
      ]
     },
     "execution_count": 27,
     "metadata": {},
     "output_type": "execute_result"
    }
   ],
   "source": [
    "pd.crosstab(output['readmitted'], output['knn_predicts'])"
   ]
  },
  {
   "cell_type": "code",
   "execution_count": 28,
   "metadata": {
    "scrolled": true
   },
   "outputs": [
    {
     "data": {
      "image/png": "[encoded data removed]",
      "text/plain": [
       "<Figure size 432x288 with 2 Axes>"
      ]
     },
     "metadata": {
      "needs_background": "light"
     },
     "output_type": "display_data"
    }
   ],
   "source": [
    "plot_confusion_matrix(knn,Z_test, y_test, values_format='d');"
   ]
  },
  {
   "cell_type": "markdown",
   "metadata": {},
   "source": [
    "#### Bagging"
   ]
  },
  {
   "cell_type": "code",
   "execution_count": 29,
   "metadata": {},
   "outputs": [],
   "source": [
    "### Bagging and Random Forests ##\n",
    "\n",
    "## Import ##\n",
    "from sklearn.ensemble import RandomForestClassifier, ExtraTreesClassifier, BaggingClassifier\n"
   ]
  },
  {
   "cell_type": "code",
   "execution_count": 30,
   "metadata": {},
   "outputs": [],
   "source": [
    "### Instantiate and Fit Bagging Classifier ###\n",
    "bag = BaggingClassifier(random_state = random).fit(Z_train, y_train)"
   ]
  },
  {
   "cell_type": "code",
   "execution_count": 31,
   "metadata": {},
   "outputs": [],
   "source": [
    "### Output predictions to output df\n",
    "output['bag_predicts' ] = bag.predict(Z_test)"
   ]
  },
  {
   "cell_type": "code",
   "execution_count": 32,
   "metadata": {},
   "outputs": [
    {
     "data": {
      "text/html": [
       "<div>\n",
       "<style scoped>\n",
       "    .dataframe tbody tr th:only-of-type {\n",
       "        vertical-align: middle;\n",
       "    }\n",
       "\n",
       "    .dataframe tbody tr th {\n",
       "        vertical-align: top;\n",
       "    }\n",
       "\n",
       "    .dataframe thead th {\n",
       "        text-align: right;\n",
       "    }\n",
       "</style>\n",
       "<table border=\"1\" class=\"dataframe\">\n",
       "  <thead>\n",
       "    <tr style=\"text-align: right;\">\n",
       "      <th>bag_predicts</th>\n",
       "      <th>0</th>\n",
       "      <th>1</th>\n",
       "    </tr>\n",
       "    <tr>\n",
       "      <th>readmitted</th>\n",
       "      <th></th>\n",
       "      <th></th>\n",
       "    </tr>\n",
       "  </thead>\n",
       "  <tbody>\n",
       "    <tr>\n",
       "      <th>0</th>\n",
       "      <td>9531</td>\n",
       "      <td>3738</td>\n",
       "    </tr>\n",
       "    <tr>\n",
       "      <th>1</th>\n",
       "      <td>6320</td>\n",
       "      <td>5284</td>\n",
       "    </tr>\n",
       "  </tbody>\n",
       "</table>\n",
       "</div>"
      ],
      "text/plain": [
       "bag_predicts     0     1\n",
       "readmitted              \n",
       "0             9531  3738\n",
       "1             6320  5284"
      ]
     },
     "execution_count": 32,
     "metadata": {},
     "output_type": "execute_result"
    }
   ],
   "source": [
    "### Cross-tab Confusion Matrix\n",
    "pd.crosstab(output['readmitted'], output['bag_predicts'])"
   ]
  },
  {
   "cell_type": "code",
   "execution_count": 33,
   "metadata": {},
   "outputs": [
    {
     "data": {
      "image/png": "[encoded data removed]",
      "text/plain": [
       "<Figure size 432x288 with 2 Axes>"
      ]
     },
     "metadata": {
      "needs_background": "light"
     },
     "output_type": "display_data"
    }
   ],
   "source": [
    "### Plot Confusion Matrix\n",
    "plot_confusion_matrix(bag,Z_test, y_test, values_format='d');"
   ]
  },
  {
   "cell_type": "markdown",
   "metadata": {},
   "source": [
    "#### Random Forest"
   ]
  },
  {
   "cell_type": "code",
   "execution_count": 34,
   "metadata": {},
   "outputs": [],
   "source": [
    "### Random Forest ###\n",
    "\n",
    "### Instantiate and Fit Random Forest Classifier ###\n",
    "rf = RandomForestClassifier(n_estimators=1000).fit(Z_train, y_train)"
   ]
  },
  {
   "cell_type": "code",
   "execution_count": 35,
   "metadata": {},
   "outputs": [],
   "source": [
    "### Output predictions to output df\n",
    "output['rf_predicts' ] = rf.predict(Z_test)"
   ]
  },
  {
   "cell_type": "code",
   "execution_count": 36,
   "metadata": {},
   "outputs": [
    {
     "data": {
      "text/html": [
       "<div>\n",
       "<style scoped>\n",
       "    .dataframe tbody tr th:only-of-type {\n",
       "        vertical-align: middle;\n",
       "    }\n",
       "\n",
       "    .dataframe tbody tr th {\n",
       "        vertical-align: top;\n",
       "    }\n",
       "\n",
       "    .dataframe thead th {\n",
       "        text-align: right;\n",
       "    }\n",
       "</style>\n",
       "<table border=\"1\" class=\"dataframe\">\n",
       "  <thead>\n",
       "    <tr style=\"text-align: right;\">\n",
       "      <th>rf_predicts</th>\n",
       "      <th>0</th>\n",
       "      <th>1</th>\n",
       "    </tr>\n",
       "    <tr>\n",
       "      <th>readmitted</th>\n",
       "      <th></th>\n",
       "      <th></th>\n",
       "    </tr>\n",
       "  </thead>\n",
       "  <tbody>\n",
       "    <tr>\n",
       "      <th>0</th>\n",
       "      <td>9548</td>\n",
       "      <td>3721</td>\n",
       "    </tr>\n",
       "    <tr>\n",
       "      <th>1</th>\n",
       "      <td>5450</td>\n",
       "      <td>6154</td>\n",
       "    </tr>\n",
       "  </tbody>\n",
       "</table>\n",
       "</div>"
      ],
      "text/plain": [
       "rf_predicts     0     1\n",
       "readmitted             \n",
       "0            9548  3721\n",
       "1            5450  6154"
      ]
     },
     "execution_count": 36,
     "metadata": {},
     "output_type": "execute_result"
    }
   ],
   "source": [
    "### Cross-tab Confusion Matrix\n",
    "pd.crosstab(output['readmitted'], output['rf_predicts'])"
   ]
  },
  {
   "cell_type": "code",
   "execution_count": 37,
   "metadata": {
    "scrolled": true
   },
   "outputs": [
    {
     "data": {
      "image/png": "[encoded data removed]",
      "text/plain": [
       "<Figure size 432x288 with 2 Axes>"
      ]
     },
     "metadata": {
      "needs_background": "light"
     },
     "output_type": "display_data"
    }
   ],
   "source": [
    "### Plot Confusion Matrix\n",
    "plot_confusion_matrix(rf,Z_test, y_test, values_format='d');"
   ]
  },
  {
   "cell_type": "markdown",
   "metadata": {},
   "source": [
    "#### Linear SVM Classifier"
   ]
  },
  {
   "cell_type": "code",
   "execution_count": 38,
   "metadata": {},
   "outputs": [],
   "source": [
    "### SVM Linear ###\n",
    "\n",
    "## Import ##\n",
    "from sklearn.svm import LinearSVC"
   ]
  },
  {
   "cell_type": "code",
   "execution_count": 39,
   "metadata": {},
   "outputs": [
    {
     "name": "stderr",
     "output_type": "stream",
     "text": [
      "C:\\Users\\Rhino\\anaconda3\\lib\\site-packages\\sklearn\\svm\\_base.py:976: ConvergenceWarning: Liblinear failed to converge, increase the number of iterations.\n",
      "  warnings.warn(\"Liblinear failed to converge, increase \"\n"
     ]
    }
   ],
   "source": [
    "### Instantiate and Fit SVM Linear Classifier ###\n",
    "svc = LinearSVC(max_iter=20000).fit(Z_train, y_train)"
   ]
  },
  {
   "cell_type": "code",
   "execution_count": 40,
   "metadata": {},
   "outputs": [],
   "source": [
    "### Output predictions to output df\n",
    "output['svc_predicts' ] = svc.predict(Z_test)\n"
   ]
  },
  {
   "cell_type": "code",
   "execution_count": 41,
   "metadata": {},
   "outputs": [
    {
     "data": {
      "text/html": [
       "<div>\n",
       "<style scoped>\n",
       "    .dataframe tbody tr th:only-of-type {\n",
       "        vertical-align: middle;\n",
       "    }\n",
       "\n",
       "    .dataframe tbody tr th {\n",
       "        vertical-align: top;\n",
       "    }\n",
       "\n",
       "    .dataframe thead th {\n",
       "        text-align: right;\n",
       "    }\n",
       "</style>\n",
       "<table border=\"1\" class=\"dataframe\">\n",
       "  <thead>\n",
       "    <tr style=\"text-align: right;\">\n",
       "      <th>svc_predicts</th>\n",
       "      <th>0</th>\n",
       "      <th>1</th>\n",
       "    </tr>\n",
       "    <tr>\n",
       "      <th>readmitted</th>\n",
       "      <th></th>\n",
       "      <th></th>\n",
       "    </tr>\n",
       "  </thead>\n",
       "  <tbody>\n",
       "    <tr>\n",
       "      <th>0</th>\n",
       "      <td>10354</td>\n",
       "      <td>2915</td>\n",
       "    </tr>\n",
       "    <tr>\n",
       "      <th>1</th>\n",
       "      <td>6396</td>\n",
       "      <td>5208</td>\n",
       "    </tr>\n",
       "  </tbody>\n",
       "</table>\n",
       "</div>"
      ],
      "text/plain": [
       "svc_predicts      0     1\n",
       "readmitted               \n",
       "0             10354  2915\n",
       "1              6396  5208"
      ]
     },
     "execution_count": 41,
     "metadata": {},
     "output_type": "execute_result"
    }
   ],
   "source": [
    "### Cross-tab Confusion Matrix\n",
    "pd.crosstab(output['readmitted'], output['svc_predicts'])"
   ]
  },
  {
   "cell_type": "code",
   "execution_count": 42,
   "metadata": {},
   "outputs": [
    {
     "data": {
      "image/png": "[encoded data removed]",
      "text/plain": [
       "<Figure size 432x288 with 2 Axes>"
      ]
     },
     "metadata": {
      "needs_background": "light"
     },
     "output_type": "display_data"
    }
   ],
   "source": [
    "### Plot Confusion Matrix\n",
    "plot_confusion_matrix(svc,Z_test, y_test);"
   ]
  },
  {
   "cell_type": "markdown",
   "metadata": {},
   "source": [
    "#### Stochastic Gradient Descent (SGD)"
   ]
  },
  {
   "cell_type": "code",
   "execution_count": 43,
   "metadata": {},
   "outputs": [],
   "source": [
    "from sklearn.linear_model import SGDClassifier"
   ]
  },
  {
   "cell_type": "code",
   "execution_count": 44,
   "metadata": {},
   "outputs": [],
   "source": [
    "### Instantiate and Fit SVM Linear Classifier ###\n",
    "sgdc = SGDClassifier(max_iter=1000, tol=0.01).fit(Z_train, y_train)"
   ]
  },
  {
   "cell_type": "code",
   "execution_count": 45,
   "metadata": {},
   "outputs": [
    {
     "data": {
      "text/html": [
       "<div>\n",
       "<style scoped>\n",
       "    .dataframe tbody tr th:only-of-type {\n",
       "        vertical-align: middle;\n",
       "    }\n",
       "\n",
       "    .dataframe tbody tr th {\n",
       "        vertical-align: top;\n",
       "    }\n",
       "\n",
       "    .dataframe thead th {\n",
       "        text-align: right;\n",
       "    }\n",
       "</style>\n",
       "<table border=\"1\" class=\"dataframe\">\n",
       "  <thead>\n",
       "    <tr style=\"text-align: right;\">\n",
       "      <th>sgdc_predicts</th>\n",
       "      <th>0</th>\n",
       "      <th>1</th>\n",
       "    </tr>\n",
       "    <tr>\n",
       "      <th>readmitted</th>\n",
       "      <th></th>\n",
       "      <th></th>\n",
       "    </tr>\n",
       "  </thead>\n",
       "  <tbody>\n",
       "    <tr>\n",
       "      <th>0</th>\n",
       "      <td>9656</td>\n",
       "      <td>3613</td>\n",
       "    </tr>\n",
       "    <tr>\n",
       "      <th>1</th>\n",
       "      <td>6276</td>\n",
       "      <td>5328</td>\n",
       "    </tr>\n",
       "  </tbody>\n",
       "</table>\n",
       "</div>"
      ],
      "text/plain": [
       "sgdc_predicts     0     1\n",
       "readmitted               \n",
       "0              9656  3613\n",
       "1              6276  5328"
      ]
     },
     "execution_count": 45,
     "metadata": {},
     "output_type": "execute_result"
    }
   ],
   "source": [
    "### Output predictions to output df\n",
    "output['sgdc_predicts' ] = sgdc.predict(Z_test)\n",
    "### Cross-tab Confusion Matrix\n",
    "pd.crosstab(output['readmitted'], output['sgdc_predicts'])"
   ]
  },
  {
   "cell_type": "code",
   "execution_count": 46,
   "metadata": {
    "scrolled": true
   },
   "outputs": [
    {
     "data": {
      "image/png": "[encoded data removed]",
      "text/plain": [
       "<Figure size 432x288 with 2 Axes>"
      ]
     },
     "metadata": {
      "needs_background": "light"
     },
     "output_type": "display_data"
    }
   ],
   "source": [
    "### Plot Confusion Matrix\n",
    "plot_confusion_matrix(sgdc,Z_test, y_test);"
   ]
  },
  {
   "cell_type": "code",
   "execution_count": 47,
   "metadata": {},
   "outputs": [
    {
     "name": "stdout",
     "output_type": "stream",
     "text": [
      "Logisitic Regression: 0.626180999477345\n",
      "Decision Tree: 0.6208338358863024\n",
      "KNN Classifier: 0.5677240381136172\n",
      "Random Forest: 0.6312869376432276\n",
      "Bagging: 0.5956257789571021\n",
      "Support Vector Classifier: 0.6256583443894986\n",
      "Stochastic Gradient Descent : 0.6024202950991034\n"
     ]
    }
   ],
   "source": [
    "print(f\"Logisitic Regression: {lr.score(Z_test, y_test)}\")\n",
    "print(f\"Decision Tree: {dt.score(Z_test, y_test)}\")\n",
    "print(f\"KNN Classifier: {knn.score(Z_test, y_test)}\")\n",
    "print(f\"Random Forest: {rf.score(Z_test, y_test)}\")\n",
    "print(f\"Bagging: {bag.score(Z_test, y_test)}\")\n",
    "print(f\"Support Vector Classifier: {svc.score(Z_test, y_test)}\")\n",
    "print(f\"Stochastic Gradient Descent : {sgdc.score(Z_test, y_test)}\")   "
   ]
  },
  {
   "cell_type": "markdown",
   "metadata": {},
   "source": [
    "#### Exploring Pipelines & PCA\n",
    "Checking if a reduced data set is effective for Logistic Regression"
   ]
  },
  {
   "cell_type": "code",
   "execution_count": 48,
   "metadata": {},
   "outputs": [
    {
     "name": "stdout",
     "output_type": "stream",
     "text": [
      "Best parameter (CV score=0.630):\n",
      "{'logistic__C': 21.54434690031882, 'pca__n_components': 74}\n"
     ]
    }
   ],
   "source": [
    "### Source: https://scikit-learn.org/stable/auto_examples/compose/plot_digits_pipe.html\n",
    "# Code source: Gaël Varoquaux\n",
    "# Modified for documentation by Jaques Grobler\n",
    "# License: BSD 3 clause\n",
    "\n",
    "from sklearn.decomposition import PCA\n",
    "from sklearn.pipeline import Pipeline\n",
    "\n",
    "# Define a pipeline to search for the best combination of PCA truncation\n",
    "# and classifier regularization.\n",
    "pca = PCA()\n",
    "# set the tolerance to a large value to make the example faster\n",
    "logistic = LogisticRegression(max_iter=10000, tol=0.1)\n",
    "pipe = Pipeline(steps=[('pca', pca), ('logistic', logistic)])\n",
    "\n",
    "\n",
    "# Parameters of pipelines can be set using ‘__’ separated parameter names:\n",
    "param_grid = {\n",
    "    'pca__n_components': [5, 15, 30, 45, 64, 74],\n",
    "    'logistic__C': np.logspace(-4, 4, 4),\n",
    "}\n",
    "search = GridSearchCV(pipe, param_grid, n_jobs=-1)\n",
    "search.fit(Z_train, y_train)\n",
    "print(\"Best parameter (CV score=%0.3f):\" % search.best_score_)\n",
    "print(search.best_params_)\n",
    "\n"
   ]
  },
  {
   "cell_type": "markdown",
   "metadata": {},
   "source": [
    "#### Exporting Probability of Admits for each of the Classifiers & creating deciles based on the probabilities\n",
    "\n",
    "_Excludes Linear SVM_"
   ]
  },
  {
   "cell_type": "code",
   "execution_count": 49,
   "metadata": {},
   "outputs": [],
   "source": [
    "### Pushing Logisitic Regression probabilities to output df\n",
    "\n",
    "output['lr_prob_0'] = lr.predict_proba(Z_test)[:,0]\n",
    "output['lr_prob_1'] = lr.predict_proba(Z_test)[:,1]\n",
    "\n",
    "## Sorting by prob_1\n",
    "\n",
    "output.sort_values(by = 'lr_prob_1', ascending = False, inplace=True)\n",
    "\n",
    "# adding Decile_rank column to the DataFrame \n",
    "\n",
    "output['lr_decile_rank'] = pd.qcut(output['lr_prob_1'], 10, labels = False)"
   ]
  },
  {
   "cell_type": "code",
   "execution_count": 50,
   "metadata": {},
   "outputs": [],
   "source": [
    "###Exporting Logisitic Regression probabilities Only\n",
    "output.to_csv('./output_trunc_lr.csv', index=False)"
   ]
  },
  {
   "cell_type": "code",
   "execution_count": 51,
   "metadata": {},
   "outputs": [],
   "source": [
    "### Pushing Randon Forest probabilities to output df\n",
    "\n",
    "output['rf_prob_0'] = rf.predict_proba(Z_test)[:,0]\n",
    "output['rf_prob_1'] = rf.predict_proba(Z_test)[:,1]\n",
    "\n",
    "## Sorting by prob_1\n",
    "\n",
    "output.sort_values(by = 'rf_prob_1', ascending = False, inplace=True)\n",
    "\n",
    "# adding Decile_rank column to the DataFrame \n",
    "\n",
    "output['rf_decile_rank'] = pd.qcut(output['rf_prob_1'], 10, duplicates ='raise',labels = False)"
   ]
  },
  {
   "cell_type": "code",
   "execution_count": 52,
   "metadata": {},
   "outputs": [],
   "source": [
    "### Pushing Bagging probabilities to output df\n",
    "\n",
    "output['bag_prob_0'] = bag.predict_proba(Z_test)[:,0]\n",
    "output['bag_prob_1'] = bag.predict_proba(Z_test)[:,1]\n",
    "\n",
    "## Sorting by prob_1\n",
    "\n",
    "# output.sort_values(by = 'bag_prob_1', ascending = False, inplace=True)\n",
    "\n",
    "# adding Decile_rank column to the DataFrame \n",
    "\n",
    "output['bag_decile_rank'] = pd.qcut(output['bag_prob_1'].rank(method='first'), 10, labels = False)\n"
   ]
  },
  {
   "cell_type": "code",
   "execution_count": 53,
   "metadata": {},
   "outputs": [],
   "source": [
    "### Pushing Decision Tree probabilities to output df\n",
    "\n",
    "output['dt_prob_0'] = dt.predict_proba(Z_test)[:,0]\n",
    "output['dt_prob_1'] = dt.predict_proba(Z_test)[:,1]\n",
    "\n",
    "\n",
    "# adding Decile_rank column to the DataFrame \n",
    "\n",
    "output['dt_decile_rank'] = pd.qcut(output['dt_prob_1'].rank(method='first'), 10, labels = False)"
   ]
  },
  {
   "cell_type": "code",
   "execution_count": 54,
   "metadata": {},
   "outputs": [],
   "source": [
    "### Pushing Decision Tree probabilities to output df\n",
    "\n",
    "output['knn_prob_0'] = knn.predict_proba(Z_test)[:,0]\n",
    "output['knn_prob_1'] = knn.predict_proba(Z_test)[:,1]\n",
    "\n",
    "\n",
    "# adding Decile_rank column to the DataFrame \n",
    "\n",
    "output['knn_decile_rank'] = pd.qcut(output['knn_prob_1'].rank(method='first'), 10, labels = False)"
   ]
  },
  {
   "cell_type": "code",
   "execution_count": 55,
   "metadata": {},
   "outputs": [],
   "source": [
    "###Exporting all ranks and probabilities)\n",
    "output.to_csv('./output_trunc.csv', index=False)"
   ]
  },
  {
   "cell_type": "code",
   "execution_count": 56,
   "metadata": {},
   "outputs": [
    {
     "data": {
      "text/plain": [
       "((74619, 74), (74619,), (24873, 74), (24873,))"
      ]
     },
     "execution_count": 56,
     "metadata": {},
     "output_type": "execute_result"
    }
   ],
   "source": [
    "Z_train.shape, y_train.shape, Z_test.shape, y_test.shape"
   ]
  },
  {
   "cell_type": "markdown",
   "metadata": {},
   "source": [
    "### Using Neural Network"
   ]
  },
  {
   "cell_type": "code",
   "execution_count": 57,
   "metadata": {},
   "outputs": [],
   "source": [
    "from tensorflow.keras.models import Sequential\n",
    "from tensorflow.keras.layers import Dense, Dropout\n",
    "from tensorflow.keras.utils import to_categorical\n",
    "\n",
    "%matplotlib inline"
   ]
  },
  {
   "cell_type": "code",
   "execution_count": 58,
   "metadata": {},
   "outputs": [],
   "source": [
    "# from sklearn.preprocessing import LabelEncoder\n",
    "# from keras.utils import np_utils\n",
    "\n",
    "# # first we have to encode class values as integers\n",
    "# encoder = LabelEncoder()\n",
    "# encoder.fit(y_train)\n",
    "# y_train_encoded = encoder.transform(y_train)\n",
    "# Y_train = np_utils.to_categorical(y_train_encoded)\n",
    "# y_test_encoded = encoder.transform(y_test)\n",
    "# Y_test = np_utils.to_categorical(y_test_encoded)"
   ]
  },
  {
   "cell_type": "code",
   "execution_count": 59,
   "metadata": {},
   "outputs": [],
   "source": [
    "model =Sequential()\n",
    "model.add(Dense(128,  ## No of neurons in the first layer Rule of thumbs base 2 # > no of features\n",
    "          input_shape = (74, ), ##shape of one sample of the training data\n",
    "          activation= 'relu')) ##rectified linear unit -- very popular & common\n",
    "\n",
    "model.add(Dense(64, activation = 'relu'))\n",
    "\n",
    "model.add(Dense(16, activation = 'relu'))\n",
    "\n",
    "\n",
    "\n",
    "model.add(Dense(1, activation = 'sigmoid'))\n",
    "          \n",
    "# Compile it\n",
    "\n",
    "# What are the two primary components of compiling the NN? \n",
    "model.compile(loss='binary_crossentropy', optimizer='adam', metrics=['accuracy'])\n"
   ]
  },
  {
   "cell_type": "code",
   "execution_count": 60,
   "metadata": {},
   "outputs": [],
   "source": [
    "model_dropout =Sequential()\n",
    "model_dropout.add(Dense(128,  ## No of neurons in the first layer Rule of thumbs base 2 # > no of features\n",
    "          input_shape = (74, ), ##shape of one sample of the training data\n",
    "          activation= 'relu')) ##rectified linear unit -- very popular & common\n",
    "model_dropout.add(Dropout(0.2))  ##Add here\n",
    "\n",
    "model_dropout.add(Dense(64, activation = 'relu'))\n",
    "model_dropout.add(Dropout(0.2))  ##Add droupout\n",
    "\n",
    "model_dropout.add(Dense(16, activation = 'relu'))\n",
    "model_dropout.add(Dropout(0.2))  ##Add droupout\n",
    "\n",
    "\n",
    "model_dropout.add(Dense(1, activation = 'sigmoid'))\n",
    "          \n",
    "# Compile it\n",
    "\n",
    "# What are the two primary components of compiling the NN? \n",
    "model_dropout.compile(loss='binary_crossentropy', optimizer='adam', metrics=['accuracy'])\n",
    "\n",
    "\n"
   ]
  },
  {
   "cell_type": "code",
   "execution_count": 61,
   "metadata": {},
   "outputs": [
    {
     "name": "stdout",
     "output_type": "stream",
     "text": [
      "Epoch 1/100\n",
      "146/146 [==============================] - 1s 4ms/step - loss: 0.6531 - accuracy: 0.6133 - val_loss: 0.6448 - val_accuracy: 0.6278\n",
      "Epoch 2/100\n",
      "146/146 [==============================] - 0s 2ms/step - loss: 0.6351 - accuracy: 0.6363 - val_loss: 0.6407 - val_accuracy: 0.6321\n",
      "Epoch 3/100\n",
      "146/146 [==============================] - 0s 2ms/step - loss: 0.6286 - accuracy: 0.6444 - val_loss: 0.6410 - val_accuracy: 0.6313\n",
      "Epoch 4/100\n",
      "146/146 [==============================] - 0s 2ms/step - loss: 0.6231 - accuracy: 0.6508 - val_loss: 0.6400 - val_accuracy: 0.6302\n",
      "Epoch 5/100\n",
      "146/146 [==============================] - 0s 2ms/step - loss: 0.6188 - accuracy: 0.6541 - val_loss: 0.6421 - val_accuracy: 0.6312\n",
      "Epoch 6/100\n",
      "146/146 [==============================] - 0s 2ms/step - loss: 0.6144 - accuracy: 0.6585 - val_loss: 0.6426 - val_accuracy: 0.6307\n",
      "Epoch 7/100\n",
      "146/146 [==============================] - 0s 2ms/step - loss: 0.6098 - accuracy: 0.6651 - val_loss: 0.6447 - val_accuracy: 0.6282\n",
      "Epoch 8/100\n",
      "146/146 [==============================] - 0s 2ms/step - loss: 0.6057 - accuracy: 0.6681 - val_loss: 0.6469 - val_accuracy: 0.6276\n",
      "Epoch 9/100\n",
      "146/146 [==============================] - 0s 2ms/step - loss: 0.6016 - accuracy: 0.6730 - val_loss: 0.6491 - val_accuracy: 0.6282\n",
      "Epoch 10/100\n",
      "146/146 [==============================] - 0s 2ms/step - loss: 0.5970 - accuracy: 0.6762 - val_loss: 0.6529 - val_accuracy: 0.6258\n",
      "Epoch 11/100\n",
      "146/146 [==============================] - 0s 2ms/step - loss: 0.5928 - accuracy: 0.6804 - val_loss: 0.6542 - val_accuracy: 0.6221\n",
      "Epoch 12/100\n",
      "146/146 [==============================] - 0s 2ms/step - loss: 0.5879 - accuracy: 0.6862 - val_loss: 0.6593 - val_accuracy: 0.6229\n",
      "Epoch 13/100\n",
      "146/146 [==============================] - 0s 2ms/step - loss: 0.5839 - accuracy: 0.6886 - val_loss: 0.6606 - val_accuracy: 0.6186\n",
      "Epoch 14/100\n",
      "146/146 [==============================] - 0s 2ms/step - loss: 0.5793 - accuracy: 0.6919 - val_loss: 0.6676 - val_accuracy: 0.6145\n",
      "Epoch 15/100\n",
      "146/146 [==============================] - 0s 2ms/step - loss: 0.5746 - accuracy: 0.6963 - val_loss: 0.6697 - val_accuracy: 0.6188\n",
      "Epoch 16/100\n",
      "146/146 [==============================] - 0s 2ms/step - loss: 0.5702 - accuracy: 0.7015 - val_loss: 0.6799 - val_accuracy: 0.6129\n",
      "Epoch 17/100\n",
      "146/146 [==============================] - 0s 2ms/step - loss: 0.5658 - accuracy: 0.7034 - val_loss: 0.6796 - val_accuracy: 0.6191\n",
      "Epoch 18/100\n",
      "146/146 [==============================] - 0s 2ms/step - loss: 0.5611 - accuracy: 0.7084 - val_loss: 0.6799 - val_accuracy: 0.6123\n",
      "Epoch 19/100\n",
      "146/146 [==============================] - 0s 2ms/step - loss: 0.5583 - accuracy: 0.7089 - val_loss: 0.6871 - val_accuracy: 0.6132\n",
      "Epoch 20/100\n",
      "146/146 [==============================] - 0s 2ms/step - loss: 0.5534 - accuracy: 0.7132 - val_loss: 0.6938 - val_accuracy: 0.6098\n",
      "Epoch 21/100\n",
      "146/146 [==============================] - 0s 2ms/step - loss: 0.5490 - accuracy: 0.7169 - val_loss: 0.6960 - val_accuracy: 0.6118\n",
      "Epoch 22/100\n",
      "146/146 [==============================] - 0s 2ms/step - loss: 0.5450 - accuracy: 0.7199 - val_loss: 0.7021 - val_accuracy: 0.6052\n",
      "Epoch 23/100\n",
      "146/146 [==============================] - 0s 2ms/step - loss: 0.5420 - accuracy: 0.7223 - val_loss: 0.7083 - val_accuracy: 0.6080\n",
      "Epoch 24/100\n",
      "146/146 [==============================] - 0s 2ms/step - loss: 0.5379 - accuracy: 0.7250 - val_loss: 0.7114 - val_accuracy: 0.6047\n",
      "Epoch 25/100\n",
      "146/146 [==============================] - 0s 2ms/step - loss: 0.5340 - accuracy: 0.7269 - val_loss: 0.7155 - val_accuracy: 0.6062\n",
      "Epoch 26/100\n",
      "146/146 [==============================] - 0s 2ms/step - loss: 0.5311 - accuracy: 0.7298 - val_loss: 0.7203 - val_accuracy: 0.6041\n",
      "Epoch 27/100\n",
      "146/146 [==============================] - 0s 2ms/step - loss: 0.5279 - accuracy: 0.7315 - val_loss: 0.7253 - val_accuracy: 0.6025\n",
      "Epoch 28/100\n",
      "146/146 [==============================] - 0s 2ms/step - loss: 0.5240 - accuracy: 0.7347 - val_loss: 0.7295 - val_accuracy: 0.6011\n",
      "Epoch 29/100\n",
      "146/146 [==============================] - 0s 2ms/step - loss: 0.5209 - accuracy: 0.7378 - val_loss: 0.7349 - val_accuracy: 0.6049\n",
      "Epoch 30/100\n",
      "146/146 [==============================] - 0s 2ms/step - loss: 0.5182 - accuracy: 0.7386 - val_loss: 0.7402 - val_accuracy: 0.6025\n",
      "Epoch 31/100\n",
      "146/146 [==============================] - 0s 2ms/step - loss: 0.5156 - accuracy: 0.7404 - val_loss: 0.7455 - val_accuracy: 0.5964\n",
      "Epoch 32/100\n",
      "146/146 [==============================] - 0s 2ms/step - loss: 0.5127 - accuracy: 0.7420 - val_loss: 0.7481 - val_accuracy: 0.6007\n",
      "Epoch 33/100\n",
      "146/146 [==============================] - 0s 2ms/step - loss: 0.5102 - accuracy: 0.7441 - val_loss: 0.7532 - val_accuracy: 0.6007\n",
      "Epoch 34/100\n",
      "146/146 [==============================] - 0s 2ms/step - loss: 0.5058 - accuracy: 0.7467 - val_loss: 0.7607 - val_accuracy: 0.5980\n",
      "Epoch 35/100\n",
      "146/146 [==============================] - 0s 2ms/step - loss: 0.5042 - accuracy: 0.7468 - val_loss: 0.7609 - val_accuracy: 0.5976\n",
      "Epoch 36/100\n",
      "146/146 [==============================] - 0s 2ms/step - loss: 0.5003 - accuracy: 0.7502 - val_loss: 0.7671 - val_accuracy: 0.5945\n",
      "Epoch 37/100\n",
      "146/146 [==============================] - 0s 2ms/step - loss: 0.4987 - accuracy: 0.7529 - val_loss: 0.7824 - val_accuracy: 0.5941\n",
      "Epoch 38/100\n",
      "146/146 [==============================] - 0s 2ms/step - loss: 0.4955 - accuracy: 0.7536 - val_loss: 0.7817 - val_accuracy: 0.5963\n",
      "Epoch 39/100\n",
      "146/146 [==============================] - 0s 2ms/step - loss: 0.4926 - accuracy: 0.7558 - val_loss: 0.7881 - val_accuracy: 0.5984\n",
      "Epoch 40/100\n",
      "146/146 [==============================] - 0s 2ms/step - loss: 0.4909 - accuracy: 0.7580 - val_loss: 0.7923 - val_accuracy: 0.5945\n",
      "Epoch 41/100\n",
      "146/146 [==============================] - 0s 2ms/step - loss: 0.4882 - accuracy: 0.7585 - val_loss: 0.7955 - val_accuracy: 0.5936\n",
      "Epoch 42/100\n",
      "146/146 [==============================] - 0s 2ms/step - loss: 0.4851 - accuracy: 0.7597 - val_loss: 0.8005 - val_accuracy: 0.5931\n",
      "Epoch 43/100\n",
      "146/146 [==============================] - 0s 2ms/step - loss: 0.4844 - accuracy: 0.7603 - val_loss: 0.8012 - val_accuracy: 0.5936\n",
      "Epoch 44/100\n",
      "146/146 [==============================] - 0s 2ms/step - loss: 0.4818 - accuracy: 0.7624 - val_loss: 0.8078 - val_accuracy: 0.5927\n",
      "Epoch 45/100\n",
      "146/146 [==============================] - 0s 2ms/step - loss: 0.4784 - accuracy: 0.7653 - val_loss: 0.8166 - val_accuracy: 0.5896\n",
      "Epoch 46/100\n",
      "146/146 [==============================] - 0s 2ms/step - loss: 0.4761 - accuracy: 0.7655 - val_loss: 0.8242 - val_accuracy: 0.5929\n",
      "Epoch 47/100\n",
      "146/146 [==============================] - 0s 2ms/step - loss: 0.4749 - accuracy: 0.7661 - val_loss: 0.8284 - val_accuracy: 0.5888\n",
      "Epoch 48/100\n",
      "146/146 [==============================] - 0s 2ms/step - loss: 0.4721 - accuracy: 0.7688 - val_loss: 0.8271 - val_accuracy: 0.5953\n",
      "Epoch 49/100\n",
      "146/146 [==============================] - 0s 2ms/step - loss: 0.4707 - accuracy: 0.7693 - val_loss: 0.8414 - val_accuracy: 0.5909\n",
      "Epoch 50/100\n",
      "146/146 [==============================] - 0s 2ms/step - loss: 0.4691 - accuracy: 0.7690 - val_loss: 0.8353 - val_accuracy: 0.5898\n",
      "Epoch 51/100\n",
      "146/146 [==============================] - 0s 2ms/step - loss: 0.4675 - accuracy: 0.7714 - val_loss: 0.8492 - val_accuracy: 0.5893\n",
      "Epoch 52/100\n",
      "146/146 [==============================] - 0s 2ms/step - loss: 0.4649 - accuracy: 0.7721 - val_loss: 0.8497 - val_accuracy: 0.5872\n",
      "Epoch 53/100\n",
      "146/146 [==============================] - 0s 2ms/step - loss: 0.4637 - accuracy: 0.7735 - val_loss: 0.8494 - val_accuracy: 0.5900\n",
      "Epoch 54/100\n",
      "146/146 [==============================] - 0s 2ms/step - loss: 0.4612 - accuracy: 0.7747 - val_loss: 0.8635 - val_accuracy: 0.5861\n",
      "Epoch 55/100\n",
      "146/146 [==============================] - 0s 2ms/step - loss: 0.4589 - accuracy: 0.7759 - val_loss: 0.8627 - val_accuracy: 0.5902\n",
      "Epoch 56/100\n",
      "146/146 [==============================] - 0s 2ms/step - loss: 0.4572 - accuracy: 0.7781 - val_loss: 0.8771 - val_accuracy: 0.5881\n",
      "Epoch 57/100\n",
      "146/146 [==============================] - 0s 2ms/step - loss: 0.4561 - accuracy: 0.7775 - val_loss: 0.8736 - val_accuracy: 0.5837\n"
     ]
    },
    {
     "name": "stdout",
     "output_type": "stream",
     "text": [
      "Epoch 58/100\n",
      "146/146 [==============================] - 0s 2ms/step - loss: 0.4544 - accuracy: 0.7789 - val_loss: 0.8695 - val_accuracy: 0.5846\n",
      "Epoch 59/100\n",
      "146/146 [==============================] - 0s 2ms/step - loss: 0.4533 - accuracy: 0.7798 - val_loss: 0.8893 - val_accuracy: 0.5888\n",
      "Epoch 60/100\n",
      "146/146 [==============================] - 0s 2ms/step - loss: 0.4509 - accuracy: 0.7825 - val_loss: 0.8823 - val_accuracy: 0.5832\n",
      "Epoch 61/100\n",
      "146/146 [==============================] - 0s 2ms/step - loss: 0.4496 - accuracy: 0.7830 - val_loss: 0.8886 - val_accuracy: 0.5823\n",
      "Epoch 62/100\n",
      "146/146 [==============================] - 0s 2ms/step - loss: 0.4479 - accuracy: 0.7835 - val_loss: 0.8907 - val_accuracy: 0.5847\n",
      "Epoch 63/100\n",
      "146/146 [==============================] - 0s 2ms/step - loss: 0.4461 - accuracy: 0.7828 - val_loss: 0.8944 - val_accuracy: 0.5817\n",
      "Epoch 64/100\n",
      "146/146 [==============================] - 0s 2ms/step - loss: 0.4457 - accuracy: 0.7852 - val_loss: 0.9085 - val_accuracy: 0.5824\n",
      "Epoch 65/100\n",
      "146/146 [==============================] - 0s 2ms/step - loss: 0.4436 - accuracy: 0.7859 - val_loss: 0.9137 - val_accuracy: 0.5875\n",
      "Epoch 66/100\n",
      "146/146 [==============================] - 0s 2ms/step - loss: 0.4429 - accuracy: 0.7842 - val_loss: 0.9174 - val_accuracy: 0.5842\n",
      "Epoch 67/100\n",
      "146/146 [==============================] - 0s 2ms/step - loss: 0.4410 - accuracy: 0.7864 - val_loss: 0.9216 - val_accuracy: 0.5848\n",
      "Epoch 68/100\n",
      "146/146 [==============================] - 0s 2ms/step - loss: 0.4396 - accuracy: 0.7878 - val_loss: 0.9160 - val_accuracy: 0.5782\n",
      "Epoch 69/100\n",
      "146/146 [==============================] - 0s 2ms/step - loss: 0.4392 - accuracy: 0.7877 - val_loss: 0.9312 - val_accuracy: 0.5818\n",
      "Epoch 70/100\n",
      "146/146 [==============================] - 0s 2ms/step - loss: 0.4360 - accuracy: 0.7909 - val_loss: 0.9324 - val_accuracy: 0.5839\n",
      "Epoch 71/100\n",
      "146/146 [==============================] - 0s 2ms/step - loss: 0.4347 - accuracy: 0.7911 - val_loss: 0.9380 - val_accuracy: 0.5835\n",
      "Epoch 72/100\n",
      "146/146 [==============================] - 0s 2ms/step - loss: 0.4340 - accuracy: 0.7917 - val_loss: 0.9403 - val_accuracy: 0.5828\n",
      "Epoch 73/100\n",
      "146/146 [==============================] - 0s 2ms/step - loss: 0.4327 - accuracy: 0.7931 - val_loss: 0.9447 - val_accuracy: 0.5810\n",
      "Epoch 74/100\n",
      "146/146 [==============================] - 0s 2ms/step - loss: 0.4320 - accuracy: 0.7929 - val_loss: 0.9474 - val_accuracy: 0.5845\n",
      "Epoch 75/100\n",
      "146/146 [==============================] - 0s 2ms/step - loss: 0.4303 - accuracy: 0.7933 - val_loss: 0.9582 - val_accuracy: 0.5837\n",
      "Epoch 76/100\n",
      "146/146 [==============================] - 0s 2ms/step - loss: 0.4296 - accuracy: 0.7924 - val_loss: 0.9610 - val_accuracy: 0.5843\n",
      "Epoch 77/100\n",
      "146/146 [==============================] - 0s 2ms/step - loss: 0.4278 - accuracy: 0.7956 - val_loss: 0.9682 - val_accuracy: 0.5805\n",
      "Epoch 78/100\n",
      "146/146 [==============================] - 0s 2ms/step - loss: 0.4267 - accuracy: 0.7951 - val_loss: 0.9627 - val_accuracy: 0.5806\n",
      "Epoch 79/100\n",
      "146/146 [==============================] - 0s 2ms/step - loss: 0.4264 - accuracy: 0.7966 - val_loss: 0.9637 - val_accuracy: 0.5744\n",
      "Epoch 80/100\n",
      "146/146 [==============================] - 0s 2ms/step - loss: 0.4258 - accuracy: 0.7948 - val_loss: 0.9743 - val_accuracy: 0.5759\n",
      "Epoch 81/100\n",
      "146/146 [==============================] - 0s 2ms/step - loss: 0.4238 - accuracy: 0.7964 - val_loss: 0.9842 - val_accuracy: 0.5830\n",
      "Epoch 82/100\n",
      "146/146 [==============================] - 0s 2ms/step - loss: 0.4231 - accuracy: 0.7968 - val_loss: 0.9872 - val_accuracy: 0.5776\n",
      "Epoch 83/100\n",
      "146/146 [==============================] - 0s 2ms/step - loss: 0.4216 - accuracy: 0.7979 - val_loss: 0.9816 - val_accuracy: 0.5806\n",
      "Epoch 84/100\n",
      "146/146 [==============================] - 0s 2ms/step - loss: 0.4214 - accuracy: 0.7992 - val_loss: 1.0015 - val_accuracy: 0.5812\n",
      "Epoch 85/100\n",
      "146/146 [==============================] - 0s 2ms/step - loss: 0.4194 - accuracy: 0.7999 - val_loss: 1.0058 - val_accuracy: 0.5760\n",
      "Epoch 86/100\n",
      "146/146 [==============================] - 0s 2ms/step - loss: 0.4170 - accuracy: 0.8024 - val_loss: 1.0023 - val_accuracy: 0.5775\n",
      "Epoch 87/100\n",
      "146/146 [==============================] - 0s 2ms/step - loss: 0.4177 - accuracy: 0.8006 - val_loss: 1.0096 - val_accuracy: 0.5791\n",
      "Epoch 88/100\n",
      "146/146 [==============================] - 0s 2ms/step - loss: 0.4173 - accuracy: 0.8000 - val_loss: 1.0075 - val_accuracy: 0.5747\n",
      "Epoch 89/100\n",
      "146/146 [==============================] - 0s 2ms/step - loss: 0.4152 - accuracy: 0.8021 - val_loss: 1.0141 - val_accuracy: 0.5762\n",
      "Epoch 90/100\n",
      "146/146 [==============================] - 0s 2ms/step - loss: 0.4148 - accuracy: 0.8029 - val_loss: 1.0249 - val_accuracy: 0.5810\n",
      "Epoch 91/100\n",
      "146/146 [==============================] - 0s 2ms/step - loss: 0.4145 - accuracy: 0.8024 - val_loss: 1.0206 - val_accuracy: 0.5792\n",
      "Epoch 92/100\n",
      "146/146 [==============================] - 0s 2ms/step - loss: 0.4129 - accuracy: 0.8031 - val_loss: 1.0278 - val_accuracy: 0.5816\n",
      "Epoch 93/100\n",
      "146/146 [==============================] - 0s 2ms/step - loss: 0.4111 - accuracy: 0.8043 - val_loss: 1.0249 - val_accuracy: 0.5785\n",
      "Epoch 94/100\n",
      "146/146 [==============================] - 0s 2ms/step - loss: 0.4098 - accuracy: 0.8058 - val_loss: 1.0400 - val_accuracy: 0.5762\n",
      "Epoch 95/100\n",
      "146/146 [==============================] - 0s 2ms/step - loss: 0.4080 - accuracy: 0.8061 - val_loss: 1.0233 - val_accuracy: 0.5776\n",
      "Epoch 96/100\n",
      "146/146 [==============================] - 0s 2ms/step - loss: 0.4084 - accuracy: 0.8070 - val_loss: 1.0446 - val_accuracy: 0.5720\n",
      "Epoch 97/100\n",
      "146/146 [==============================] - 0s 2ms/step - loss: 0.4074 - accuracy: 0.8066 - val_loss: 1.0384 - val_accuracy: 0.5783\n",
      "Epoch 98/100\n",
      "146/146 [==============================] - 0s 2ms/step - loss: 0.4082 - accuracy: 0.8067 - val_loss: 1.0499 - val_accuracy: 0.5777\n",
      "Epoch 99/100\n",
      "146/146 [==============================] - 0s 2ms/step - loss: 0.4076 - accuracy: 0.8053 - val_loss: 1.0485 - val_accuracy: 0.5799\n",
      "Epoch 100/100\n",
      "146/146 [==============================] - 0s 2ms/step - loss: 0.4053 - accuracy: 0.8085 - val_loss: 1.0521 - val_accuracy: 0.5769\n"
     ]
    }
   ],
   "source": [
    "# Fit the model\n",
    "# What are all the possible components here? What are the areas we explored on Thursday?\n",
    "\n",
    "history= model.fit(Z_train, y_train, validation_data=(Z_test, y_test), epochs=100, batch_size=512, verbose=1)\n"
   ]
  },
  {
   "cell_type": "code",
   "execution_count": 62,
   "metadata": {},
   "outputs": [
    {
     "name": "stdout",
     "output_type": "stream",
     "text": [
      "Epoch 1/100\n",
      "146/146 [==============================] - 1s 4ms/step - loss: 0.6795 - accuracy: 0.5701 - val_loss: 0.6540 - val_accuracy: 0.6154\n",
      "Epoch 2/100\n",
      "146/146 [==============================] - 0s 3ms/step - loss: 0.6531 - accuracy: 0.6149 - val_loss: 0.6454 - val_accuracy: 0.6277\n",
      "Epoch 3/100\n",
      "146/146 [==============================] - 0s 3ms/step - loss: 0.6467 - accuracy: 0.6234 - val_loss: 0.6428 - val_accuracy: 0.6278\n",
      "Epoch 4/100\n",
      "146/146 [==============================] - 1s 4ms/step - loss: 0.6431 - accuracy: 0.6294 - val_loss: 0.6405 - val_accuracy: 0.6342\n",
      "Epoch 5/100\n",
      "146/146 [==============================] - 1s 3ms/step - loss: 0.6396 - accuracy: 0.6323 - val_loss: 0.6407 - val_accuracy: 0.6329\n",
      "Epoch 6/100\n",
      "146/146 [==============================] - 1s 4ms/step - loss: 0.6382 - accuracy: 0.6357 - val_loss: 0.6377 - val_accuracy: 0.6353\n",
      "Epoch 7/100\n",
      "146/146 [==============================] - 1s 3ms/step - loss: 0.6371 - accuracy: 0.6348 - val_loss: 0.6389 - val_accuracy: 0.6348\n",
      "Epoch 8/100\n",
      "146/146 [==============================] - 1s 4ms/step - loss: 0.6347 - accuracy: 0.6404 - val_loss: 0.6373 - val_accuracy: 0.6366\n",
      "Epoch 9/100\n",
      "146/146 [==============================] - 1s 3ms/step - loss: 0.6337 - accuracy: 0.6414 - val_loss: 0.6372 - val_accuracy: 0.6371\n",
      "Epoch 10/100\n",
      "146/146 [==============================] - 1s 3ms/step - loss: 0.6324 - accuracy: 0.6430 - val_loss: 0.6362 - val_accuracy: 0.6372\n",
      "Epoch 11/100\n",
      "146/146 [==============================] - 0s 3ms/step - loss: 0.6307 - accuracy: 0.6435 - val_loss: 0.6362 - val_accuracy: 0.6360\n",
      "Epoch 12/100\n",
      "146/146 [==============================] - 1s 3ms/step - loss: 0.6297 - accuracy: 0.6440 - val_loss: 0.6366 - val_accuracy: 0.6362\n",
      "Epoch 13/100\n",
      "146/146 [==============================] - 1s 4ms/step - loss: 0.6292 - accuracy: 0.6462 - val_loss: 0.6369 - val_accuracy: 0.6351\n",
      "Epoch 14/100\n",
      "146/146 [==============================] - 0s 3ms/step - loss: 0.6270 - accuracy: 0.6480 - val_loss: 0.6376 - val_accuracy: 0.6378\n",
      "Epoch 15/100\n",
      "146/146 [==============================] - 0s 3ms/step - loss: 0.6261 - accuracy: 0.6487 - val_loss: 0.6362 - val_accuracy: 0.6372\n",
      "Epoch 16/100\n",
      "146/146 [==============================] - 0s 3ms/step - loss: 0.6246 - accuracy: 0.6500 - val_loss: 0.6362 - val_accuracy: 0.6369\n",
      "Epoch 17/100\n",
      "146/146 [==============================] - 1s 3ms/step - loss: 0.6242 - accuracy: 0.6517 - val_loss: 0.6366 - val_accuracy: 0.6345\n",
      "Epoch 18/100\n",
      "146/146 [==============================] - 1s 4ms/step - loss: 0.6228 - accuracy: 0.6522 - val_loss: 0.6362 - val_accuracy: 0.6365\n",
      "Epoch 19/100\n",
      "146/146 [==============================] - 1s 3ms/step - loss: 0.6220 - accuracy: 0.6510 - val_loss: 0.6371 - val_accuracy: 0.6349\n",
      "Epoch 20/100\n",
      "146/146 [==============================] - 0s 3ms/step - loss: 0.6211 - accuracy: 0.6522 - val_loss: 0.6373 - val_accuracy: 0.6362\n",
      "Epoch 21/100\n",
      "146/146 [==============================] - 1s 3ms/step - loss: 0.6201 - accuracy: 0.6545 - val_loss: 0.6369 - val_accuracy: 0.6363\n",
      "Epoch 22/100\n",
      "146/146 [==============================] - 1s 4ms/step - loss: 0.6194 - accuracy: 0.6559 - val_loss: 0.6369 - val_accuracy: 0.6372\n",
      "Epoch 23/100\n",
      "146/146 [==============================] - 0s 3ms/step - loss: 0.6190 - accuracy: 0.6545 - val_loss: 0.6381 - val_accuracy: 0.6343\n",
      "Epoch 24/100\n",
      "146/146 [==============================] - 1s 3ms/step - loss: 0.6176 - accuracy: 0.6570 - val_loss: 0.6381 - val_accuracy: 0.6333\n",
      "Epoch 25/100\n",
      "146/146 [==============================] - 1s 3ms/step - loss: 0.6180 - accuracy: 0.6570 - val_loss: 0.6381 - val_accuracy: 0.6327\n",
      "Epoch 26/100\n",
      "146/146 [==============================] - 1s 3ms/step - loss: 0.6163 - accuracy: 0.6579 - val_loss: 0.6373 - val_accuracy: 0.6332\n",
      "Epoch 27/100\n",
      "146/146 [==============================] - 1s 3ms/step - loss: 0.6147 - accuracy: 0.6588 - val_loss: 0.6379 - val_accuracy: 0.6353\n",
      "Epoch 28/100\n",
      "146/146 [==============================] - 0s 3ms/step - loss: 0.6149 - accuracy: 0.6580 - val_loss: 0.6387 - val_accuracy: 0.6341\n",
      "Epoch 29/100\n",
      "146/146 [==============================] - 1s 3ms/step - loss: 0.6150 - accuracy: 0.6588 - val_loss: 0.6384 - val_accuracy: 0.6330\n",
      "Epoch 30/100\n",
      "146/146 [==============================] - 0s 3ms/step - loss: 0.6133 - accuracy: 0.6598 - val_loss: 0.6394 - val_accuracy: 0.6341\n",
      "Epoch 31/100\n",
      "146/146 [==============================] - 0s 3ms/step - loss: 0.6124 - accuracy: 0.6614 - val_loss: 0.6397 - val_accuracy: 0.6306\n",
      "Epoch 32/100\n",
      "146/146 [==============================] - 0s 3ms/step - loss: 0.6121 - accuracy: 0.6617 - val_loss: 0.6403 - val_accuracy: 0.6348\n",
      "Epoch 33/100\n",
      "146/146 [==============================] - 1s 3ms/step - loss: 0.6121 - accuracy: 0.6610 - val_loss: 0.6407 - val_accuracy: 0.6306\n",
      "Epoch 34/100\n",
      "146/146 [==============================] - 1s 4ms/step - loss: 0.6107 - accuracy: 0.6647 - val_loss: 0.6388 - val_accuracy: 0.6320\n",
      "Epoch 35/100\n",
      "146/146 [==============================] - 1s 4ms/step - loss: 0.6088 - accuracy: 0.6641 - val_loss: 0.6420 - val_accuracy: 0.6296\n",
      "Epoch 36/100\n",
      "146/146 [==============================] - 1s 3ms/step - loss: 0.6091 - accuracy: 0.6652 - val_loss: 0.6407 - val_accuracy: 0.6323\n",
      "Epoch 37/100\n",
      "146/146 [==============================] - 1s 3ms/step - loss: 0.6082 - accuracy: 0.6638 - val_loss: 0.6410 - val_accuracy: 0.6316\n",
      "Epoch 38/100\n",
      "146/146 [==============================] - 1s 3ms/step - loss: 0.6083 - accuracy: 0.6634 - val_loss: 0.6412 - val_accuracy: 0.6304\n",
      "Epoch 39/100\n",
      "146/146 [==============================] - 1s 3ms/step - loss: 0.6075 - accuracy: 0.6658 - val_loss: 0.6408 - val_accuracy: 0.6317\n",
      "Epoch 40/100\n",
      "146/146 [==============================] - 0s 3ms/step - loss: 0.6067 - accuracy: 0.6665 - val_loss: 0.6414 - val_accuracy: 0.6271\n",
      "Epoch 41/100\n",
      "146/146 [==============================] - 1s 3ms/step - loss: 0.6077 - accuracy: 0.6670 - val_loss: 0.6413 - val_accuracy: 0.6292\n",
      "Epoch 42/100\n",
      "146/146 [==============================] - 1s 4ms/step - loss: 0.6057 - accuracy: 0.6662 - val_loss: 0.6414 - val_accuracy: 0.6297\n",
      "Epoch 43/100\n",
      "146/146 [==============================] - 0s 3ms/step - loss: 0.6046 - accuracy: 0.6697 - val_loss: 0.6429 - val_accuracy: 0.6259\n",
      "Epoch 44/100\n",
      "146/146 [==============================] - 0s 3ms/step - loss: 0.6042 - accuracy: 0.6672 - val_loss: 0.6427 - val_accuracy: 0.6273\n",
      "Epoch 45/100\n",
      "146/146 [==============================] - 0s 3ms/step - loss: 0.6018 - accuracy: 0.6694 - val_loss: 0.6433 - val_accuracy: 0.6282\n",
      "Epoch 46/100\n",
      "146/146 [==============================] - 1s 3ms/step - loss: 0.6025 - accuracy: 0.6699 - val_loss: 0.6432 - val_accuracy: 0.6261\n",
      "Epoch 47/100\n",
      "146/146 [==============================] - 1s 3ms/step - loss: 0.6030 - accuracy: 0.6704 - val_loss: 0.6427 - val_accuracy: 0.6271\n",
      "Epoch 48/100\n",
      "146/146 [==============================] - 0s 3ms/step - loss: 0.6008 - accuracy: 0.6709 - val_loss: 0.6436 - val_accuracy: 0.6243\n",
      "Epoch 49/100\n",
      "146/146 [==============================] - 1s 3ms/step - loss: 0.6029 - accuracy: 0.6699 - val_loss: 0.6440 - val_accuracy: 0.6249\n",
      "Epoch 50/100\n",
      "146/146 [==============================] - 0s 3ms/step - loss: 0.6016 - accuracy: 0.6684 - val_loss: 0.6438 - val_accuracy: 0.6275\n",
      "Epoch 51/100\n",
      "146/146 [==============================] - 1s 3ms/step - loss: 0.6007 - accuracy: 0.6721 - val_loss: 0.6441 - val_accuracy: 0.6247\n",
      "Epoch 52/100\n",
      "146/146 [==============================] - 0s 3ms/step - loss: 0.5990 - accuracy: 0.6745 - val_loss: 0.6447 - val_accuracy: 0.6239\n",
      "Epoch 53/100\n",
      "146/146 [==============================] - 0s 3ms/step - loss: 0.5991 - accuracy: 0.6730 - val_loss: 0.6457 - val_accuracy: 0.6254\n",
      "Epoch 54/100\n",
      "146/146 [==============================] - 1s 3ms/step - loss: 0.5989 - accuracy: 0.6728 - val_loss: 0.6451 - val_accuracy: 0.6239\n",
      "Epoch 55/100\n",
      "146/146 [==============================] - 0s 3ms/step - loss: 0.5976 - accuracy: 0.6749 - val_loss: 0.6455 - val_accuracy: 0.6257\n",
      "Epoch 56/100\n",
      "146/146 [==============================] - 0s 3ms/step - loss: 0.5979 - accuracy: 0.6736 - val_loss: 0.6458 - val_accuracy: 0.6253\n",
      "Epoch 57/100\n",
      "146/146 [==============================] - 0s 3ms/step - loss: 0.5962 - accuracy: 0.6735 - val_loss: 0.6465 - val_accuracy: 0.6257\n"
     ]
    },
    {
     "name": "stdout",
     "output_type": "stream",
     "text": [
      "Epoch 58/100\n",
      "146/146 [==============================] - 1s 4ms/step - loss: 0.5964 - accuracy: 0.6740 - val_loss: 0.6464 - val_accuracy: 0.6249\n",
      "Epoch 59/100\n",
      "146/146 [==============================] - 1s 3ms/step - loss: 0.5957 - accuracy: 0.6749 - val_loss: 0.6462 - val_accuracy: 0.6256\n",
      "Epoch 60/100\n",
      "146/146 [==============================] - 0s 3ms/step - loss: 0.5975 - accuracy: 0.6752 - val_loss: 0.6471 - val_accuracy: 0.6233\n",
      "Epoch 61/100\n",
      "146/146 [==============================] - 1s 3ms/step - loss: 0.5955 - accuracy: 0.6759 - val_loss: 0.6482 - val_accuracy: 0.6209\n",
      "Epoch 62/100\n",
      "146/146 [==============================] - 1s 3ms/step - loss: 0.5955 - accuracy: 0.6766 - val_loss: 0.6467 - val_accuracy: 0.6253\n",
      "Epoch 63/100\n",
      "146/146 [==============================] - 1s 3ms/step - loss: 0.5954 - accuracy: 0.6755 - val_loss: 0.6474 - val_accuracy: 0.6256\n",
      "Epoch 64/100\n",
      "146/146 [==============================] - 0s 3ms/step - loss: 0.5931 - accuracy: 0.6785 - val_loss: 0.6483 - val_accuracy: 0.6249\n",
      "Epoch 65/100\n",
      "146/146 [==============================] - 1s 3ms/step - loss: 0.5951 - accuracy: 0.6756 - val_loss: 0.6478 - val_accuracy: 0.6247\n",
      "Epoch 66/100\n",
      "146/146 [==============================] - 0s 3ms/step - loss: 0.5937 - accuracy: 0.6773 - val_loss: 0.6477 - val_accuracy: 0.6246\n",
      "Epoch 67/100\n",
      "146/146 [==============================] - 1s 3ms/step - loss: 0.5940 - accuracy: 0.6775 - val_loss: 0.6481 - val_accuracy: 0.6243\n",
      "Epoch 68/100\n",
      "146/146 [==============================] - 0s 3ms/step - loss: 0.5925 - accuracy: 0.6771 - val_loss: 0.6482 - val_accuracy: 0.6244\n",
      "Epoch 69/100\n",
      "146/146 [==============================] - 0s 3ms/step - loss: 0.5933 - accuracy: 0.6778 - val_loss: 0.6463 - val_accuracy: 0.6255\n",
      "Epoch 70/100\n",
      "146/146 [==============================] - 0s 3ms/step - loss: 0.5915 - accuracy: 0.6780 - val_loss: 0.6492 - val_accuracy: 0.6220\n",
      "Epoch 71/100\n",
      "146/146 [==============================] - 1s 4ms/step - loss: 0.5909 - accuracy: 0.6795 - val_loss: 0.6497 - val_accuracy: 0.6218\n",
      "Epoch 72/100\n",
      "146/146 [==============================] - 1s 3ms/step - loss: 0.5919 - accuracy: 0.6778 - val_loss: 0.6488 - val_accuracy: 0.6252\n",
      "Epoch 73/100\n",
      "146/146 [==============================] - 0s 3ms/step - loss: 0.5901 - accuracy: 0.6785 - val_loss: 0.6498 - val_accuracy: 0.6199\n",
      "Epoch 74/100\n",
      "146/146 [==============================] - 0s 3ms/step - loss: 0.5897 - accuracy: 0.6809 - val_loss: 0.6499 - val_accuracy: 0.6226\n",
      "Epoch 75/100\n",
      "146/146 [==============================] - 1s 4ms/step - loss: 0.5896 - accuracy: 0.6801 - val_loss: 0.6496 - val_accuracy: 0.6222\n",
      "Epoch 76/100\n",
      "146/146 [==============================] - 1s 3ms/step - loss: 0.5901 - accuracy: 0.6797 - val_loss: 0.6494 - val_accuracy: 0.6246\n",
      "Epoch 77/100\n",
      "146/146 [==============================] - 1s 3ms/step - loss: 0.5890 - accuracy: 0.6809 - val_loss: 0.6505 - val_accuracy: 0.6215\n",
      "Epoch 78/100\n",
      "146/146 [==============================] - 1s 3ms/step - loss: 0.5894 - accuracy: 0.6819 - val_loss: 0.6507 - val_accuracy: 0.6218\n",
      "Epoch 79/100\n",
      "146/146 [==============================] - 1s 4ms/step - loss: 0.5879 - accuracy: 0.6826 - val_loss: 0.6511 - val_accuracy: 0.6214\n",
      "Epoch 80/100\n",
      "146/146 [==============================] - 0s 3ms/step - loss: 0.5884 - accuracy: 0.6803 - val_loss: 0.6501 - val_accuracy: 0.6232\n",
      "Epoch 81/100\n",
      "146/146 [==============================] - 1s 3ms/step - loss: 0.5878 - accuracy: 0.6810 - val_loss: 0.6508 - val_accuracy: 0.6226\n",
      "Epoch 82/100\n",
      "146/146 [==============================] - 1s 3ms/step - loss: 0.5869 - accuracy: 0.6824 - val_loss: 0.6507 - val_accuracy: 0.6257\n",
      "Epoch 83/100\n",
      "146/146 [==============================] - 1s 3ms/step - loss: 0.5879 - accuracy: 0.6816 - val_loss: 0.6513 - val_accuracy: 0.6244\n",
      "Epoch 84/100\n",
      "146/146 [==============================] - 0s 3ms/step - loss: 0.5869 - accuracy: 0.6835 - val_loss: 0.6516 - val_accuracy: 0.6226\n",
      "Epoch 85/100\n",
      "146/146 [==============================] - 1s 3ms/step - loss: 0.5874 - accuracy: 0.6841 - val_loss: 0.6527 - val_accuracy: 0.6221\n",
      "Epoch 86/100\n",
      "146/146 [==============================] - 0s 3ms/step - loss: 0.5854 - accuracy: 0.6855 - val_loss: 0.6521 - val_accuracy: 0.6191\n",
      "Epoch 87/100\n",
      "146/146 [==============================] - 1s 3ms/step - loss: 0.5868 - accuracy: 0.6829 - val_loss: 0.6506 - val_accuracy: 0.6204\n",
      "Epoch 88/100\n",
      "146/146 [==============================] - 0s 3ms/step - loss: 0.5862 - accuracy: 0.6828 - val_loss: 0.6513 - val_accuracy: 0.6255\n",
      "Epoch 89/100\n",
      "146/146 [==============================] - 0s 3ms/step - loss: 0.5847 - accuracy: 0.6828 - val_loss: 0.6538 - val_accuracy: 0.6219\n",
      "Epoch 90/100\n",
      "146/146 [==============================] - 0s 3ms/step - loss: 0.5852 - accuracy: 0.6851 - val_loss: 0.6539 - val_accuracy: 0.6201\n",
      "Epoch 91/100\n",
      "146/146 [==============================] - 1s 4ms/step - loss: 0.5858 - accuracy: 0.6828 - val_loss: 0.6526 - val_accuracy: 0.6212\n",
      "Epoch 92/100\n",
      "146/146 [==============================] - 0s 3ms/step - loss: 0.5856 - accuracy: 0.6836 - val_loss: 0.6530 - val_accuracy: 0.6195\n",
      "Epoch 93/100\n",
      "146/146 [==============================] - 1s 3ms/step - loss: 0.5845 - accuracy: 0.6848 - val_loss: 0.6553 - val_accuracy: 0.6163\n",
      "Epoch 94/100\n",
      "146/146 [==============================] - 0s 3ms/step - loss: 0.5835 - accuracy: 0.6859 - val_loss: 0.6548 - val_accuracy: 0.6200\n",
      "Epoch 95/100\n",
      "146/146 [==============================] - 1s 3ms/step - loss: 0.5847 - accuracy: 0.6840 - val_loss: 0.6538 - val_accuracy: 0.6186\n",
      "Epoch 96/100\n",
      "146/146 [==============================] - 1s 3ms/step - loss: 0.5841 - accuracy: 0.6851 - val_loss: 0.6540 - val_accuracy: 0.6167\n",
      "Epoch 97/100\n",
      "146/146 [==============================] - 0s 3ms/step - loss: 0.5835 - accuracy: 0.6843 - val_loss: 0.6554 - val_accuracy: 0.6223\n",
      "Epoch 98/100\n",
      "146/146 [==============================] - 0s 3ms/step - loss: 0.5835 - accuracy: 0.6857 - val_loss: 0.6536 - val_accuracy: 0.6193\n",
      "Epoch 99/100\n",
      "146/146 [==============================] - 1s 3ms/step - loss: 0.5826 - accuracy: 0.6865 - val_loss: 0.6546 - val_accuracy: 0.6178\n",
      "Epoch 100/100\n",
      "146/146 [==============================] - 0s 3ms/step - loss: 0.5821 - accuracy: 0.6860 - val_loss: 0.6553 - val_accuracy: 0.6172\n"
     ]
    }
   ],
   "source": [
    "# Fit the model\n",
    "# What are all the possible components here? What are the areas we explored on Thursday?\n",
    "\n",
    "history_dropout= model_dropout.fit(Z_train, y_train, validation_data=(Z_test, y_test), epochs=100, batch_size=512, verbose=1)\n"
   ]
  },
  {
   "cell_type": "code",
   "execution_count": 63,
   "metadata": {},
   "outputs": [
    {
     "data": {
      "image/png": "[encoded data removed]",
      "text/plain": [
       "<Figure size 864x576 with 1 Axes>"
      ]
     },
     "metadata": {
      "needs_background": "light"
     },
     "output_type": "display_data"
    }
   ],
   "source": [
    "# Visualize loss\n",
    "train_loss = history.history['loss']\n",
    "test_loss = history.history['val_loss']\n",
    "\n",
    "\n",
    "train_loss_dropout = history_dropout.history['loss']\n",
    "test_loss_dropout = history_dropout.history['val_loss']\n",
    "\n",
    "plt.figure(figsize=(12, 8))\n",
    "plt.plot(train_loss, label='Training loss', color='navy')\n",
    "plt.plot(test_loss, label='Testing loss', color='skyblue')\n",
    "plt.plot(train_loss_dropout, label='Dropout Training loss', color='darkgreen')\n",
    "plt.plot(test_loss_dropout, label='Dropout Testing loss', color='lightgreen')\n",
    "plt.legend();"
   ]
  }
 ],
 "metadata": {
  "kernelspec": {
   "display_name": "Python 3",
   "language": "python",
   "name": "python3"
  },
  "language_info": {
   "codemirror_mode": {
    "name": "ipython",
    "version": 3
   },
   "file_extension": ".py",
   "mimetype": "text/x-python",
   "name": "python",
   "nbconvert_exporter": "python",
   "pygments_lexer": "ipython3",
   "version": "3.8.3"
  }
 },
 "nbformat": 4,
 "nbformat_minor": 4
}
